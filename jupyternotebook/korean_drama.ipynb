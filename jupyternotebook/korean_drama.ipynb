{
 "cells": [
  {
   "cell_type": "markdown",
   "metadata": {},
   "source": [
    "# Análisis de datos de los dramas coreanos"
   ]
  },
  {
   "cell_type": "code",
   "execution_count": 1,
   "metadata": {},
   "outputs": [],
   "source": [
    "import pandas as pd\n",
    "from rich import print\n",
    "import numpy as np"
   ]
  },
  {
   "cell_type": "code",
   "execution_count": 2,
   "metadata": {},
   "outputs": [
    {
     "data": {
      "text/html": [
       "<div>\n",
       "<style scoped>\n",
       "    .dataframe tbody tr th:only-of-type {\n",
       "        vertical-align: middle;\n",
       "    }\n",
       "\n",
       "    .dataframe tbody tr th {\n",
       "        vertical-align: top;\n",
       "    }\n",
       "\n",
       "    .dataframe thead th {\n",
       "        text-align: right;\n",
       "    }\n",
       "</style>\n",
       "<table border=\"1\" class=\"dataframe\">\n",
       "  <thead>\n",
       "    <tr style=\"text-align: right;\">\n",
       "      <th></th>\n",
       "      <th>drama_name</th>\n",
       "      <th>year</th>\n",
       "      <th>director</th>\n",
       "      <th>screenwriter</th>\n",
       "      <th>country</th>\n",
       "      <th>type</th>\n",
       "      <th>tot_eps</th>\n",
       "      <th>duration</th>\n",
       "      <th>start_dt</th>\n",
       "      <th>end_dt</th>\n",
       "      <th>aired_on</th>\n",
       "      <th>org_net</th>\n",
       "      <th>content_rt</th>\n",
       "      <th>synopsis</th>\n",
       "      <th>rank</th>\n",
       "      <th>pop</th>\n",
       "    </tr>\n",
       "    <tr>\n",
       "      <th>kdrama_id</th>\n",
       "      <th></th>\n",
       "      <th></th>\n",
       "      <th></th>\n",
       "      <th></th>\n",
       "      <th></th>\n",
       "      <th></th>\n",
       "      <th></th>\n",
       "      <th></th>\n",
       "      <th></th>\n",
       "      <th></th>\n",
       "      <th></th>\n",
       "      <th></th>\n",
       "      <th></th>\n",
       "      <th></th>\n",
       "      <th></th>\n",
       "      <th></th>\n",
       "    </tr>\n",
       "  </thead>\n",
       "  <tbody>\n",
       "    <tr>\n",
       "      <th>661d4193916c4e71a2c70473ab11e9e8</th>\n",
       "      <td>Sing My Crush</td>\n",
       "      <td>2023</td>\n",
       "      <td>['So Joon Moon']</td>\n",
       "      <td>NaN</td>\n",
       "      <td>South Korea</td>\n",
       "      <td>Drama</td>\n",
       "      <td>8</td>\n",
       "      <td>1500.0</td>\n",
       "      <td>Aug  2, 2023</td>\n",
       "      <td>Aug  2, 2023</td>\n",
       "      <td>Wednesday</td>\n",
       "      <td>NaN</td>\n",
       "      <td>Not Yet Rated</td>\n",
       "      <td>Follow the story of acquaintances Ba Ram and H...</td>\n",
       "      <td>1484</td>\n",
       "      <td>2238</td>\n",
       "    </tr>\n",
       "    <tr>\n",
       "      <th>5ffcbeaa17114714af1959129984274c</th>\n",
       "      <td>D.P. Season 2</td>\n",
       "      <td>2023</td>\n",
       "      <td>NaN</td>\n",
       "      <td>['Kim Bo Tong']</td>\n",
       "      <td>South Korea</td>\n",
       "      <td>Drama</td>\n",
       "      <td>6</td>\n",
       "      <td>3000.0</td>\n",
       "      <td>Jul 28, 2023</td>\n",
       "      <td>Jul 28, 2023</td>\n",
       "      <td>Friday</td>\n",
       "      <td>Netflix</td>\n",
       "      <td>15+ - Teens 15 or older</td>\n",
       "      <td>This unfolding story ensues when military dese...</td>\n",
       "      <td>164</td>\n",
       "      <td>1084</td>\n",
       "    </tr>\n",
       "    <tr>\n",
       "      <th>65075cb9c1a54be4a441cee6f16c9fdf</th>\n",
       "      <td>Shadow Detective Season 2</td>\n",
       "      <td>2023</td>\n",
       "      <td>['Han Dong Hwa']</td>\n",
       "      <td>['Song Jung Woo', 'Hwang Seol Hun']</td>\n",
       "      <td>South Korea</td>\n",
       "      <td>Drama</td>\n",
       "      <td>8</td>\n",
       "      <td>3300.0</td>\n",
       "      <td>2023-07-05</td>\n",
       "      <td>2023-07-26</td>\n",
       "      <td>Wednesday</td>\n",
       "      <td>Disney+ Hulu</td>\n",
       "      <td>15+ - Teens 15 or older</td>\n",
       "      <td>Unfolds the ultimate counterattack of veteran ...</td>\n",
       "      <td>2443</td>\n",
       "      <td>6915</td>\n",
       "    </tr>\n",
       "    <tr>\n",
       "      <th>df0f0ac4b3ff4b15afa26f5a7a53a328</th>\n",
       "      <td>To Be Honest</td>\n",
       "      <td>2023</td>\n",
       "      <td>NaN</td>\n",
       "      <td>NaN</td>\n",
       "      <td>South Korea</td>\n",
       "      <td>Drama</td>\n",
       "      <td>3</td>\n",
       "      <td>600.0</td>\n",
       "      <td>2023-06-30</td>\n",
       "      <td>2023-07-14</td>\n",
       "      <td>Friday</td>\n",
       "      <td>NaN</td>\n",
       "      <td>Not Yet Rated</td>\n",
       "      <td>Don't you have those days where the whole univ...</td>\n",
       "      <td>49895</td>\n",
       "      <td>99999</td>\n",
       "    </tr>\n",
       "    <tr>\n",
       "      <th>04c1fe41948e464fb440001831d74d41</th>\n",
       "      <td>Celebrity</td>\n",
       "      <td>2023</td>\n",
       "      <td>['Kim Chul Gyu']</td>\n",
       "      <td>['Kim Yi Young']</td>\n",
       "      <td>South Korea</td>\n",
       "      <td>Drama</td>\n",
       "      <td>12</td>\n",
       "      <td>2700.0</td>\n",
       "      <td>Jun 30, 2023</td>\n",
       "      <td>Jun 30, 2023</td>\n",
       "      <td>Friday</td>\n",
       "      <td>Netflix</td>\n",
       "      <td>18+ Restricted (violence &amp; profanity)</td>\n",
       "      <td>Fame. Money. Power. One young woman fights to ...</td>\n",
       "      <td>826</td>\n",
       "      <td>547</td>\n",
       "    </tr>\n",
       "    <tr>\n",
       "      <th>...</th>\n",
       "      <td>...</td>\n",
       "      <td>...</td>\n",
       "      <td>...</td>\n",
       "      <td>...</td>\n",
       "      <td>...</td>\n",
       "      <td>...</td>\n",
       "      <td>...</td>\n",
       "      <td>...</td>\n",
       "      <td>...</td>\n",
       "      <td>...</td>\n",
       "      <td>...</td>\n",
       "      <td>...</td>\n",
       "      <td>...</td>\n",
       "      <td>...</td>\n",
       "      <td>...</td>\n",
       "      <td>...</td>\n",
       "    </tr>\n",
       "    <tr>\n",
       "      <th>e8c09f0f7d0d4b75a4642eb06d76d811</th>\n",
       "      <td>Kill Me, Heal Me</td>\n",
       "      <td>2015</td>\n",
       "      <td>['Kim Jin Man', 'Kim Dae Jin']</td>\n",
       "      <td>['Jin Soo Wan']</td>\n",
       "      <td>South Korea</td>\n",
       "      <td>Drama</td>\n",
       "      <td>20</td>\n",
       "      <td>3720.0</td>\n",
       "      <td>2015-01-07</td>\n",
       "      <td>2015-03-12</td>\n",
       "      <td>Wednesday, Thursday</td>\n",
       "      <td>MBC</td>\n",
       "      <td>15+ - Teens 15 or older</td>\n",
       "      <td>A traumatic childhood experience leaves Cha Do...</td>\n",
       "      <td>232</td>\n",
       "      <td>29</td>\n",
       "    </tr>\n",
       "    <tr>\n",
       "      <th>1e7f7f2fa45d4240b8bb585ca13040f0</th>\n",
       "      <td>Enchanting Neighbor</td>\n",
       "      <td>2015</td>\n",
       "      <td>['Park Kyung Ryul']</td>\n",
       "      <td>['Park Hye Ryun']</td>\n",
       "      <td>South Korea</td>\n",
       "      <td>Drama</td>\n",
       "      <td>120</td>\n",
       "      <td>2100.0</td>\n",
       "      <td>2015-01-05</td>\n",
       "      <td>2015-06-22</td>\n",
       "      <td>Monday, Tuesday, Wednesday, Thursday, Friday</td>\n",
       "      <td>SBS</td>\n",
       "      <td>15+ - Teens 15 or older</td>\n",
       "      <td>Gong Soo Rae only love her husband, Seo Bong G...</td>\n",
       "      <td>47882</td>\n",
       "      <td>10759</td>\n",
       "    </tr>\n",
       "    <tr>\n",
       "      <th>142a09741fdd4daa878d6ae007201e43</th>\n",
       "      <td>Iron Lady Cha</td>\n",
       "      <td>2015</td>\n",
       "      <td>['Jang Joon Ho', 'Oh Hyun Chang']</td>\n",
       "      <td>['Seol Kyung Eun']</td>\n",
       "      <td>South Korea</td>\n",
       "      <td>Drama</td>\n",
       "      <td>111</td>\n",
       "      <td>2400.0</td>\n",
       "      <td>2015-01-05</td>\n",
       "      <td>2015-06-12</td>\n",
       "      <td>Monday, Tuesday, Wednesday, Thursday, Friday</td>\n",
       "      <td>MBC</td>\n",
       "      <td>15+ - Teens 15 or older</td>\n",
       "      <td>People born as a member of the baby boomer gen...</td>\n",
       "      <td>58155</td>\n",
       "      <td>14841</td>\n",
       "    </tr>\n",
       "    <tr>\n",
       "      <th>9170c31a02014b56bb4cec2105086f00</th>\n",
       "      <td>The Family Is Coming</td>\n",
       "      <td>2015</td>\n",
       "      <td>['Joo Dong Min']</td>\n",
       "      <td>['Kim Shin Hye']</td>\n",
       "      <td>South Korea</td>\n",
       "      <td>Drama</td>\n",
       "      <td>20</td>\n",
       "      <td>3600.0</td>\n",
       "      <td>2015-01-03</td>\n",
       "      <td>2015-03-15</td>\n",
       "      <td>Saturday, Sunday</td>\n",
       "      <td>SBS</td>\n",
       "      <td>15+ - Teens 15 or older</td>\n",
       "      <td>A grandma has abandoned her family 50 years ag...</td>\n",
       "      <td>7995</td>\n",
       "      <td>4289</td>\n",
       "    </tr>\n",
       "    <tr>\n",
       "      <th>c19353bdbc7a43ae98b27db202e7c908</th>\n",
       "      <td>Crow Building</td>\n",
       "      <td>2015</td>\n",
       "      <td>NaN</td>\n",
       "      <td>NaN</td>\n",
       "      <td>South Korea</td>\n",
       "      <td>Drama</td>\n",
       "      <td>11</td>\n",
       "      <td>NaN</td>\n",
       "      <td>2015</td>\n",
       "      <td>2015</td>\n",
       "      <td>NaN</td>\n",
       "      <td>NaN</td>\n",
       "      <td>15+ - Teens 15 or older</td>\n",
       "      <td>In this wacky, meta workplace sitcom, a food d...</td>\n",
       "      <td>99999</td>\n",
       "      <td>99999</td>\n",
       "    </tr>\n",
       "  </tbody>\n",
       "</table>\n",
       "<p>1752 rows × 16 columns</p>\n",
       "</div>"
      ],
      "text/plain": [
       "                                                 drama_name  year  \\\n",
       "kdrama_id                                                           \n",
       "661d4193916c4e71a2c70473ab11e9e8              Sing My Crush  2023   \n",
       "5ffcbeaa17114714af1959129984274c              D.P. Season 2  2023   \n",
       "65075cb9c1a54be4a441cee6f16c9fdf  Shadow Detective Season 2  2023   \n",
       "df0f0ac4b3ff4b15afa26f5a7a53a328               To Be Honest  2023   \n",
       "04c1fe41948e464fb440001831d74d41                  Celebrity  2023   \n",
       "...                                                     ...   ...   \n",
       "e8c09f0f7d0d4b75a4642eb06d76d811           Kill Me, Heal Me  2015   \n",
       "1e7f7f2fa45d4240b8bb585ca13040f0        Enchanting Neighbor  2015   \n",
       "142a09741fdd4daa878d6ae007201e43              Iron Lady Cha  2015   \n",
       "9170c31a02014b56bb4cec2105086f00       The Family Is Coming  2015   \n",
       "c19353bdbc7a43ae98b27db202e7c908              Crow Building  2015   \n",
       "\n",
       "                                                           director  \\\n",
       "kdrama_id                                                             \n",
       "661d4193916c4e71a2c70473ab11e9e8                   ['So Joon Moon']   \n",
       "5ffcbeaa17114714af1959129984274c                                NaN   \n",
       "65075cb9c1a54be4a441cee6f16c9fdf                   ['Han Dong Hwa']   \n",
       "df0f0ac4b3ff4b15afa26f5a7a53a328                                NaN   \n",
       "04c1fe41948e464fb440001831d74d41                   ['Kim Chul Gyu']   \n",
       "...                                                             ...   \n",
       "e8c09f0f7d0d4b75a4642eb06d76d811     ['Kim Jin Man', 'Kim Dae Jin']   \n",
       "1e7f7f2fa45d4240b8bb585ca13040f0                ['Park Kyung Ryul']   \n",
       "142a09741fdd4daa878d6ae007201e43  ['Jang Joon Ho', 'Oh Hyun Chang']   \n",
       "9170c31a02014b56bb4cec2105086f00                   ['Joo Dong Min']   \n",
       "c19353bdbc7a43ae98b27db202e7c908                                NaN   \n",
       "\n",
       "                                                         screenwriter  \\\n",
       "kdrama_id                                                               \n",
       "661d4193916c4e71a2c70473ab11e9e8                                  NaN   \n",
       "5ffcbeaa17114714af1959129984274c                      ['Kim Bo Tong']   \n",
       "65075cb9c1a54be4a441cee6f16c9fdf  ['Song Jung Woo', 'Hwang Seol Hun']   \n",
       "df0f0ac4b3ff4b15afa26f5a7a53a328                                  NaN   \n",
       "04c1fe41948e464fb440001831d74d41                     ['Kim Yi Young']   \n",
       "...                                                               ...   \n",
       "e8c09f0f7d0d4b75a4642eb06d76d811                      ['Jin Soo Wan']   \n",
       "1e7f7f2fa45d4240b8bb585ca13040f0                    ['Park Hye Ryun']   \n",
       "142a09741fdd4daa878d6ae007201e43                   ['Seol Kyung Eun']   \n",
       "9170c31a02014b56bb4cec2105086f00                     ['Kim Shin Hye']   \n",
       "c19353bdbc7a43ae98b27db202e7c908                                  NaN   \n",
       "\n",
       "                                      country   type  tot_eps  duration  \\\n",
       "kdrama_id                                                                 \n",
       "661d4193916c4e71a2c70473ab11e9e8  South Korea  Drama        8    1500.0   \n",
       "5ffcbeaa17114714af1959129984274c  South Korea  Drama        6    3000.0   \n",
       "65075cb9c1a54be4a441cee6f16c9fdf  South Korea  Drama        8    3300.0   \n",
       "df0f0ac4b3ff4b15afa26f5a7a53a328  South Korea  Drama        3     600.0   \n",
       "04c1fe41948e464fb440001831d74d41  South Korea  Drama       12    2700.0   \n",
       "...                                       ...    ...      ...       ...   \n",
       "e8c09f0f7d0d4b75a4642eb06d76d811  South Korea  Drama       20    3720.0   \n",
       "1e7f7f2fa45d4240b8bb585ca13040f0  South Korea  Drama      120    2100.0   \n",
       "142a09741fdd4daa878d6ae007201e43  South Korea  Drama      111    2400.0   \n",
       "9170c31a02014b56bb4cec2105086f00  South Korea  Drama       20    3600.0   \n",
       "c19353bdbc7a43ae98b27db202e7c908  South Korea  Drama       11       NaN   \n",
       "\n",
       "                                      start_dt        end_dt  \\\n",
       "kdrama_id                                                      \n",
       "661d4193916c4e71a2c70473ab11e9e8  Aug  2, 2023  Aug  2, 2023   \n",
       "5ffcbeaa17114714af1959129984274c  Jul 28, 2023  Jul 28, 2023   \n",
       "65075cb9c1a54be4a441cee6f16c9fdf    2023-07-05    2023-07-26   \n",
       "df0f0ac4b3ff4b15afa26f5a7a53a328    2023-06-30    2023-07-14   \n",
       "04c1fe41948e464fb440001831d74d41  Jun 30, 2023  Jun 30, 2023   \n",
       "...                                        ...           ...   \n",
       "e8c09f0f7d0d4b75a4642eb06d76d811    2015-01-07    2015-03-12   \n",
       "1e7f7f2fa45d4240b8bb585ca13040f0    2015-01-05    2015-06-22   \n",
       "142a09741fdd4daa878d6ae007201e43    2015-01-05    2015-06-12   \n",
       "9170c31a02014b56bb4cec2105086f00    2015-01-03    2015-03-15   \n",
       "c19353bdbc7a43ae98b27db202e7c908          2015          2015   \n",
       "\n",
       "                                                                      aired_on  \\\n",
       "kdrama_id                                                                        \n",
       "661d4193916c4e71a2c70473ab11e9e8                                     Wednesday   \n",
       "5ffcbeaa17114714af1959129984274c                                        Friday   \n",
       "65075cb9c1a54be4a441cee6f16c9fdf                                     Wednesday   \n",
       "df0f0ac4b3ff4b15afa26f5a7a53a328                                        Friday   \n",
       "04c1fe41948e464fb440001831d74d41                                        Friday   \n",
       "...                                                                        ...   \n",
       "e8c09f0f7d0d4b75a4642eb06d76d811                           Wednesday, Thursday   \n",
       "1e7f7f2fa45d4240b8bb585ca13040f0  Monday, Tuesday, Wednesday, Thursday, Friday   \n",
       "142a09741fdd4daa878d6ae007201e43  Monday, Tuesday, Wednesday, Thursday, Friday   \n",
       "9170c31a02014b56bb4cec2105086f00                              Saturday, Sunday   \n",
       "c19353bdbc7a43ae98b27db202e7c908                                           NaN   \n",
       "\n",
       "                                       org_net  \\\n",
       "kdrama_id                                        \n",
       "661d4193916c4e71a2c70473ab11e9e8           NaN   \n",
       "5ffcbeaa17114714af1959129984274c       Netflix   \n",
       "65075cb9c1a54be4a441cee6f16c9fdf  Disney+ Hulu   \n",
       "df0f0ac4b3ff4b15afa26f5a7a53a328           NaN   \n",
       "04c1fe41948e464fb440001831d74d41       Netflix   \n",
       "...                                        ...   \n",
       "e8c09f0f7d0d4b75a4642eb06d76d811           MBC   \n",
       "1e7f7f2fa45d4240b8bb585ca13040f0           SBS   \n",
       "142a09741fdd4daa878d6ae007201e43           MBC   \n",
       "9170c31a02014b56bb4cec2105086f00           SBS   \n",
       "c19353bdbc7a43ae98b27db202e7c908           NaN   \n",
       "\n",
       "                                                             content_rt  \\\n",
       "kdrama_id                                                                 \n",
       "661d4193916c4e71a2c70473ab11e9e8                          Not Yet Rated   \n",
       "5ffcbeaa17114714af1959129984274c                15+ - Teens 15 or older   \n",
       "65075cb9c1a54be4a441cee6f16c9fdf                15+ - Teens 15 or older   \n",
       "df0f0ac4b3ff4b15afa26f5a7a53a328                          Not Yet Rated   \n",
       "04c1fe41948e464fb440001831d74d41  18+ Restricted (violence & profanity)   \n",
       "...                                                                 ...   \n",
       "e8c09f0f7d0d4b75a4642eb06d76d811                15+ - Teens 15 or older   \n",
       "1e7f7f2fa45d4240b8bb585ca13040f0                15+ - Teens 15 or older   \n",
       "142a09741fdd4daa878d6ae007201e43                15+ - Teens 15 or older   \n",
       "9170c31a02014b56bb4cec2105086f00                15+ - Teens 15 or older   \n",
       "c19353bdbc7a43ae98b27db202e7c908                15+ - Teens 15 or older   \n",
       "\n",
       "                                                                           synopsis  \\\n",
       "kdrama_id                                                                             \n",
       "661d4193916c4e71a2c70473ab11e9e8  Follow the story of acquaintances Ba Ram and H...   \n",
       "5ffcbeaa17114714af1959129984274c  This unfolding story ensues when military dese...   \n",
       "65075cb9c1a54be4a441cee6f16c9fdf  Unfolds the ultimate counterattack of veteran ...   \n",
       "df0f0ac4b3ff4b15afa26f5a7a53a328  Don't you have those days where the whole univ...   \n",
       "04c1fe41948e464fb440001831d74d41  Fame. Money. Power. One young woman fights to ...   \n",
       "...                                                                             ...   \n",
       "e8c09f0f7d0d4b75a4642eb06d76d811  A traumatic childhood experience leaves Cha Do...   \n",
       "1e7f7f2fa45d4240b8bb585ca13040f0  Gong Soo Rae only love her husband, Seo Bong G...   \n",
       "142a09741fdd4daa878d6ae007201e43  People born as a member of the baby boomer gen...   \n",
       "9170c31a02014b56bb4cec2105086f00  A grandma has abandoned her family 50 years ag...   \n",
       "c19353bdbc7a43ae98b27db202e7c908  In this wacky, meta workplace sitcom, a food d...   \n",
       "\n",
       "                                   rank    pop  \n",
       "kdrama_id                                       \n",
       "661d4193916c4e71a2c70473ab11e9e8   1484   2238  \n",
       "5ffcbeaa17114714af1959129984274c    164   1084  \n",
       "65075cb9c1a54be4a441cee6f16c9fdf   2443   6915  \n",
       "df0f0ac4b3ff4b15afa26f5a7a53a328  49895  99999  \n",
       "04c1fe41948e464fb440001831d74d41    826    547  \n",
       "...                                 ...    ...  \n",
       "e8c09f0f7d0d4b75a4642eb06d76d811    232     29  \n",
       "1e7f7f2fa45d4240b8bb585ca13040f0  47882  10759  \n",
       "142a09741fdd4daa878d6ae007201e43  58155  14841  \n",
       "9170c31a02014b56bb4cec2105086f00   7995   4289  \n",
       "c19353bdbc7a43ae98b27db202e7c908  99999  99999  \n",
       "\n",
       "[1752 rows x 16 columns]"
      ]
     },
     "execution_count": 2,
     "metadata": {},
     "output_type": "execute_result"
    }
   ],
   "source": [
    "k_dramas: pd.DataFrame = pd.read_csv('./../data/csv/korean_drama.csv')\n",
    "k_dramas.set_index('kdrama_id', inplace=True)\n",
    "k_dramas"
   ]
  },
  {
   "cell_type": "code",
   "execution_count": 3,
   "metadata": {},
   "outputs": [
    {
     "data": {
      "text/html": [
       "<pre style=\"white-space:pre;overflow-x:auto;line-height:normal;font-family:Menlo,'DejaVu Sans Mono',consolas,'Courier New',monospace\">k_dramas has <span style=\"color: #008080; text-decoration-color: #008080; font-weight: bold\">1752</span> rows and <span style=\"color: #008080; text-decoration-color: #008080; font-weight: bold\">16</span> columns\n",
       "</pre>\n"
      ],
      "text/plain": [
       "k_dramas has \u001b[1;36m1752\u001b[0m rows and \u001b[1;36m16\u001b[0m columns\n"
      ]
     },
     "metadata": {},
     "output_type": "display_data"
    }
   ],
   "source": [
    "print(f'k_dramas has {k_dramas.shape[0]} rows and {k_dramas.shape[1]} columns')"
   ]
  },
  {
   "cell_type": "code",
   "execution_count": 4,
   "metadata": {},
   "outputs": [
    {
     "data": {
      "text/html": [
       "<pre style=\"white-space:pre;overflow-x:auto;line-height:normal;font-family:Menlo,'DejaVu Sans Mono',consolas,'Courier New',monospace\">The columns of k_dramas dataframe are <span style=\"color: #800080; text-decoration-color: #800080; font-weight: bold\">Index</span><span style=\"font-weight: bold\">([</span><span style=\"color: #008000; text-decoration-color: #008000\">'drama_name'</span>, <span style=\"color: #008000; text-decoration-color: #008000\">'year'</span>, <span style=\"color: #008000; text-decoration-color: #008000\">'director'</span>, <span style=\"color: #008000; text-decoration-color: #008000\">'screenwriter'</span>, <span style=\"color: #008000; text-decoration-color: #008000\">'country'</span>, <span style=\"color: #008000; text-decoration-color: #008000\">'type'</span>,\n",
       "       <span style=\"color: #008000; text-decoration-color: #008000\">'tot_eps'</span>, <span style=\"color: #008000; text-decoration-color: #008000\">'duration'</span>, <span style=\"color: #008000; text-decoration-color: #008000\">'start_dt'</span>, <span style=\"color: #008000; text-decoration-color: #008000\">'end_dt'</span>, <span style=\"color: #008000; text-decoration-color: #008000\">'aired_on'</span>, <span style=\"color: #008000; text-decoration-color: #008000\">'org_net'</span>,\n",
       "       <span style=\"color: #008000; text-decoration-color: #008000\">'content_rt'</span>, <span style=\"color: #008000; text-decoration-color: #008000\">'synopsis'</span>, <span style=\"color: #008000; text-decoration-color: #008000\">'rank'</span>, <span style=\"color: #008000; text-decoration-color: #008000\">'pop'</span><span style=\"font-weight: bold\">]</span>,\n",
       "      <span style=\"color: #808000; text-decoration-color: #808000\">dtype</span>=<span style=\"color: #008000; text-decoration-color: #008000\">'object'</span><span style=\"font-weight: bold\">)</span>\n",
       "</pre>\n"
      ],
      "text/plain": [
       "The columns of k_dramas dataframe are \u001b[1;35mIndex\u001b[0m\u001b[1m(\u001b[0m\u001b[1m[\u001b[0m\u001b[32m'drama_name'\u001b[0m, \u001b[32m'year'\u001b[0m, \u001b[32m'director'\u001b[0m, \u001b[32m'screenwriter'\u001b[0m, \u001b[32m'country'\u001b[0m, \u001b[32m'type'\u001b[0m,\n",
       "       \u001b[32m'tot_eps'\u001b[0m, \u001b[32m'duration'\u001b[0m, \u001b[32m'start_dt'\u001b[0m, \u001b[32m'end_dt'\u001b[0m, \u001b[32m'aired_on'\u001b[0m, \u001b[32m'org_net'\u001b[0m,\n",
       "       \u001b[32m'content_rt'\u001b[0m, \u001b[32m'synopsis'\u001b[0m, \u001b[32m'rank'\u001b[0m, \u001b[32m'pop'\u001b[0m\u001b[1m]\u001b[0m,\n",
       "      \u001b[33mdtype\u001b[0m=\u001b[32m'object'\u001b[0m\u001b[1m)\u001b[0m\n"
      ]
     },
     "metadata": {},
     "output_type": "display_data"
    }
   ],
   "source": [
    "print(f'The columns of k_dramas dataframe are {k_dramas.columns}')"
   ]
  },
  {
   "cell_type": "markdown",
   "metadata": {},
   "source": [
    "## Análisis Exploratorio de Datos Faltantes"
   ]
  },
  {
   "cell_type": "markdown",
   "metadata": {},
   "source": [
    "### Resumen general de datos faltantes"
   ]
  },
  {
   "cell_type": "code",
   "execution_count": 5,
   "metadata": {},
   "outputs": [],
   "source": [
    "is_na_table = k_dramas.isna()"
   ]
  },
  {
   "cell_type": "markdown",
   "metadata": {},
   "source": [
    "#### Valores sueltos para describir los datos faltantes"
   ]
  },
  {
   "cell_type": "code",
   "execution_count": 6,
   "metadata": {},
   "outputs": [
    {
     "data": {
      "text/html": [
       "<pre style=\"white-space:pre;overflow-x:auto;line-height:normal;font-family:Menlo,'DejaVu Sans Mono',consolas,'Courier New',monospace\"><span style=\"text-decoration: underline\">NA count per column</span>: \n",
       "\n",
       "drama_name        <span style=\"color: #008080; text-decoration-color: #008080; font-weight: bold\">0</span>\n",
       "year              <span style=\"color: #008080; text-decoration-color: #008080; font-weight: bold\">0</span>\n",
       "director        <span style=\"color: #008080; text-decoration-color: #008080; font-weight: bold\">716</span>\n",
       "screenwriter    <span style=\"color: #008080; text-decoration-color: #008080; font-weight: bold\">793</span>\n",
       "country           <span style=\"color: #008080; text-decoration-color: #008080; font-weight: bold\">0</span>\n",
       "type              <span style=\"color: #008080; text-decoration-color: #008080; font-weight: bold\">0</span>\n",
       "tot_eps           <span style=\"color: #008080; text-decoration-color: #008080; font-weight: bold\">0</span>\n",
       "duration         <span style=\"color: #008080; text-decoration-color: #008080; font-weight: bold\">24</span>\n",
       "start_dt          <span style=\"color: #008080; text-decoration-color: #008080; font-weight: bold\">0</span>\n",
       "end_dt            <span style=\"color: #008080; text-decoration-color: #008080; font-weight: bold\">0</span>\n",
       "aired_on        <span style=\"color: #008080; text-decoration-color: #008080; font-weight: bold\">232</span>\n",
       "org_net         <span style=\"color: #008080; text-decoration-color: #008080; font-weight: bold\">408</span>\n",
       "content_rt        <span style=\"color: #008080; text-decoration-color: #008080; font-weight: bold\">0</span>\n",
       "synopsis        <span style=\"color: #008080; text-decoration-color: #008080; font-weight: bold\">168</span>\n",
       "rank              <span style=\"color: #008080; text-decoration-color: #008080; font-weight: bold\">0</span>\n",
       "pop               <span style=\"color: #008080; text-decoration-color: #008080; font-weight: bold\">0</span>\n",
       "dtype: int64\n",
       "</pre>\n"
      ],
      "text/plain": [
       "\u001b[4mNA count per column\u001b[0m: \n",
       "\n",
       "drama_name        \u001b[1;36m0\u001b[0m\n",
       "year              \u001b[1;36m0\u001b[0m\n",
       "director        \u001b[1;36m716\u001b[0m\n",
       "screenwriter    \u001b[1;36m793\u001b[0m\n",
       "country           \u001b[1;36m0\u001b[0m\n",
       "type              \u001b[1;36m0\u001b[0m\n",
       "tot_eps           \u001b[1;36m0\u001b[0m\n",
       "duration         \u001b[1;36m24\u001b[0m\n",
       "start_dt          \u001b[1;36m0\u001b[0m\n",
       "end_dt            \u001b[1;36m0\u001b[0m\n",
       "aired_on        \u001b[1;36m232\u001b[0m\n",
       "org_net         \u001b[1;36m408\u001b[0m\n",
       "content_rt        \u001b[1;36m0\u001b[0m\n",
       "synopsis        \u001b[1;36m168\u001b[0m\n",
       "rank              \u001b[1;36m0\u001b[0m\n",
       "pop               \u001b[1;36m0\u001b[0m\n",
       "dtype: int64\n"
      ]
     },
     "metadata": {},
     "output_type": "display_data"
    }
   ],
   "source": [
    "na_count_per_column = is_na_table.sum()\n",
    "print(f'[underline]NA count per column[/underline]: \\n\\n{na_count_per_column}')"
   ]
  },
  {
   "cell_type": "code",
   "execution_count": 7,
   "metadata": {},
   "outputs": [
    {
     "data": {
      "text/html": [
       "<pre style=\"white-space:pre;overflow-x:auto;line-height:normal;font-family:Menlo,'DejaVu Sans Mono',consolas,'Courier New',monospace\">Total NA count: <span style=\"color: #008080; text-decoration-color: #008080; font-weight: bold\">2341</span>\n",
       "</pre>\n"
      ],
      "text/plain": [
       "Total NA count: \u001b[1;36m2341\u001b[0m\n"
      ]
     },
     "metadata": {},
     "output_type": "display_data"
    }
   ],
   "source": [
    "na_tot_count = na_count_per_column.sum()\n",
    "print(f'Total NA count: {na_tot_count}')"
   ]
  },
  {
   "cell_type": "code",
   "execution_count": 8,
   "metadata": {},
   "outputs": [
    {
     "data": {
      "text/html": [
       "<pre style=\"white-space:pre;overflow-x:auto;line-height:normal;font-family:Menlo,'DejaVu Sans Mono',consolas,'Courier New',monospace\">No NA count: <span style=\"color: #008080; text-decoration-color: #008080; font-weight: bold\">25691</span>\n",
       "</pre>\n"
      ],
      "text/plain": [
       "No NA count: \u001b[1;36m25691\u001b[0m\n"
      ]
     },
     "metadata": {},
     "output_type": "display_data"
    }
   ],
   "source": [
    "no_na_tot_count = k_dramas.size - na_tot_count\n",
    "print(f'No NA count: {no_na_tot_count}')"
   ]
  },
  {
   "cell_type": "code",
   "execution_count": 9,
   "metadata": {},
   "outputs": [
    {
     "data": {
      "text/html": [
       "<pre style=\"white-space:pre;overflow-x:auto;line-height:normal;font-family:Menlo,'DejaVu Sans Mono',consolas,'Courier New',monospace\">Percentage NA: <span style=\"color: #008080; text-decoration-color: #008080; font-weight: bold\">8.35</span>%\n",
       "</pre>\n"
      ],
      "text/plain": [
       "Percentage NA: \u001b[1;36m8.35\u001b[0m%\n"
      ]
     },
     "metadata": {},
     "output_type": "display_data"
    }
   ],
   "source": [
    "percentage_na = (na_tot_count / k_dramas.size) * 100\n",
    "print(f'Percentage NA: {percentage_na:.2f}%')"
   ]
  },
  {
   "cell_type": "markdown",
   "metadata": {},
   "source": [
    "#### Tablas pra describir los datos faltantes"
   ]
  },
  {
   "cell_type": "code",
   "execution_count": 10,
   "metadata": {},
   "outputs": [
    {
     "data": {
      "text/html": [
       "<div>\n",
       "<style scoped>\n",
       "    .dataframe tbody tr th:only-of-type {\n",
       "        vertical-align: middle;\n",
       "    }\n",
       "\n",
       "    .dataframe tbody tr th {\n",
       "        vertical-align: top;\n",
       "    }\n",
       "\n",
       "    .dataframe thead th {\n",
       "        text-align: right;\n",
       "    }\n",
       "</style>\n",
       "<table border=\"1\" class=\"dataframe\">\n",
       "  <thead>\n",
       "    <tr style=\"text-align: right;\">\n",
       "      <th></th>\n",
       "      <th>column_name</th>\n",
       "      <th>na_count</th>\n",
       "      <th>num_cases</th>\n",
       "      <th>percentage_na</th>\n",
       "    </tr>\n",
       "  </thead>\n",
       "  <tbody>\n",
       "    <tr>\n",
       "      <th>0</th>\n",
       "      <td>drama_name</td>\n",
       "      <td>0</td>\n",
       "      <td>1752</td>\n",
       "      <td>0.000000</td>\n",
       "    </tr>\n",
       "    <tr>\n",
       "      <th>1</th>\n",
       "      <td>year</td>\n",
       "      <td>0</td>\n",
       "      <td>1752</td>\n",
       "      <td>0.000000</td>\n",
       "    </tr>\n",
       "    <tr>\n",
       "      <th>2</th>\n",
       "      <td>director</td>\n",
       "      <td>716</td>\n",
       "      <td>1752</td>\n",
       "      <td>40.867580</td>\n",
       "    </tr>\n",
       "    <tr>\n",
       "      <th>3</th>\n",
       "      <td>screenwriter</td>\n",
       "      <td>793</td>\n",
       "      <td>1752</td>\n",
       "      <td>45.262557</td>\n",
       "    </tr>\n",
       "    <tr>\n",
       "      <th>4</th>\n",
       "      <td>country</td>\n",
       "      <td>0</td>\n",
       "      <td>1752</td>\n",
       "      <td>0.000000</td>\n",
       "    </tr>\n",
       "    <tr>\n",
       "      <th>5</th>\n",
       "      <td>type</td>\n",
       "      <td>0</td>\n",
       "      <td>1752</td>\n",
       "      <td>0.000000</td>\n",
       "    </tr>\n",
       "    <tr>\n",
       "      <th>6</th>\n",
       "      <td>tot_eps</td>\n",
       "      <td>0</td>\n",
       "      <td>1752</td>\n",
       "      <td>0.000000</td>\n",
       "    </tr>\n",
       "    <tr>\n",
       "      <th>7</th>\n",
       "      <td>duration</td>\n",
       "      <td>24</td>\n",
       "      <td>1752</td>\n",
       "      <td>1.369863</td>\n",
       "    </tr>\n",
       "    <tr>\n",
       "      <th>8</th>\n",
       "      <td>start_dt</td>\n",
       "      <td>0</td>\n",
       "      <td>1752</td>\n",
       "      <td>0.000000</td>\n",
       "    </tr>\n",
       "    <tr>\n",
       "      <th>9</th>\n",
       "      <td>end_dt</td>\n",
       "      <td>0</td>\n",
       "      <td>1752</td>\n",
       "      <td>0.000000</td>\n",
       "    </tr>\n",
       "    <tr>\n",
       "      <th>10</th>\n",
       "      <td>aired_on</td>\n",
       "      <td>232</td>\n",
       "      <td>1752</td>\n",
       "      <td>13.242009</td>\n",
       "    </tr>\n",
       "    <tr>\n",
       "      <th>11</th>\n",
       "      <td>org_net</td>\n",
       "      <td>408</td>\n",
       "      <td>1752</td>\n",
       "      <td>23.287671</td>\n",
       "    </tr>\n",
       "    <tr>\n",
       "      <th>12</th>\n",
       "      <td>content_rt</td>\n",
       "      <td>0</td>\n",
       "      <td>1752</td>\n",
       "      <td>0.000000</td>\n",
       "    </tr>\n",
       "    <tr>\n",
       "      <th>13</th>\n",
       "      <td>synopsis</td>\n",
       "      <td>168</td>\n",
       "      <td>1752</td>\n",
       "      <td>9.589041</td>\n",
       "    </tr>\n",
       "    <tr>\n",
       "      <th>14</th>\n",
       "      <td>rank</td>\n",
       "      <td>0</td>\n",
       "      <td>1752</td>\n",
       "      <td>0.000000</td>\n",
       "    </tr>\n",
       "    <tr>\n",
       "      <th>15</th>\n",
       "      <td>pop</td>\n",
       "      <td>0</td>\n",
       "      <td>1752</td>\n",
       "      <td>0.000000</td>\n",
       "    </tr>\n",
       "  </tbody>\n",
       "</table>\n",
       "</div>"
      ],
      "text/plain": [
       "     column_name  na_count  num_cases  percentage_na\n",
       "0     drama_name         0       1752       0.000000\n",
       "1           year         0       1752       0.000000\n",
       "2       director       716       1752      40.867580\n",
       "3   screenwriter       793       1752      45.262557\n",
       "4        country         0       1752       0.000000\n",
       "5           type         0       1752       0.000000\n",
       "6        tot_eps         0       1752       0.000000\n",
       "7       duration        24       1752       1.369863\n",
       "8       start_dt         0       1752       0.000000\n",
       "9         end_dt         0       1752       0.000000\n",
       "10      aired_on       232       1752      13.242009\n",
       "11       org_net       408       1752      23.287671\n",
       "12    content_rt         0       1752       0.000000\n",
       "13      synopsis       168       1752       9.589041\n",
       "14          rank         0       1752       0.000000\n",
       "15           pop         0       1752       0.000000"
      ]
     },
     "execution_count": 10,
     "metadata": {},
     "output_type": "execute_result"
    }
   ],
   "source": [
    "percentage_na_per_column: pd.DataFrame = (\n",
    "    na_count_per_column\n",
    "    .pipe(\n",
    "        lambda df: (\n",
    "            df\n",
    "            .reset_index(name='na_count')\n",
    "            .rename(columns={'index': 'column_name'})\n",
    "            .assign(\n",
    "                num_cases=len(k_dramas),\n",
    "                percentage_na=lambda x: (x.na_count / len(k_dramas)) * 100\n",
    "            )\n",
    "        )\n",
    "    )\n",
    ")\n",
    "percentage_na_per_column"
   ]
  },
  {
   "cell_type": "code",
   "execution_count": 11,
   "metadata": {},
   "outputs": [
    {
     "data": {
      "text/html": [
       "<div>\n",
       "<style scoped>\n",
       "    .dataframe tbody tr th:only-of-type {\n",
       "        vertical-align: middle;\n",
       "    }\n",
       "\n",
       "    .dataframe tbody tr th {\n",
       "        vertical-align: top;\n",
       "    }\n",
       "\n",
       "    .dataframe thead th {\n",
       "        text-align: right;\n",
       "    }\n",
       "</style>\n",
       "<table border=\"1\" class=\"dataframe\">\n",
       "  <thead>\n",
       "    <tr style=\"text-align: right;\">\n",
       "      <th></th>\n",
       "      <th>count_na_values</th>\n",
       "      <th>coincidences</th>\n",
       "      <th>percentage</th>\n",
       "    </tr>\n",
       "  </thead>\n",
       "  <tbody>\n",
       "    <tr>\n",
       "      <th>0</th>\n",
       "      <td>0</td>\n",
       "      <td>10</td>\n",
       "      <td>62.50</td>\n",
       "    </tr>\n",
       "    <tr>\n",
       "      <th>1</th>\n",
       "      <td>716</td>\n",
       "      <td>1</td>\n",
       "      <td>6.25</td>\n",
       "    </tr>\n",
       "    <tr>\n",
       "      <th>2</th>\n",
       "      <td>793</td>\n",
       "      <td>1</td>\n",
       "      <td>6.25</td>\n",
       "    </tr>\n",
       "    <tr>\n",
       "      <th>3</th>\n",
       "      <td>24</td>\n",
       "      <td>1</td>\n",
       "      <td>6.25</td>\n",
       "    </tr>\n",
       "    <tr>\n",
       "      <th>4</th>\n",
       "      <td>232</td>\n",
       "      <td>1</td>\n",
       "      <td>6.25</td>\n",
       "    </tr>\n",
       "    <tr>\n",
       "      <th>5</th>\n",
       "      <td>408</td>\n",
       "      <td>1</td>\n",
       "      <td>6.25</td>\n",
       "    </tr>\n",
       "    <tr>\n",
       "      <th>6</th>\n",
       "      <td>168</td>\n",
       "      <td>1</td>\n",
       "      <td>6.25</td>\n",
       "    </tr>\n",
       "  </tbody>\n",
       "</table>\n",
       "</div>"
      ],
      "text/plain": [
       "   count_na_values  coincidences  percentage\n",
       "0                0            10       62.50\n",
       "1              716             1        6.25\n",
       "2              793             1        6.25\n",
       "3               24             1        6.25\n",
       "4              232             1        6.25\n",
       "5              408             1        6.25\n",
       "6              168             1        6.25"
      ]
     },
     "execution_count": 11,
     "metadata": {},
     "output_type": "execute_result"
    }
   ],
   "source": [
    "(\n",
    "    na_count_per_column\n",
    "    .value_counts()\n",
    "    .reset_index()\n",
    "    .rename(columns={\n",
    "        \"index\": \"count_na_values\",\n",
    "        \"count\": \"coincidences\"\n",
    "    })\n",
    "    .assign(\n",
    "        percentage=lambda df: (df.coincidences / df.coincidences.sum()) * 100\n",
    "    )\n",
    "    .sort_values('percentage', ascending=False)\n",
    ")"
   ]
  },
  {
   "cell_type": "code",
   "execution_count": 12,
   "metadata": {},
   "outputs": [
    {
     "data": {
      "text/html": [
       "<div>\n",
       "<style scoped>\n",
       "    .dataframe tbody tr th:only-of-type {\n",
       "        vertical-align: middle;\n",
       "    }\n",
       "\n",
       "    .dataframe tbody tr th {\n",
       "        vertical-align: top;\n",
       "    }\n",
       "\n",
       "    .dataframe thead th {\n",
       "        text-align: right;\n",
       "    }\n",
       "</style>\n",
       "<table border=\"1\" class=\"dataframe\">\n",
       "  <thead>\n",
       "    <tr style=\"text-align: right;\">\n",
       "      <th></th>\n",
       "      <th>num_na_per_row</th>\n",
       "      <th>percentage_na_per_row</th>\n",
       "    </tr>\n",
       "    <tr>\n",
       "      <th>kdrama_id</th>\n",
       "      <th></th>\n",
       "      <th></th>\n",
       "    </tr>\n",
       "  </thead>\n",
       "  <tbody>\n",
       "    <tr>\n",
       "      <th>661d4193916c4e71a2c70473ab11e9e8</th>\n",
       "      <td>2</td>\n",
       "      <td>11.764706</td>\n",
       "    </tr>\n",
       "    <tr>\n",
       "      <th>5ffcbeaa17114714af1959129984274c</th>\n",
       "      <td>1</td>\n",
       "      <td>5.882353</td>\n",
       "    </tr>\n",
       "    <tr>\n",
       "      <th>65075cb9c1a54be4a441cee6f16c9fdf</th>\n",
       "      <td>0</td>\n",
       "      <td>0.000000</td>\n",
       "    </tr>\n",
       "    <tr>\n",
       "      <th>df0f0ac4b3ff4b15afa26f5a7a53a328</th>\n",
       "      <td>3</td>\n",
       "      <td>17.647059</td>\n",
       "    </tr>\n",
       "    <tr>\n",
       "      <th>04c1fe41948e464fb440001831d74d41</th>\n",
       "      <td>0</td>\n",
       "      <td>0.000000</td>\n",
       "    </tr>\n",
       "    <tr>\n",
       "      <th>...</th>\n",
       "      <td>...</td>\n",
       "      <td>...</td>\n",
       "    </tr>\n",
       "    <tr>\n",
       "      <th>e8c09f0f7d0d4b75a4642eb06d76d811</th>\n",
       "      <td>0</td>\n",
       "      <td>0.000000</td>\n",
       "    </tr>\n",
       "    <tr>\n",
       "      <th>1e7f7f2fa45d4240b8bb585ca13040f0</th>\n",
       "      <td>0</td>\n",
       "      <td>0.000000</td>\n",
       "    </tr>\n",
       "    <tr>\n",
       "      <th>142a09741fdd4daa878d6ae007201e43</th>\n",
       "      <td>0</td>\n",
       "      <td>0.000000</td>\n",
       "    </tr>\n",
       "    <tr>\n",
       "      <th>9170c31a02014b56bb4cec2105086f00</th>\n",
       "      <td>0</td>\n",
       "      <td>0.000000</td>\n",
       "    </tr>\n",
       "    <tr>\n",
       "      <th>c19353bdbc7a43ae98b27db202e7c908</th>\n",
       "      <td>5</td>\n",
       "      <td>29.411765</td>\n",
       "    </tr>\n",
       "  </tbody>\n",
       "</table>\n",
       "<p>1752 rows × 2 columns</p>\n",
       "</div>"
      ],
      "text/plain": [
       "                                  num_na_per_row  percentage_na_per_row\n",
       "kdrama_id                                                              \n",
       "661d4193916c4e71a2c70473ab11e9e8               2              11.764706\n",
       "5ffcbeaa17114714af1959129984274c               1               5.882353\n",
       "65075cb9c1a54be4a441cee6f16c9fdf               0               0.000000\n",
       "df0f0ac4b3ff4b15afa26f5a7a53a328               3              17.647059\n",
       "04c1fe41948e464fb440001831d74d41               0               0.000000\n",
       "...                                          ...                    ...\n",
       "e8c09f0f7d0d4b75a4642eb06d76d811               0               0.000000\n",
       "1e7f7f2fa45d4240b8bb585ca13040f0               0               0.000000\n",
       "142a09741fdd4daa878d6ae007201e43               0               0.000000\n",
       "9170c31a02014b56bb4cec2105086f00               0               0.000000\n",
       "c19353bdbc7a43ae98b27db202e7c908               5              29.411765\n",
       "\n",
       "[1752 rows x 2 columns]"
      ]
     },
     "execution_count": 12,
     "metadata": {},
     "output_type": "execute_result"
    }
   ],
   "source": [
    "percentage_na_per_row: pd.DataFrame = (\n",
    "    is_na_table\n",
    "    .assign(\n",
    "        num_na_per_row=lambda df: df.apply(\n",
    "            axis=1,\n",
    "            func=lambda row: row.sum()\n",
    "        ),\n",
    "        percentage_na_per_row=lambda df: (df.num_na_per_row / df.shape[1]) * 100\n",
    "    )\n",
    ")[['num_na_per_row', 'percentage_na_per_row']]\n",
    "percentage_na_per_row"
   ]
  },
  {
   "cell_type": "code",
   "execution_count": 13,
   "metadata": {},
   "outputs": [
    {
     "data": {
      "text/html": [
       "<div>\n",
       "<style scoped>\n",
       "    .dataframe tbody tr th:only-of-type {\n",
       "        vertical-align: middle;\n",
       "    }\n",
       "\n",
       "    .dataframe tbody tr th {\n",
       "        vertical-align: top;\n",
       "    }\n",
       "\n",
       "    .dataframe thead th {\n",
       "        text-align: right;\n",
       "    }\n",
       "</style>\n",
       "<table border=\"1\" class=\"dataframe\">\n",
       "  <thead>\n",
       "    <tr style=\"text-align: right;\">\n",
       "      <th></th>\n",
       "      <th>num_na_per_row</th>\n",
       "      <th>coincidences</th>\n",
       "      <th>percentage</th>\n",
       "    </tr>\n",
       "  </thead>\n",
       "  <tbody>\n",
       "    <tr>\n",
       "      <th>0</th>\n",
       "      <td>0</td>\n",
       "      <td>859</td>\n",
       "      <td>49.029680</td>\n",
       "    </tr>\n",
       "    <tr>\n",
       "      <th>1</th>\n",
       "      <td>3</td>\n",
       "      <td>268</td>\n",
       "      <td>15.296804</td>\n",
       "    </tr>\n",
       "    <tr>\n",
       "      <th>2</th>\n",
       "      <td>2</td>\n",
       "      <td>257</td>\n",
       "      <td>14.668950</td>\n",
       "    </tr>\n",
       "    <tr>\n",
       "      <th>3</th>\n",
       "      <td>1</td>\n",
       "      <td>173</td>\n",
       "      <td>9.874429</td>\n",
       "    </tr>\n",
       "    <tr>\n",
       "      <th>4</th>\n",
       "      <td>4</td>\n",
       "      <td>125</td>\n",
       "      <td>7.134703</td>\n",
       "    </tr>\n",
       "    <tr>\n",
       "      <th>5</th>\n",
       "      <td>5</td>\n",
       "      <td>70</td>\n",
       "      <td>3.995434</td>\n",
       "    </tr>\n",
       "  </tbody>\n",
       "</table>\n",
       "</div>"
      ],
      "text/plain": [
       "   num_na_per_row  coincidences  percentage\n",
       "0               0           859   49.029680\n",
       "1               3           268   15.296804\n",
       "2               2           257   14.668950\n",
       "3               1           173    9.874429\n",
       "4               4           125    7.134703\n",
       "5               5            70    3.995434"
      ]
     },
     "execution_count": 13,
     "metadata": {},
     "output_type": "execute_result"
    }
   ],
   "source": [
    "(\n",
    "    percentage_na_per_row\n",
    "    .value_counts('num_na_per_row')\n",
    "    .reset_index()\n",
    "    .rename(columns={\n",
    "        'count': 'coincidences'\n",
    "    })\n",
    "    .assign(\n",
    "        percentage=lambda df: (df.coincidences / df.coincidences.sum()) * 100\n",
    "    )\n",
    ")"
   ]
  },
  {
   "cell_type": "code",
   "execution_count": 14,
   "metadata": {},
   "outputs": [
    {
     "data": {
      "text/html": [
       "<pre style=\"white-space:pre;overflow-x:auto;line-height:normal;font-family:Menlo,'DejaVu Sans Mono',consolas,'Courier New',monospace\"><span style=\"text-decoration: underline\">Missing variable span for </span><span style=\"color: #af00ff; text-decoration-color: #af00ff; text-decoration: underline\">director</span>\n",
       "\n",
       "</pre>\n"
      ],
      "text/plain": [
       "\u001b[4mMissing variable span for \u001b[0m\u001b[4;38;5;129mdirector\u001b[0m\n",
       "\n"
      ]
     },
     "metadata": {},
     "output_type": "display_data"
    },
    {
     "data": {
      "text/html": [
       "<pre style=\"white-space:pre;overflow-x:auto;line-height:normal;font-family:Menlo,'DejaVu Sans Mono',consolas,'Courier New',monospace\">              num_of_na  num_of_no_na  percentage_of_na  percentage_of_no_na\n",
       "span_counter                                                                \n",
       "<span style=\"color: #008080; text-decoration-color: #008080; font-weight: bold\">0</span>                    <span style=\"color: #008080; text-decoration-color: #008080; font-weight: bold\">13</span>            <span style=\"color: #008080; text-decoration-color: #008080; font-weight: bold\">37</span>              <span style=\"color: #008080; text-decoration-color: #008080; font-weight: bold\">26.0</span>                 <span style=\"color: #008080; text-decoration-color: #008080; font-weight: bold\">74.0</span>\n",
       "<span style=\"color: #008080; text-decoration-color: #008080; font-weight: bold\">1</span>                    <span style=\"color: #008080; text-decoration-color: #008080; font-weight: bold\">11</span>            <span style=\"color: #008080; text-decoration-color: #008080; font-weight: bold\">39</span>              <span style=\"color: #008080; text-decoration-color: #008080; font-weight: bold\">22.0</span>                 <span style=\"color: #008080; text-decoration-color: #008080; font-weight: bold\">78.0</span>\n",
       "<span style=\"color: #008080; text-decoration-color: #008080; font-weight: bold\">2</span>                    <span style=\"color: #008080; text-decoration-color: #008080; font-weight: bold\">19</span>            <span style=\"color: #008080; text-decoration-color: #008080; font-weight: bold\">31</span>              <span style=\"color: #008080; text-decoration-color: #008080; font-weight: bold\">38.0</span>                 <span style=\"color: #008080; text-decoration-color: #008080; font-weight: bold\">62.0</span>\n",
       "<span style=\"color: #008080; text-decoration-color: #008080; font-weight: bold\">3</span>                    <span style=\"color: #008080; text-decoration-color: #008080; font-weight: bold\">16</span>            <span style=\"color: #008080; text-decoration-color: #008080; font-weight: bold\">34</span>              <span style=\"color: #008080; text-decoration-color: #008080; font-weight: bold\">32.0</span>                 <span style=\"color: #008080; text-decoration-color: #008080; font-weight: bold\">68.0</span>\n",
       "<span style=\"color: #008080; text-decoration-color: #008080; font-weight: bold\">4</span>                    <span style=\"color: #008080; text-decoration-color: #008080; font-weight: bold\">15</span>            <span style=\"color: #008080; text-decoration-color: #008080; font-weight: bold\">35</span>              <span style=\"color: #008080; text-decoration-color: #008080; font-weight: bold\">30.0</span>                 <span style=\"color: #008080; text-decoration-color: #008080; font-weight: bold\">70.0</span>\n",
       "<span style=\"color: #008080; text-decoration-color: #008080; font-weight: bold\">5</span>                    <span style=\"color: #008080; text-decoration-color: #008080; font-weight: bold\">16</span>            <span style=\"color: #008080; text-decoration-color: #008080; font-weight: bold\">34</span>              <span style=\"color: #008080; text-decoration-color: #008080; font-weight: bold\">32.0</span>                 <span style=\"color: #008080; text-decoration-color: #008080; font-weight: bold\">68.0</span>\n",
       "<span style=\"color: #008080; text-decoration-color: #008080; font-weight: bold\">6</span>                    <span style=\"color: #008080; text-decoration-color: #008080; font-weight: bold\">26</span>            <span style=\"color: #008080; text-decoration-color: #008080; font-weight: bold\">24</span>              <span style=\"color: #008080; text-decoration-color: #008080; font-weight: bold\">52.0</span>                 <span style=\"color: #008080; text-decoration-color: #008080; font-weight: bold\">48.0</span>\n",
       "<span style=\"color: #008080; text-decoration-color: #008080; font-weight: bold\">7</span>                    <span style=\"color: #008080; text-decoration-color: #008080; font-weight: bold\">25</span>            <span style=\"color: #008080; text-decoration-color: #008080; font-weight: bold\">25</span>              <span style=\"color: #008080; text-decoration-color: #008080; font-weight: bold\">50.0</span>                 <span style=\"color: #008080; text-decoration-color: #008080; font-weight: bold\">50.0</span>\n",
       "<span style=\"color: #008080; text-decoration-color: #008080; font-weight: bold\">8</span>                    <span style=\"color: #008080; text-decoration-color: #008080; font-weight: bold\">21</span>            <span style=\"color: #008080; text-decoration-color: #008080; font-weight: bold\">29</span>              <span style=\"color: #008080; text-decoration-color: #008080; font-weight: bold\">42.0</span>                 <span style=\"color: #008080; text-decoration-color: #008080; font-weight: bold\">58.0</span>\n",
       "<span style=\"color: #008080; text-decoration-color: #008080; font-weight: bold\">9</span>                    <span style=\"color: #008080; text-decoration-color: #008080; font-weight: bold\">24</span>            <span style=\"color: #008080; text-decoration-color: #008080; font-weight: bold\">26</span>              <span style=\"color: #008080; text-decoration-color: #008080; font-weight: bold\">48.0</span>                 <span style=\"color: #008080; text-decoration-color: #008080; font-weight: bold\">52.0</span>\n",
       "<span style=\"color: #008080; text-decoration-color: #008080; font-weight: bold\">10</span>                   <span style=\"color: #008080; text-decoration-color: #008080; font-weight: bold\">24</span>            <span style=\"color: #008080; text-decoration-color: #008080; font-weight: bold\">26</span>              <span style=\"color: #008080; text-decoration-color: #008080; font-weight: bold\">48.0</span>                 <span style=\"color: #008080; text-decoration-color: #008080; font-weight: bold\">52.0</span>\n",
       "<span style=\"color: #008080; text-decoration-color: #008080; font-weight: bold\">11</span>                   <span style=\"color: #008080; text-decoration-color: #008080; font-weight: bold\">29</span>            <span style=\"color: #008080; text-decoration-color: #008080; font-weight: bold\">21</span>              <span style=\"color: #008080; text-decoration-color: #008080; font-weight: bold\">58.0</span>                 <span style=\"color: #008080; text-decoration-color: #008080; font-weight: bold\">42.0</span>\n",
       "<span style=\"color: #008080; text-decoration-color: #008080; font-weight: bold\">12</span>                   <span style=\"color: #008080; text-decoration-color: #008080; font-weight: bold\">20</span>            <span style=\"color: #008080; text-decoration-color: #008080; font-weight: bold\">30</span>              <span style=\"color: #008080; text-decoration-color: #008080; font-weight: bold\">40.0</span>                 <span style=\"color: #008080; text-decoration-color: #008080; font-weight: bold\">60.0</span>\n",
       "<span style=\"color: #008080; text-decoration-color: #008080; font-weight: bold\">13</span>                   <span style=\"color: #008080; text-decoration-color: #008080; font-weight: bold\">20</span>            <span style=\"color: #008080; text-decoration-color: #008080; font-weight: bold\">30</span>              <span style=\"color: #008080; text-decoration-color: #008080; font-weight: bold\">40.0</span>                 <span style=\"color: #008080; text-decoration-color: #008080; font-weight: bold\">60.0</span>\n",
       "<span style=\"color: #008080; text-decoration-color: #008080; font-weight: bold\">14</span>                   <span style=\"color: #008080; text-decoration-color: #008080; font-weight: bold\">19</span>            <span style=\"color: #008080; text-decoration-color: #008080; font-weight: bold\">31</span>              <span style=\"color: #008080; text-decoration-color: #008080; font-weight: bold\">38.0</span>                 <span style=\"color: #008080; text-decoration-color: #008080; font-weight: bold\">62.0</span>\n",
       "<span style=\"color: #008080; text-decoration-color: #008080; font-weight: bold\">15</span>                   <span style=\"color: #008080; text-decoration-color: #008080; font-weight: bold\">25</span>            <span style=\"color: #008080; text-decoration-color: #008080; font-weight: bold\">25</span>              <span style=\"color: #008080; text-decoration-color: #008080; font-weight: bold\">50.0</span>                 <span style=\"color: #008080; text-decoration-color: #008080; font-weight: bold\">50.0</span>\n",
       "<span style=\"color: #008080; text-decoration-color: #008080; font-weight: bold\">16</span>                   <span style=\"color: #008080; text-decoration-color: #008080; font-weight: bold\">24</span>            <span style=\"color: #008080; text-decoration-color: #008080; font-weight: bold\">26</span>              <span style=\"color: #008080; text-decoration-color: #008080; font-weight: bold\">48.0</span>                 <span style=\"color: #008080; text-decoration-color: #008080; font-weight: bold\">52.0</span>\n",
       "<span style=\"color: #008080; text-decoration-color: #008080; font-weight: bold\">17</span>                   <span style=\"color: #008080; text-decoration-color: #008080; font-weight: bold\">20</span>            <span style=\"color: #008080; text-decoration-color: #008080; font-weight: bold\">30</span>              <span style=\"color: #008080; text-decoration-color: #008080; font-weight: bold\">40.0</span>                 <span style=\"color: #008080; text-decoration-color: #008080; font-weight: bold\">60.0</span>\n",
       "<span style=\"color: #008080; text-decoration-color: #008080; font-weight: bold\">18</span>                   <span style=\"color: #008080; text-decoration-color: #008080; font-weight: bold\">22</span>            <span style=\"color: #008080; text-decoration-color: #008080; font-weight: bold\">28</span>              <span style=\"color: #008080; text-decoration-color: #008080; font-weight: bold\">44.0</span>                 <span style=\"color: #008080; text-decoration-color: #008080; font-weight: bold\">56.0</span>\n",
       "<span style=\"color: #008080; text-decoration-color: #008080; font-weight: bold\">19</span>                   <span style=\"color: #008080; text-decoration-color: #008080; font-weight: bold\">28</span>            <span style=\"color: #008080; text-decoration-color: #008080; font-weight: bold\">22</span>              <span style=\"color: #008080; text-decoration-color: #008080; font-weight: bold\">56.0</span>                 <span style=\"color: #008080; text-decoration-color: #008080; font-weight: bold\">44.0</span>\n",
       "<span style=\"color: #008080; text-decoration-color: #008080; font-weight: bold\">20</span>                   <span style=\"color: #008080; text-decoration-color: #008080; font-weight: bold\">26</span>            <span style=\"color: #008080; text-decoration-color: #008080; font-weight: bold\">24</span>              <span style=\"color: #008080; text-decoration-color: #008080; font-weight: bold\">52.0</span>                 <span style=\"color: #008080; text-decoration-color: #008080; font-weight: bold\">48.0</span>\n",
       "<span style=\"color: #008080; text-decoration-color: #008080; font-weight: bold\">21</span>                   <span style=\"color: #008080; text-decoration-color: #008080; font-weight: bold\">18</span>            <span style=\"color: #008080; text-decoration-color: #008080; font-weight: bold\">32</span>              <span style=\"color: #008080; text-decoration-color: #008080; font-weight: bold\">36.0</span>                 <span style=\"color: #008080; text-decoration-color: #008080; font-weight: bold\">64.0</span>\n",
       "<span style=\"color: #008080; text-decoration-color: #008080; font-weight: bold\">22</span>                   <span style=\"color: #008080; text-decoration-color: #008080; font-weight: bold\">19</span>            <span style=\"color: #008080; text-decoration-color: #008080; font-weight: bold\">31</span>              <span style=\"color: #008080; text-decoration-color: #008080; font-weight: bold\">38.0</span>                 <span style=\"color: #008080; text-decoration-color: #008080; font-weight: bold\">62.0</span>\n",
       "<span style=\"color: #008080; text-decoration-color: #008080; font-weight: bold\">23</span>                   <span style=\"color: #008080; text-decoration-color: #008080; font-weight: bold\">22</span>            <span style=\"color: #008080; text-decoration-color: #008080; font-weight: bold\">28</span>              <span style=\"color: #008080; text-decoration-color: #008080; font-weight: bold\">44.0</span>                 <span style=\"color: #008080; text-decoration-color: #008080; font-weight: bold\">56.0</span>\n",
       "<span style=\"color: #008080; text-decoration-color: #008080; font-weight: bold\">24</span>                   <span style=\"color: #008080; text-decoration-color: #008080; font-weight: bold\">25</span>            <span style=\"color: #008080; text-decoration-color: #008080; font-weight: bold\">25</span>              <span style=\"color: #008080; text-decoration-color: #008080; font-weight: bold\">50.0</span>                 <span style=\"color: #008080; text-decoration-color: #008080; font-weight: bold\">50.0</span>\n",
       "<span style=\"color: #008080; text-decoration-color: #008080; font-weight: bold\">25</span>                   <span style=\"color: #008080; text-decoration-color: #008080; font-weight: bold\">18</span>            <span style=\"color: #008080; text-decoration-color: #008080; font-weight: bold\">32</span>              <span style=\"color: #008080; text-decoration-color: #008080; font-weight: bold\">36.0</span>                 <span style=\"color: #008080; text-decoration-color: #008080; font-weight: bold\">64.0</span>\n",
       "<span style=\"color: #008080; text-decoration-color: #008080; font-weight: bold\">26</span>                   <span style=\"color: #008080; text-decoration-color: #008080; font-weight: bold\">23</span>            <span style=\"color: #008080; text-decoration-color: #008080; font-weight: bold\">27</span>              <span style=\"color: #008080; text-decoration-color: #008080; font-weight: bold\">46.0</span>                 <span style=\"color: #008080; text-decoration-color: #008080; font-weight: bold\">54.0</span>\n",
       "<span style=\"color: #008080; text-decoration-color: #008080; font-weight: bold\">27</span>                   <span style=\"color: #008080; text-decoration-color: #008080; font-weight: bold\">20</span>            <span style=\"color: #008080; text-decoration-color: #008080; font-weight: bold\">30</span>              <span style=\"color: #008080; text-decoration-color: #008080; font-weight: bold\">40.0</span>                 <span style=\"color: #008080; text-decoration-color: #008080; font-weight: bold\">60.0</span>\n",
       "<span style=\"color: #008080; text-decoration-color: #008080; font-weight: bold\">28</span>                   <span style=\"color: #008080; text-decoration-color: #008080; font-weight: bold\">25</span>            <span style=\"color: #008080; text-decoration-color: #008080; font-weight: bold\">25</span>              <span style=\"color: #008080; text-decoration-color: #008080; font-weight: bold\">50.0</span>                 <span style=\"color: #008080; text-decoration-color: #008080; font-weight: bold\">50.0</span>\n",
       "<span style=\"color: #008080; text-decoration-color: #008080; font-weight: bold\">29</span>                   <span style=\"color: #008080; text-decoration-color: #008080; font-weight: bold\">23</span>            <span style=\"color: #008080; text-decoration-color: #008080; font-weight: bold\">27</span>              <span style=\"color: #008080; text-decoration-color: #008080; font-weight: bold\">46.0</span>                 <span style=\"color: #008080; text-decoration-color: #008080; font-weight: bold\">54.0</span>\n",
       "<span style=\"color: #008080; text-decoration-color: #008080; font-weight: bold\">30</span>                   <span style=\"color: #008080; text-decoration-color: #008080; font-weight: bold\">19</span>            <span style=\"color: #008080; text-decoration-color: #008080; font-weight: bold\">31</span>              <span style=\"color: #008080; text-decoration-color: #008080; font-weight: bold\">38.0</span>                 <span style=\"color: #008080; text-decoration-color: #008080; font-weight: bold\">62.0</span>\n",
       "<span style=\"color: #008080; text-decoration-color: #008080; font-weight: bold\">31</span>                   <span style=\"color: #008080; text-decoration-color: #008080; font-weight: bold\">17</span>            <span style=\"color: #008080; text-decoration-color: #008080; font-weight: bold\">33</span>              <span style=\"color: #008080; text-decoration-color: #008080; font-weight: bold\">34.0</span>                 <span style=\"color: #008080; text-decoration-color: #008080; font-weight: bold\">66.0</span>\n",
       "<span style=\"color: #008080; text-decoration-color: #008080; font-weight: bold\">32</span>                   <span style=\"color: #008080; text-decoration-color: #008080; font-weight: bold\">21</span>            <span style=\"color: #008080; text-decoration-color: #008080; font-weight: bold\">29</span>              <span style=\"color: #008080; text-decoration-color: #008080; font-weight: bold\">42.0</span>                 <span style=\"color: #008080; text-decoration-color: #008080; font-weight: bold\">58.0</span>\n",
       "<span style=\"color: #008080; text-decoration-color: #008080; font-weight: bold\">33</span>                   <span style=\"color: #008080; text-decoration-color: #008080; font-weight: bold\">10</span>            <span style=\"color: #008080; text-decoration-color: #008080; font-weight: bold\">40</span>              <span style=\"color: #008080; text-decoration-color: #008080; font-weight: bold\">20.0</span>                 <span style=\"color: #008080; text-decoration-color: #008080; font-weight: bold\">80.0</span>\n",
       "<span style=\"color: #008080; text-decoration-color: #008080; font-weight: bold\">34</span>                   <span style=\"color: #008080; text-decoration-color: #008080; font-weight: bold\">12</span>            <span style=\"color: #008080; text-decoration-color: #008080; font-weight: bold\">38</span>              <span style=\"color: #008080; text-decoration-color: #008080; font-weight: bold\">24.0</span>                 <span style=\"color: #008080; text-decoration-color: #008080; font-weight: bold\">76.0</span>\n",
       "<span style=\"color: #008080; text-decoration-color: #008080; font-weight: bold\">35</span>                    <span style=\"color: #008080; text-decoration-color: #008080; font-weight: bold\">1</span>             <span style=\"color: #008080; text-decoration-color: #008080; font-weight: bold\">1</span>              <span style=\"color: #008080; text-decoration-color: #008080; font-weight: bold\">50.0</span>                 <span style=\"color: #008080; text-decoration-color: #008080; font-weight: bold\">50.0</span>\n",
       "</pre>\n"
      ],
      "text/plain": [
       "              num_of_na  num_of_no_na  percentage_of_na  percentage_of_no_na\n",
       "span_counter                                                                \n",
       "\u001b[1;36m0\u001b[0m                    \u001b[1;36m13\u001b[0m            \u001b[1;36m37\u001b[0m              \u001b[1;36m26.0\u001b[0m                 \u001b[1;36m74.0\u001b[0m\n",
       "\u001b[1;36m1\u001b[0m                    \u001b[1;36m11\u001b[0m            \u001b[1;36m39\u001b[0m              \u001b[1;36m22.0\u001b[0m                 \u001b[1;36m78.0\u001b[0m\n",
       "\u001b[1;36m2\u001b[0m                    \u001b[1;36m19\u001b[0m            \u001b[1;36m31\u001b[0m              \u001b[1;36m38.0\u001b[0m                 \u001b[1;36m62.0\u001b[0m\n",
       "\u001b[1;36m3\u001b[0m                    \u001b[1;36m16\u001b[0m            \u001b[1;36m34\u001b[0m              \u001b[1;36m32.0\u001b[0m                 \u001b[1;36m68.0\u001b[0m\n",
       "\u001b[1;36m4\u001b[0m                    \u001b[1;36m15\u001b[0m            \u001b[1;36m35\u001b[0m              \u001b[1;36m30.0\u001b[0m                 \u001b[1;36m70.0\u001b[0m\n",
       "\u001b[1;36m5\u001b[0m                    \u001b[1;36m16\u001b[0m            \u001b[1;36m34\u001b[0m              \u001b[1;36m32.0\u001b[0m                 \u001b[1;36m68.0\u001b[0m\n",
       "\u001b[1;36m6\u001b[0m                    \u001b[1;36m26\u001b[0m            \u001b[1;36m24\u001b[0m              \u001b[1;36m52.0\u001b[0m                 \u001b[1;36m48.0\u001b[0m\n",
       "\u001b[1;36m7\u001b[0m                    \u001b[1;36m25\u001b[0m            \u001b[1;36m25\u001b[0m              \u001b[1;36m50.0\u001b[0m                 \u001b[1;36m50.0\u001b[0m\n",
       "\u001b[1;36m8\u001b[0m                    \u001b[1;36m21\u001b[0m            \u001b[1;36m29\u001b[0m              \u001b[1;36m42.0\u001b[0m                 \u001b[1;36m58.0\u001b[0m\n",
       "\u001b[1;36m9\u001b[0m                    \u001b[1;36m24\u001b[0m            \u001b[1;36m26\u001b[0m              \u001b[1;36m48.0\u001b[0m                 \u001b[1;36m52.0\u001b[0m\n",
       "\u001b[1;36m10\u001b[0m                   \u001b[1;36m24\u001b[0m            \u001b[1;36m26\u001b[0m              \u001b[1;36m48.0\u001b[0m                 \u001b[1;36m52.0\u001b[0m\n",
       "\u001b[1;36m11\u001b[0m                   \u001b[1;36m29\u001b[0m            \u001b[1;36m21\u001b[0m              \u001b[1;36m58.0\u001b[0m                 \u001b[1;36m42.0\u001b[0m\n",
       "\u001b[1;36m12\u001b[0m                   \u001b[1;36m20\u001b[0m            \u001b[1;36m30\u001b[0m              \u001b[1;36m40.0\u001b[0m                 \u001b[1;36m60.0\u001b[0m\n",
       "\u001b[1;36m13\u001b[0m                   \u001b[1;36m20\u001b[0m            \u001b[1;36m30\u001b[0m              \u001b[1;36m40.0\u001b[0m                 \u001b[1;36m60.0\u001b[0m\n",
       "\u001b[1;36m14\u001b[0m                   \u001b[1;36m19\u001b[0m            \u001b[1;36m31\u001b[0m              \u001b[1;36m38.0\u001b[0m                 \u001b[1;36m62.0\u001b[0m\n",
       "\u001b[1;36m15\u001b[0m                   \u001b[1;36m25\u001b[0m            \u001b[1;36m25\u001b[0m              \u001b[1;36m50.0\u001b[0m                 \u001b[1;36m50.0\u001b[0m\n",
       "\u001b[1;36m16\u001b[0m                   \u001b[1;36m24\u001b[0m            \u001b[1;36m26\u001b[0m              \u001b[1;36m48.0\u001b[0m                 \u001b[1;36m52.0\u001b[0m\n",
       "\u001b[1;36m17\u001b[0m                   \u001b[1;36m20\u001b[0m            \u001b[1;36m30\u001b[0m              \u001b[1;36m40.0\u001b[0m                 \u001b[1;36m60.0\u001b[0m\n",
       "\u001b[1;36m18\u001b[0m                   \u001b[1;36m22\u001b[0m            \u001b[1;36m28\u001b[0m              \u001b[1;36m44.0\u001b[0m                 \u001b[1;36m56.0\u001b[0m\n",
       "\u001b[1;36m19\u001b[0m                   \u001b[1;36m28\u001b[0m            \u001b[1;36m22\u001b[0m              \u001b[1;36m56.0\u001b[0m                 \u001b[1;36m44.0\u001b[0m\n",
       "\u001b[1;36m20\u001b[0m                   \u001b[1;36m26\u001b[0m            \u001b[1;36m24\u001b[0m              \u001b[1;36m52.0\u001b[0m                 \u001b[1;36m48.0\u001b[0m\n",
       "\u001b[1;36m21\u001b[0m                   \u001b[1;36m18\u001b[0m            \u001b[1;36m32\u001b[0m              \u001b[1;36m36.0\u001b[0m                 \u001b[1;36m64.0\u001b[0m\n",
       "\u001b[1;36m22\u001b[0m                   \u001b[1;36m19\u001b[0m            \u001b[1;36m31\u001b[0m              \u001b[1;36m38.0\u001b[0m                 \u001b[1;36m62.0\u001b[0m\n",
       "\u001b[1;36m23\u001b[0m                   \u001b[1;36m22\u001b[0m            \u001b[1;36m28\u001b[0m              \u001b[1;36m44.0\u001b[0m                 \u001b[1;36m56.0\u001b[0m\n",
       "\u001b[1;36m24\u001b[0m                   \u001b[1;36m25\u001b[0m            \u001b[1;36m25\u001b[0m              \u001b[1;36m50.0\u001b[0m                 \u001b[1;36m50.0\u001b[0m\n",
       "\u001b[1;36m25\u001b[0m                   \u001b[1;36m18\u001b[0m            \u001b[1;36m32\u001b[0m              \u001b[1;36m36.0\u001b[0m                 \u001b[1;36m64.0\u001b[0m\n",
       "\u001b[1;36m26\u001b[0m                   \u001b[1;36m23\u001b[0m            \u001b[1;36m27\u001b[0m              \u001b[1;36m46.0\u001b[0m                 \u001b[1;36m54.0\u001b[0m\n",
       "\u001b[1;36m27\u001b[0m                   \u001b[1;36m20\u001b[0m            \u001b[1;36m30\u001b[0m              \u001b[1;36m40.0\u001b[0m                 \u001b[1;36m60.0\u001b[0m\n",
       "\u001b[1;36m28\u001b[0m                   \u001b[1;36m25\u001b[0m            \u001b[1;36m25\u001b[0m              \u001b[1;36m50.0\u001b[0m                 \u001b[1;36m50.0\u001b[0m\n",
       "\u001b[1;36m29\u001b[0m                   \u001b[1;36m23\u001b[0m            \u001b[1;36m27\u001b[0m              \u001b[1;36m46.0\u001b[0m                 \u001b[1;36m54.0\u001b[0m\n",
       "\u001b[1;36m30\u001b[0m                   \u001b[1;36m19\u001b[0m            \u001b[1;36m31\u001b[0m              \u001b[1;36m38.0\u001b[0m                 \u001b[1;36m62.0\u001b[0m\n",
       "\u001b[1;36m31\u001b[0m                   \u001b[1;36m17\u001b[0m            \u001b[1;36m33\u001b[0m              \u001b[1;36m34.0\u001b[0m                 \u001b[1;36m66.0\u001b[0m\n",
       "\u001b[1;36m32\u001b[0m                   \u001b[1;36m21\u001b[0m            \u001b[1;36m29\u001b[0m              \u001b[1;36m42.0\u001b[0m                 \u001b[1;36m58.0\u001b[0m\n",
       "\u001b[1;36m33\u001b[0m                   \u001b[1;36m10\u001b[0m            \u001b[1;36m40\u001b[0m              \u001b[1;36m20.0\u001b[0m                 \u001b[1;36m80.0\u001b[0m\n",
       "\u001b[1;36m34\u001b[0m                   \u001b[1;36m12\u001b[0m            \u001b[1;36m38\u001b[0m              \u001b[1;36m24.0\u001b[0m                 \u001b[1;36m76.0\u001b[0m\n",
       "\u001b[1;36m35\u001b[0m                    \u001b[1;36m1\u001b[0m             \u001b[1;36m1\u001b[0m              \u001b[1;36m50.0\u001b[0m                 \u001b[1;36m50.0\u001b[0m\n"
      ]
     },
     "metadata": {},
     "output_type": "display_data"
    },
    {
     "data": {
      "text/html": [
       "<pre style=\"white-space:pre;overflow-x:auto;line-height:normal;font-family:Menlo,'DejaVu Sans Mono',consolas,'Courier New',monospace\">============================================================\n",
       "</pre>\n"
      ],
      "text/plain": [
       "============================================================\n"
      ]
     },
     "metadata": {},
     "output_type": "display_data"
    },
    {
     "data": {
      "text/html": [
       "<pre style=\"white-space:pre;overflow-x:auto;line-height:normal;font-family:Menlo,'DejaVu Sans Mono',consolas,'Courier New',monospace\"><span style=\"text-decoration: underline\">Missing variable span for </span><span style=\"color: #af00ff; text-decoration-color: #af00ff; text-decoration: underline\">screenwriter</span>\n",
       "\n",
       "</pre>\n"
      ],
      "text/plain": [
       "\u001b[4mMissing variable span for \u001b[0m\u001b[4;38;5;129mscreenwriter\u001b[0m\n",
       "\n"
      ]
     },
     "metadata": {},
     "output_type": "display_data"
    },
    {
     "data": {
      "text/html": [
       "<pre style=\"white-space:pre;overflow-x:auto;line-height:normal;font-family:Menlo,'DejaVu Sans Mono',consolas,'Courier New',monospace\">              num_of_na  num_of_no_na  percentage_of_na  percentage_of_no_na\n",
       "span_counter                                                                \n",
       "<span style=\"color: #008080; text-decoration-color: #008080; font-weight: bold\">0</span>                    <span style=\"color: #008080; text-decoration-color: #008080; font-weight: bold\">18</span>            <span style=\"color: #008080; text-decoration-color: #008080; font-weight: bold\">32</span>              <span style=\"color: #008080; text-decoration-color: #008080; font-weight: bold\">36.0</span>                 <span style=\"color: #008080; text-decoration-color: #008080; font-weight: bold\">64.0</span>\n",
       "<span style=\"color: #008080; text-decoration-color: #008080; font-weight: bold\">1</span>                    <span style=\"color: #008080; text-decoration-color: #008080; font-weight: bold\">16</span>            <span style=\"color: #008080; text-decoration-color: #008080; font-weight: bold\">34</span>              <span style=\"color: #008080; text-decoration-color: #008080; font-weight: bold\">32.0</span>                 <span style=\"color: #008080; text-decoration-color: #008080; font-weight: bold\">68.0</span>\n",
       "<span style=\"color: #008080; text-decoration-color: #008080; font-weight: bold\">2</span>                    <span style=\"color: #008080; text-decoration-color: #008080; font-weight: bold\">23</span>            <span style=\"color: #008080; text-decoration-color: #008080; font-weight: bold\">27</span>              <span style=\"color: #008080; text-decoration-color: #008080; font-weight: bold\">46.0</span>                 <span style=\"color: #008080; text-decoration-color: #008080; font-weight: bold\">54.0</span>\n",
       "<span style=\"color: #008080; text-decoration-color: #008080; font-weight: bold\">3</span>                    <span style=\"color: #008080; text-decoration-color: #008080; font-weight: bold\">20</span>            <span style=\"color: #008080; text-decoration-color: #008080; font-weight: bold\">30</span>              <span style=\"color: #008080; text-decoration-color: #008080; font-weight: bold\">40.0</span>                 <span style=\"color: #008080; text-decoration-color: #008080; font-weight: bold\">60.0</span>\n",
       "<span style=\"color: #008080; text-decoration-color: #008080; font-weight: bold\">4</span>                    <span style=\"color: #008080; text-decoration-color: #008080; font-weight: bold\">19</span>            <span style=\"color: #008080; text-decoration-color: #008080; font-weight: bold\">31</span>              <span style=\"color: #008080; text-decoration-color: #008080; font-weight: bold\">38.0</span>                 <span style=\"color: #008080; text-decoration-color: #008080; font-weight: bold\">62.0</span>\n",
       "<span style=\"color: #008080; text-decoration-color: #008080; font-weight: bold\">5</span>                    <span style=\"color: #008080; text-decoration-color: #008080; font-weight: bold\">16</span>            <span style=\"color: #008080; text-decoration-color: #008080; font-weight: bold\">34</span>              <span style=\"color: #008080; text-decoration-color: #008080; font-weight: bold\">32.0</span>                 <span style=\"color: #008080; text-decoration-color: #008080; font-weight: bold\">68.0</span>\n",
       "<span style=\"color: #008080; text-decoration-color: #008080; font-weight: bold\">6</span>                    <span style=\"color: #008080; text-decoration-color: #008080; font-weight: bold\">26</span>            <span style=\"color: #008080; text-decoration-color: #008080; font-weight: bold\">24</span>              <span style=\"color: #008080; text-decoration-color: #008080; font-weight: bold\">52.0</span>                 <span style=\"color: #008080; text-decoration-color: #008080; font-weight: bold\">48.0</span>\n",
       "<span style=\"color: #008080; text-decoration-color: #008080; font-weight: bold\">7</span>                    <span style=\"color: #008080; text-decoration-color: #008080; font-weight: bold\">26</span>            <span style=\"color: #008080; text-decoration-color: #008080; font-weight: bold\">24</span>              <span style=\"color: #008080; text-decoration-color: #008080; font-weight: bold\">52.0</span>                 <span style=\"color: #008080; text-decoration-color: #008080; font-weight: bold\">48.0</span>\n",
       "<span style=\"color: #008080; text-decoration-color: #008080; font-weight: bold\">8</span>                    <span style=\"color: #008080; text-decoration-color: #008080; font-weight: bold\">27</span>            <span style=\"color: #008080; text-decoration-color: #008080; font-weight: bold\">23</span>              <span style=\"color: #008080; text-decoration-color: #008080; font-weight: bold\">54.0</span>                 <span style=\"color: #008080; text-decoration-color: #008080; font-weight: bold\">46.0</span>\n",
       "<span style=\"color: #008080; text-decoration-color: #008080; font-weight: bold\">9</span>                    <span style=\"color: #008080; text-decoration-color: #008080; font-weight: bold\">28</span>            <span style=\"color: #008080; text-decoration-color: #008080; font-weight: bold\">22</span>              <span style=\"color: #008080; text-decoration-color: #008080; font-weight: bold\">56.0</span>                 <span style=\"color: #008080; text-decoration-color: #008080; font-weight: bold\">44.0</span>\n",
       "<span style=\"color: #008080; text-decoration-color: #008080; font-weight: bold\">10</span>                   <span style=\"color: #008080; text-decoration-color: #008080; font-weight: bold\">26</span>            <span style=\"color: #008080; text-decoration-color: #008080; font-weight: bold\">24</span>              <span style=\"color: #008080; text-decoration-color: #008080; font-weight: bold\">52.0</span>                 <span style=\"color: #008080; text-decoration-color: #008080; font-weight: bold\">48.0</span>\n",
       "<span style=\"color: #008080; text-decoration-color: #008080; font-weight: bold\">11</span>                   <span style=\"color: #008080; text-decoration-color: #008080; font-weight: bold\">30</span>            <span style=\"color: #008080; text-decoration-color: #008080; font-weight: bold\">20</span>              <span style=\"color: #008080; text-decoration-color: #008080; font-weight: bold\">60.0</span>                 <span style=\"color: #008080; text-decoration-color: #008080; font-weight: bold\">40.0</span>\n",
       "<span style=\"color: #008080; text-decoration-color: #008080; font-weight: bold\">12</span>                   <span style=\"color: #008080; text-decoration-color: #008080; font-weight: bold\">25</span>            <span style=\"color: #008080; text-decoration-color: #008080; font-weight: bold\">25</span>              <span style=\"color: #008080; text-decoration-color: #008080; font-weight: bold\">50.0</span>                 <span style=\"color: #008080; text-decoration-color: #008080; font-weight: bold\">50.0</span>\n",
       "<span style=\"color: #008080; text-decoration-color: #008080; font-weight: bold\">13</span>                   <span style=\"color: #008080; text-decoration-color: #008080; font-weight: bold\">26</span>            <span style=\"color: #008080; text-decoration-color: #008080; font-weight: bold\">24</span>              <span style=\"color: #008080; text-decoration-color: #008080; font-weight: bold\">52.0</span>                 <span style=\"color: #008080; text-decoration-color: #008080; font-weight: bold\">48.0</span>\n",
       "<span style=\"color: #008080; text-decoration-color: #008080; font-weight: bold\">14</span>                   <span style=\"color: #008080; text-decoration-color: #008080; font-weight: bold\">19</span>            <span style=\"color: #008080; text-decoration-color: #008080; font-weight: bold\">31</span>              <span style=\"color: #008080; text-decoration-color: #008080; font-weight: bold\">38.0</span>                 <span style=\"color: #008080; text-decoration-color: #008080; font-weight: bold\">62.0</span>\n",
       "<span style=\"color: #008080; text-decoration-color: #008080; font-weight: bold\">15</span>                   <span style=\"color: #008080; text-decoration-color: #008080; font-weight: bold\">24</span>            <span style=\"color: #008080; text-decoration-color: #008080; font-weight: bold\">26</span>              <span style=\"color: #008080; text-decoration-color: #008080; font-weight: bold\">48.0</span>                 <span style=\"color: #008080; text-decoration-color: #008080; font-weight: bold\">52.0</span>\n",
       "<span style=\"color: #008080; text-decoration-color: #008080; font-weight: bold\">16</span>                   <span style=\"color: #008080; text-decoration-color: #008080; font-weight: bold\">25</span>            <span style=\"color: #008080; text-decoration-color: #008080; font-weight: bold\">25</span>              <span style=\"color: #008080; text-decoration-color: #008080; font-weight: bold\">50.0</span>                 <span style=\"color: #008080; text-decoration-color: #008080; font-weight: bold\">50.0</span>\n",
       "<span style=\"color: #008080; text-decoration-color: #008080; font-weight: bold\">17</span>                   <span style=\"color: #008080; text-decoration-color: #008080; font-weight: bold\">21</span>            <span style=\"color: #008080; text-decoration-color: #008080; font-weight: bold\">29</span>              <span style=\"color: #008080; text-decoration-color: #008080; font-weight: bold\">42.0</span>                 <span style=\"color: #008080; text-decoration-color: #008080; font-weight: bold\">58.0</span>\n",
       "<span style=\"color: #008080; text-decoration-color: #008080; font-weight: bold\">18</span>                   <span style=\"color: #008080; text-decoration-color: #008080; font-weight: bold\">21</span>            <span style=\"color: #008080; text-decoration-color: #008080; font-weight: bold\">29</span>              <span style=\"color: #008080; text-decoration-color: #008080; font-weight: bold\">42.0</span>                 <span style=\"color: #008080; text-decoration-color: #008080; font-weight: bold\">58.0</span>\n",
       "<span style=\"color: #008080; text-decoration-color: #008080; font-weight: bold\">19</span>                   <span style=\"color: #008080; text-decoration-color: #008080; font-weight: bold\">30</span>            <span style=\"color: #008080; text-decoration-color: #008080; font-weight: bold\">20</span>              <span style=\"color: #008080; text-decoration-color: #008080; font-weight: bold\">60.0</span>                 <span style=\"color: #008080; text-decoration-color: #008080; font-weight: bold\">40.0</span>\n",
       "<span style=\"color: #008080; text-decoration-color: #008080; font-weight: bold\">20</span>                   <span style=\"color: #008080; text-decoration-color: #008080; font-weight: bold\">23</span>            <span style=\"color: #008080; text-decoration-color: #008080; font-weight: bold\">27</span>              <span style=\"color: #008080; text-decoration-color: #008080; font-weight: bold\">46.0</span>                 <span style=\"color: #008080; text-decoration-color: #008080; font-weight: bold\">54.0</span>\n",
       "<span style=\"color: #008080; text-decoration-color: #008080; font-weight: bold\">21</span>                   <span style=\"color: #008080; text-decoration-color: #008080; font-weight: bold\">18</span>            <span style=\"color: #008080; text-decoration-color: #008080; font-weight: bold\">32</span>              <span style=\"color: #008080; text-decoration-color: #008080; font-weight: bold\">36.0</span>                 <span style=\"color: #008080; text-decoration-color: #008080; font-weight: bold\">64.0</span>\n",
       "<span style=\"color: #008080; text-decoration-color: #008080; font-weight: bold\">22</span>                   <span style=\"color: #008080; text-decoration-color: #008080; font-weight: bold\">22</span>            <span style=\"color: #008080; text-decoration-color: #008080; font-weight: bold\">28</span>              <span style=\"color: #008080; text-decoration-color: #008080; font-weight: bold\">44.0</span>                 <span style=\"color: #008080; text-decoration-color: #008080; font-weight: bold\">56.0</span>\n",
       "<span style=\"color: #008080; text-decoration-color: #008080; font-weight: bold\">23</span>                   <span style=\"color: #008080; text-decoration-color: #008080; font-weight: bold\">23</span>            <span style=\"color: #008080; text-decoration-color: #008080; font-weight: bold\">27</span>              <span style=\"color: #008080; text-decoration-color: #008080; font-weight: bold\">46.0</span>                 <span style=\"color: #008080; text-decoration-color: #008080; font-weight: bold\">54.0</span>\n",
       "<span style=\"color: #008080; text-decoration-color: #008080; font-weight: bold\">24</span>                   <span style=\"color: #008080; text-decoration-color: #008080; font-weight: bold\">24</span>            <span style=\"color: #008080; text-decoration-color: #008080; font-weight: bold\">26</span>              <span style=\"color: #008080; text-decoration-color: #008080; font-weight: bold\">48.0</span>                 <span style=\"color: #008080; text-decoration-color: #008080; font-weight: bold\">52.0</span>\n",
       "<span style=\"color: #008080; text-decoration-color: #008080; font-weight: bold\">25</span>                   <span style=\"color: #008080; text-decoration-color: #008080; font-weight: bold\">20</span>            <span style=\"color: #008080; text-decoration-color: #008080; font-weight: bold\">30</span>              <span style=\"color: #008080; text-decoration-color: #008080; font-weight: bold\">40.0</span>                 <span style=\"color: #008080; text-decoration-color: #008080; font-weight: bold\">60.0</span>\n",
       "<span style=\"color: #008080; text-decoration-color: #008080; font-weight: bold\">26</span>                   <span style=\"color: #008080; text-decoration-color: #008080; font-weight: bold\">28</span>            <span style=\"color: #008080; text-decoration-color: #008080; font-weight: bold\">22</span>              <span style=\"color: #008080; text-decoration-color: #008080; font-weight: bold\">56.0</span>                 <span style=\"color: #008080; text-decoration-color: #008080; font-weight: bold\">44.0</span>\n",
       "<span style=\"color: #008080; text-decoration-color: #008080; font-weight: bold\">27</span>                   <span style=\"color: #008080; text-decoration-color: #008080; font-weight: bold\">20</span>            <span style=\"color: #008080; text-decoration-color: #008080; font-weight: bold\">30</span>              <span style=\"color: #008080; text-decoration-color: #008080; font-weight: bold\">40.0</span>                 <span style=\"color: #008080; text-decoration-color: #008080; font-weight: bold\">60.0</span>\n",
       "<span style=\"color: #008080; text-decoration-color: #008080; font-weight: bold\">28</span>                   <span style=\"color: #008080; text-decoration-color: #008080; font-weight: bold\">28</span>            <span style=\"color: #008080; text-decoration-color: #008080; font-weight: bold\">22</span>              <span style=\"color: #008080; text-decoration-color: #008080; font-weight: bold\">56.0</span>                 <span style=\"color: #008080; text-decoration-color: #008080; font-weight: bold\">44.0</span>\n",
       "<span style=\"color: #008080; text-decoration-color: #008080; font-weight: bold\">29</span>                   <span style=\"color: #008080; text-decoration-color: #008080; font-weight: bold\">22</span>            <span style=\"color: #008080; text-decoration-color: #008080; font-weight: bold\">28</span>              <span style=\"color: #008080; text-decoration-color: #008080; font-weight: bold\">44.0</span>                 <span style=\"color: #008080; text-decoration-color: #008080; font-weight: bold\">56.0</span>\n",
       "<span style=\"color: #008080; text-decoration-color: #008080; font-weight: bold\">30</span>                   <span style=\"color: #008080; text-decoration-color: #008080; font-weight: bold\">20</span>            <span style=\"color: #008080; text-decoration-color: #008080; font-weight: bold\">30</span>              <span style=\"color: #008080; text-decoration-color: #008080; font-weight: bold\">40.0</span>                 <span style=\"color: #008080; text-decoration-color: #008080; font-weight: bold\">60.0</span>\n",
       "<span style=\"color: #008080; text-decoration-color: #008080; font-weight: bold\">31</span>                   <span style=\"color: #008080; text-decoration-color: #008080; font-weight: bold\">20</span>            <span style=\"color: #008080; text-decoration-color: #008080; font-weight: bold\">30</span>              <span style=\"color: #008080; text-decoration-color: #008080; font-weight: bold\">40.0</span>                 <span style=\"color: #008080; text-decoration-color: #008080; font-weight: bold\">60.0</span>\n",
       "<span style=\"color: #008080; text-decoration-color: #008080; font-weight: bold\">32</span>                   <span style=\"color: #008080; text-decoration-color: #008080; font-weight: bold\">26</span>            <span style=\"color: #008080; text-decoration-color: #008080; font-weight: bold\">24</span>              <span style=\"color: #008080; text-decoration-color: #008080; font-weight: bold\">52.0</span>                 <span style=\"color: #008080; text-decoration-color: #008080; font-weight: bold\">48.0</span>\n",
       "<span style=\"color: #008080; text-decoration-color: #008080; font-weight: bold\">33</span>                   <span style=\"color: #008080; text-decoration-color: #008080; font-weight: bold\">17</span>            <span style=\"color: #008080; text-decoration-color: #008080; font-weight: bold\">33</span>              <span style=\"color: #008080; text-decoration-color: #008080; font-weight: bold\">34.0</span>                 <span style=\"color: #008080; text-decoration-color: #008080; font-weight: bold\">66.0</span>\n",
       "<span style=\"color: #008080; text-decoration-color: #008080; font-weight: bold\">34</span>                   <span style=\"color: #008080; text-decoration-color: #008080; font-weight: bold\">15</span>            <span style=\"color: #008080; text-decoration-color: #008080; font-weight: bold\">35</span>              <span style=\"color: #008080; text-decoration-color: #008080; font-weight: bold\">30.0</span>                 <span style=\"color: #008080; text-decoration-color: #008080; font-weight: bold\">70.0</span>\n",
       "<span style=\"color: #008080; text-decoration-color: #008080; font-weight: bold\">35</span>                    <span style=\"color: #008080; text-decoration-color: #008080; font-weight: bold\">1</span>             <span style=\"color: #008080; text-decoration-color: #008080; font-weight: bold\">1</span>              <span style=\"color: #008080; text-decoration-color: #008080; font-weight: bold\">50.0</span>                 <span style=\"color: #008080; text-decoration-color: #008080; font-weight: bold\">50.0</span>\n",
       "</pre>\n"
      ],
      "text/plain": [
       "              num_of_na  num_of_no_na  percentage_of_na  percentage_of_no_na\n",
       "span_counter                                                                \n",
       "\u001b[1;36m0\u001b[0m                    \u001b[1;36m18\u001b[0m            \u001b[1;36m32\u001b[0m              \u001b[1;36m36.0\u001b[0m                 \u001b[1;36m64.0\u001b[0m\n",
       "\u001b[1;36m1\u001b[0m                    \u001b[1;36m16\u001b[0m            \u001b[1;36m34\u001b[0m              \u001b[1;36m32.0\u001b[0m                 \u001b[1;36m68.0\u001b[0m\n",
       "\u001b[1;36m2\u001b[0m                    \u001b[1;36m23\u001b[0m            \u001b[1;36m27\u001b[0m              \u001b[1;36m46.0\u001b[0m                 \u001b[1;36m54.0\u001b[0m\n",
       "\u001b[1;36m3\u001b[0m                    \u001b[1;36m20\u001b[0m            \u001b[1;36m30\u001b[0m              \u001b[1;36m40.0\u001b[0m                 \u001b[1;36m60.0\u001b[0m\n",
       "\u001b[1;36m4\u001b[0m                    \u001b[1;36m19\u001b[0m            \u001b[1;36m31\u001b[0m              \u001b[1;36m38.0\u001b[0m                 \u001b[1;36m62.0\u001b[0m\n",
       "\u001b[1;36m5\u001b[0m                    \u001b[1;36m16\u001b[0m            \u001b[1;36m34\u001b[0m              \u001b[1;36m32.0\u001b[0m                 \u001b[1;36m68.0\u001b[0m\n",
       "\u001b[1;36m6\u001b[0m                    \u001b[1;36m26\u001b[0m            \u001b[1;36m24\u001b[0m              \u001b[1;36m52.0\u001b[0m                 \u001b[1;36m48.0\u001b[0m\n",
       "\u001b[1;36m7\u001b[0m                    \u001b[1;36m26\u001b[0m            \u001b[1;36m24\u001b[0m              \u001b[1;36m52.0\u001b[0m                 \u001b[1;36m48.0\u001b[0m\n",
       "\u001b[1;36m8\u001b[0m                    \u001b[1;36m27\u001b[0m            \u001b[1;36m23\u001b[0m              \u001b[1;36m54.0\u001b[0m                 \u001b[1;36m46.0\u001b[0m\n",
       "\u001b[1;36m9\u001b[0m                    \u001b[1;36m28\u001b[0m            \u001b[1;36m22\u001b[0m              \u001b[1;36m56.0\u001b[0m                 \u001b[1;36m44.0\u001b[0m\n",
       "\u001b[1;36m10\u001b[0m                   \u001b[1;36m26\u001b[0m            \u001b[1;36m24\u001b[0m              \u001b[1;36m52.0\u001b[0m                 \u001b[1;36m48.0\u001b[0m\n",
       "\u001b[1;36m11\u001b[0m                   \u001b[1;36m30\u001b[0m            \u001b[1;36m20\u001b[0m              \u001b[1;36m60.0\u001b[0m                 \u001b[1;36m40.0\u001b[0m\n",
       "\u001b[1;36m12\u001b[0m                   \u001b[1;36m25\u001b[0m            \u001b[1;36m25\u001b[0m              \u001b[1;36m50.0\u001b[0m                 \u001b[1;36m50.0\u001b[0m\n",
       "\u001b[1;36m13\u001b[0m                   \u001b[1;36m26\u001b[0m            \u001b[1;36m24\u001b[0m              \u001b[1;36m52.0\u001b[0m                 \u001b[1;36m48.0\u001b[0m\n",
       "\u001b[1;36m14\u001b[0m                   \u001b[1;36m19\u001b[0m            \u001b[1;36m31\u001b[0m              \u001b[1;36m38.0\u001b[0m                 \u001b[1;36m62.0\u001b[0m\n",
       "\u001b[1;36m15\u001b[0m                   \u001b[1;36m24\u001b[0m            \u001b[1;36m26\u001b[0m              \u001b[1;36m48.0\u001b[0m                 \u001b[1;36m52.0\u001b[0m\n",
       "\u001b[1;36m16\u001b[0m                   \u001b[1;36m25\u001b[0m            \u001b[1;36m25\u001b[0m              \u001b[1;36m50.0\u001b[0m                 \u001b[1;36m50.0\u001b[0m\n",
       "\u001b[1;36m17\u001b[0m                   \u001b[1;36m21\u001b[0m            \u001b[1;36m29\u001b[0m              \u001b[1;36m42.0\u001b[0m                 \u001b[1;36m58.0\u001b[0m\n",
       "\u001b[1;36m18\u001b[0m                   \u001b[1;36m21\u001b[0m            \u001b[1;36m29\u001b[0m              \u001b[1;36m42.0\u001b[0m                 \u001b[1;36m58.0\u001b[0m\n",
       "\u001b[1;36m19\u001b[0m                   \u001b[1;36m30\u001b[0m            \u001b[1;36m20\u001b[0m              \u001b[1;36m60.0\u001b[0m                 \u001b[1;36m40.0\u001b[0m\n",
       "\u001b[1;36m20\u001b[0m                   \u001b[1;36m23\u001b[0m            \u001b[1;36m27\u001b[0m              \u001b[1;36m46.0\u001b[0m                 \u001b[1;36m54.0\u001b[0m\n",
       "\u001b[1;36m21\u001b[0m                   \u001b[1;36m18\u001b[0m            \u001b[1;36m32\u001b[0m              \u001b[1;36m36.0\u001b[0m                 \u001b[1;36m64.0\u001b[0m\n",
       "\u001b[1;36m22\u001b[0m                   \u001b[1;36m22\u001b[0m            \u001b[1;36m28\u001b[0m              \u001b[1;36m44.0\u001b[0m                 \u001b[1;36m56.0\u001b[0m\n",
       "\u001b[1;36m23\u001b[0m                   \u001b[1;36m23\u001b[0m            \u001b[1;36m27\u001b[0m              \u001b[1;36m46.0\u001b[0m                 \u001b[1;36m54.0\u001b[0m\n",
       "\u001b[1;36m24\u001b[0m                   \u001b[1;36m24\u001b[0m            \u001b[1;36m26\u001b[0m              \u001b[1;36m48.0\u001b[0m                 \u001b[1;36m52.0\u001b[0m\n",
       "\u001b[1;36m25\u001b[0m                   \u001b[1;36m20\u001b[0m            \u001b[1;36m30\u001b[0m              \u001b[1;36m40.0\u001b[0m                 \u001b[1;36m60.0\u001b[0m\n",
       "\u001b[1;36m26\u001b[0m                   \u001b[1;36m28\u001b[0m            \u001b[1;36m22\u001b[0m              \u001b[1;36m56.0\u001b[0m                 \u001b[1;36m44.0\u001b[0m\n",
       "\u001b[1;36m27\u001b[0m                   \u001b[1;36m20\u001b[0m            \u001b[1;36m30\u001b[0m              \u001b[1;36m40.0\u001b[0m                 \u001b[1;36m60.0\u001b[0m\n",
       "\u001b[1;36m28\u001b[0m                   \u001b[1;36m28\u001b[0m            \u001b[1;36m22\u001b[0m              \u001b[1;36m56.0\u001b[0m                 \u001b[1;36m44.0\u001b[0m\n",
       "\u001b[1;36m29\u001b[0m                   \u001b[1;36m22\u001b[0m            \u001b[1;36m28\u001b[0m              \u001b[1;36m44.0\u001b[0m                 \u001b[1;36m56.0\u001b[0m\n",
       "\u001b[1;36m30\u001b[0m                   \u001b[1;36m20\u001b[0m            \u001b[1;36m30\u001b[0m              \u001b[1;36m40.0\u001b[0m                 \u001b[1;36m60.0\u001b[0m\n",
       "\u001b[1;36m31\u001b[0m                   \u001b[1;36m20\u001b[0m            \u001b[1;36m30\u001b[0m              \u001b[1;36m40.0\u001b[0m                 \u001b[1;36m60.0\u001b[0m\n",
       "\u001b[1;36m32\u001b[0m                   \u001b[1;36m26\u001b[0m            \u001b[1;36m24\u001b[0m              \u001b[1;36m52.0\u001b[0m                 \u001b[1;36m48.0\u001b[0m\n",
       "\u001b[1;36m33\u001b[0m                   \u001b[1;36m17\u001b[0m            \u001b[1;36m33\u001b[0m              \u001b[1;36m34.0\u001b[0m                 \u001b[1;36m66.0\u001b[0m\n",
       "\u001b[1;36m34\u001b[0m                   \u001b[1;36m15\u001b[0m            \u001b[1;36m35\u001b[0m              \u001b[1;36m30.0\u001b[0m                 \u001b[1;36m70.0\u001b[0m\n",
       "\u001b[1;36m35\u001b[0m                    \u001b[1;36m1\u001b[0m             \u001b[1;36m1\u001b[0m              \u001b[1;36m50.0\u001b[0m                 \u001b[1;36m50.0\u001b[0m\n"
      ]
     },
     "metadata": {},
     "output_type": "display_data"
    },
    {
     "data": {
      "text/html": [
       "<pre style=\"white-space:pre;overflow-x:auto;line-height:normal;font-family:Menlo,'DejaVu Sans Mono',consolas,'Courier New',monospace\">============================================================\n",
       "</pre>\n"
      ],
      "text/plain": [
       "============================================================\n"
      ]
     },
     "metadata": {},
     "output_type": "display_data"
    },
    {
     "data": {
      "text/html": [
       "<pre style=\"white-space:pre;overflow-x:auto;line-height:normal;font-family:Menlo,'DejaVu Sans Mono',consolas,'Courier New',monospace\"><span style=\"text-decoration: underline\">Missing variable span for </span><span style=\"color: #af00ff; text-decoration-color: #af00ff; text-decoration: underline\">duration</span>\n",
       "\n",
       "</pre>\n"
      ],
      "text/plain": [
       "\u001b[4mMissing variable span for \u001b[0m\u001b[4;38;5;129mduration\u001b[0m\n",
       "\n"
      ]
     },
     "metadata": {},
     "output_type": "display_data"
    },
    {
     "data": {
      "text/html": [
       "<pre style=\"white-space:pre;overflow-x:auto;line-height:normal;font-family:Menlo,'DejaVu Sans Mono',consolas,'Courier New',monospace\">              num_of_na  num_of_no_na  percentage_of_na  percentage_of_no_na\n",
       "span_counter                                                                \n",
       "<span style=\"color: #008080; text-decoration-color: #008080; font-weight: bold\">0</span>                     <span style=\"color: #008080; text-decoration-color: #008080; font-weight: bold\">0</span>            <span style=\"color: #008080; text-decoration-color: #008080; font-weight: bold\">50</span>               <span style=\"color: #008080; text-decoration-color: #008080; font-weight: bold\">0.0</span>                <span style=\"color: #008080; text-decoration-color: #008080; font-weight: bold\">100.0</span>\n",
       "<span style=\"color: #008080; text-decoration-color: #008080; font-weight: bold\">1</span>                     <span style=\"color: #008080; text-decoration-color: #008080; font-weight: bold\">1</span>            <span style=\"color: #008080; text-decoration-color: #008080; font-weight: bold\">49</span>               <span style=\"color: #008080; text-decoration-color: #008080; font-weight: bold\">2.0</span>                 <span style=\"color: #008080; text-decoration-color: #008080; font-weight: bold\">98.0</span>\n",
       "<span style=\"color: #008080; text-decoration-color: #008080; font-weight: bold\">2</span>                     <span style=\"color: #008080; text-decoration-color: #008080; font-weight: bold\">2</span>            <span style=\"color: #008080; text-decoration-color: #008080; font-weight: bold\">48</span>               <span style=\"color: #008080; text-decoration-color: #008080; font-weight: bold\">4.0</span>                 <span style=\"color: #008080; text-decoration-color: #008080; font-weight: bold\">96.0</span>\n",
       "<span style=\"color: #008080; text-decoration-color: #008080; font-weight: bold\">3</span>                     <span style=\"color: #008080; text-decoration-color: #008080; font-weight: bold\">0</span>            <span style=\"color: #008080; text-decoration-color: #008080; font-weight: bold\">50</span>               <span style=\"color: #008080; text-decoration-color: #008080; font-weight: bold\">0.0</span>                <span style=\"color: #008080; text-decoration-color: #008080; font-weight: bold\">100.0</span>\n",
       "<span style=\"color: #008080; text-decoration-color: #008080; font-weight: bold\">4</span>                     <span style=\"color: #008080; text-decoration-color: #008080; font-weight: bold\">0</span>            <span style=\"color: #008080; text-decoration-color: #008080; font-weight: bold\">50</span>               <span style=\"color: #008080; text-decoration-color: #008080; font-weight: bold\">0.0</span>                <span style=\"color: #008080; text-decoration-color: #008080; font-weight: bold\">100.0</span>\n",
       "<span style=\"color: #008080; text-decoration-color: #008080; font-weight: bold\">5</span>                     <span style=\"color: #008080; text-decoration-color: #008080; font-weight: bold\">1</span>            <span style=\"color: #008080; text-decoration-color: #008080; font-weight: bold\">49</span>               <span style=\"color: #008080; text-decoration-color: #008080; font-weight: bold\">2.0</span>                 <span style=\"color: #008080; text-decoration-color: #008080; font-weight: bold\">98.0</span>\n",
       "<span style=\"color: #008080; text-decoration-color: #008080; font-weight: bold\">6</span>                     <span style=\"color: #008080; text-decoration-color: #008080; font-weight: bold\">0</span>            <span style=\"color: #008080; text-decoration-color: #008080; font-weight: bold\">50</span>               <span style=\"color: #008080; text-decoration-color: #008080; font-weight: bold\">0.0</span>                <span style=\"color: #008080; text-decoration-color: #008080; font-weight: bold\">100.0</span>\n",
       "<span style=\"color: #008080; text-decoration-color: #008080; font-weight: bold\">7</span>                     <span style=\"color: #008080; text-decoration-color: #008080; font-weight: bold\">0</span>            <span style=\"color: #008080; text-decoration-color: #008080; font-weight: bold\">50</span>               <span style=\"color: #008080; text-decoration-color: #008080; font-weight: bold\">0.0</span>                <span style=\"color: #008080; text-decoration-color: #008080; font-weight: bold\">100.0</span>\n",
       "<span style=\"color: #008080; text-decoration-color: #008080; font-weight: bold\">8</span>                     <span style=\"color: #008080; text-decoration-color: #008080; font-weight: bold\">1</span>            <span style=\"color: #008080; text-decoration-color: #008080; font-weight: bold\">49</span>               <span style=\"color: #008080; text-decoration-color: #008080; font-weight: bold\">2.0</span>                 <span style=\"color: #008080; text-decoration-color: #008080; font-weight: bold\">98.0</span>\n",
       "<span style=\"color: #008080; text-decoration-color: #008080; font-weight: bold\">9</span>                     <span style=\"color: #008080; text-decoration-color: #008080; font-weight: bold\">1</span>            <span style=\"color: #008080; text-decoration-color: #008080; font-weight: bold\">49</span>               <span style=\"color: #008080; text-decoration-color: #008080; font-weight: bold\">2.0</span>                 <span style=\"color: #008080; text-decoration-color: #008080; font-weight: bold\">98.0</span>\n",
       "<span style=\"color: #008080; text-decoration-color: #008080; font-weight: bold\">10</span>                    <span style=\"color: #008080; text-decoration-color: #008080; font-weight: bold\">0</span>            <span style=\"color: #008080; text-decoration-color: #008080; font-weight: bold\">50</span>               <span style=\"color: #008080; text-decoration-color: #008080; font-weight: bold\">0.0</span>                <span style=\"color: #008080; text-decoration-color: #008080; font-weight: bold\">100.0</span>\n",
       "<span style=\"color: #008080; text-decoration-color: #008080; font-weight: bold\">11</span>                    <span style=\"color: #008080; text-decoration-color: #008080; font-weight: bold\">1</span>            <span style=\"color: #008080; text-decoration-color: #008080; font-weight: bold\">49</span>               <span style=\"color: #008080; text-decoration-color: #008080; font-weight: bold\">2.0</span>                 <span style=\"color: #008080; text-decoration-color: #008080; font-weight: bold\">98.0</span>\n",
       "<span style=\"color: #008080; text-decoration-color: #008080; font-weight: bold\">12</span>                    <span style=\"color: #008080; text-decoration-color: #008080; font-weight: bold\">0</span>            <span style=\"color: #008080; text-decoration-color: #008080; font-weight: bold\">50</span>               <span style=\"color: #008080; text-decoration-color: #008080; font-weight: bold\">0.0</span>                <span style=\"color: #008080; text-decoration-color: #008080; font-weight: bold\">100.0</span>\n",
       "<span style=\"color: #008080; text-decoration-color: #008080; font-weight: bold\">13</span>                    <span style=\"color: #008080; text-decoration-color: #008080; font-weight: bold\">0</span>            <span style=\"color: #008080; text-decoration-color: #008080; font-weight: bold\">50</span>               <span style=\"color: #008080; text-decoration-color: #008080; font-weight: bold\">0.0</span>                <span style=\"color: #008080; text-decoration-color: #008080; font-weight: bold\">100.0</span>\n",
       "<span style=\"color: #008080; text-decoration-color: #008080; font-weight: bold\">14</span>                    <span style=\"color: #008080; text-decoration-color: #008080; font-weight: bold\">1</span>            <span style=\"color: #008080; text-decoration-color: #008080; font-weight: bold\">49</span>               <span style=\"color: #008080; text-decoration-color: #008080; font-weight: bold\">2.0</span>                 <span style=\"color: #008080; text-decoration-color: #008080; font-weight: bold\">98.0</span>\n",
       "<span style=\"color: #008080; text-decoration-color: #008080; font-weight: bold\">15</span>                    <span style=\"color: #008080; text-decoration-color: #008080; font-weight: bold\">1</span>            <span style=\"color: #008080; text-decoration-color: #008080; font-weight: bold\">49</span>               <span style=\"color: #008080; text-decoration-color: #008080; font-weight: bold\">2.0</span>                 <span style=\"color: #008080; text-decoration-color: #008080; font-weight: bold\">98.0</span>\n",
       "<span style=\"color: #008080; text-decoration-color: #008080; font-weight: bold\">16</span>                    <span style=\"color: #008080; text-decoration-color: #008080; font-weight: bold\">0</span>            <span style=\"color: #008080; text-decoration-color: #008080; font-weight: bold\">50</span>               <span style=\"color: #008080; text-decoration-color: #008080; font-weight: bold\">0.0</span>                <span style=\"color: #008080; text-decoration-color: #008080; font-weight: bold\">100.0</span>\n",
       "<span style=\"color: #008080; text-decoration-color: #008080; font-weight: bold\">17</span>                    <span style=\"color: #008080; text-decoration-color: #008080; font-weight: bold\">0</span>            <span style=\"color: #008080; text-decoration-color: #008080; font-weight: bold\">50</span>               <span style=\"color: #008080; text-decoration-color: #008080; font-weight: bold\">0.0</span>                <span style=\"color: #008080; text-decoration-color: #008080; font-weight: bold\">100.0</span>\n",
       "<span style=\"color: #008080; text-decoration-color: #008080; font-weight: bold\">18</span>                    <span style=\"color: #008080; text-decoration-color: #008080; font-weight: bold\">0</span>            <span style=\"color: #008080; text-decoration-color: #008080; font-weight: bold\">50</span>               <span style=\"color: #008080; text-decoration-color: #008080; font-weight: bold\">0.0</span>                <span style=\"color: #008080; text-decoration-color: #008080; font-weight: bold\">100.0</span>\n",
       "<span style=\"color: #008080; text-decoration-color: #008080; font-weight: bold\">19</span>                    <span style=\"color: #008080; text-decoration-color: #008080; font-weight: bold\">0</span>            <span style=\"color: #008080; text-decoration-color: #008080; font-weight: bold\">50</span>               <span style=\"color: #008080; text-decoration-color: #008080; font-weight: bold\">0.0</span>                <span style=\"color: #008080; text-decoration-color: #008080; font-weight: bold\">100.0</span>\n",
       "<span style=\"color: #008080; text-decoration-color: #008080; font-weight: bold\">20</span>                    <span style=\"color: #008080; text-decoration-color: #008080; font-weight: bold\">0</span>            <span style=\"color: #008080; text-decoration-color: #008080; font-weight: bold\">50</span>               <span style=\"color: #008080; text-decoration-color: #008080; font-weight: bold\">0.0</span>                <span style=\"color: #008080; text-decoration-color: #008080; font-weight: bold\">100.0</span>\n",
       "<span style=\"color: #008080; text-decoration-color: #008080; font-weight: bold\">21</span>                    <span style=\"color: #008080; text-decoration-color: #008080; font-weight: bold\">0</span>            <span style=\"color: #008080; text-decoration-color: #008080; font-weight: bold\">50</span>               <span style=\"color: #008080; text-decoration-color: #008080; font-weight: bold\">0.0</span>                <span style=\"color: #008080; text-decoration-color: #008080; font-weight: bold\">100.0</span>\n",
       "<span style=\"color: #008080; text-decoration-color: #008080; font-weight: bold\">22</span>                    <span style=\"color: #008080; text-decoration-color: #008080; font-weight: bold\">0</span>            <span style=\"color: #008080; text-decoration-color: #008080; font-weight: bold\">50</span>               <span style=\"color: #008080; text-decoration-color: #008080; font-weight: bold\">0.0</span>                <span style=\"color: #008080; text-decoration-color: #008080; font-weight: bold\">100.0</span>\n",
       "<span style=\"color: #008080; text-decoration-color: #008080; font-weight: bold\">23</span>                    <span style=\"color: #008080; text-decoration-color: #008080; font-weight: bold\">0</span>            <span style=\"color: #008080; text-decoration-color: #008080; font-weight: bold\">50</span>               <span style=\"color: #008080; text-decoration-color: #008080; font-weight: bold\">0.0</span>                <span style=\"color: #008080; text-decoration-color: #008080; font-weight: bold\">100.0</span>\n",
       "<span style=\"color: #008080; text-decoration-color: #008080; font-weight: bold\">24</span>                    <span style=\"color: #008080; text-decoration-color: #008080; font-weight: bold\">0</span>            <span style=\"color: #008080; text-decoration-color: #008080; font-weight: bold\">50</span>               <span style=\"color: #008080; text-decoration-color: #008080; font-weight: bold\">0.0</span>                <span style=\"color: #008080; text-decoration-color: #008080; font-weight: bold\">100.0</span>\n",
       "<span style=\"color: #008080; text-decoration-color: #008080; font-weight: bold\">25</span>                    <span style=\"color: #008080; text-decoration-color: #008080; font-weight: bold\">3</span>            <span style=\"color: #008080; text-decoration-color: #008080; font-weight: bold\">47</span>               <span style=\"color: #008080; text-decoration-color: #008080; font-weight: bold\">6.0</span>                 <span style=\"color: #008080; text-decoration-color: #008080; font-weight: bold\">94.0</span>\n",
       "<span style=\"color: #008080; text-decoration-color: #008080; font-weight: bold\">26</span>                    <span style=\"color: #008080; text-decoration-color: #008080; font-weight: bold\">1</span>            <span style=\"color: #008080; text-decoration-color: #008080; font-weight: bold\">49</span>               <span style=\"color: #008080; text-decoration-color: #008080; font-weight: bold\">2.0</span>                 <span style=\"color: #008080; text-decoration-color: #008080; font-weight: bold\">98.0</span>\n",
       "<span style=\"color: #008080; text-decoration-color: #008080; font-weight: bold\">27</span>                    <span style=\"color: #008080; text-decoration-color: #008080; font-weight: bold\">1</span>            <span style=\"color: #008080; text-decoration-color: #008080; font-weight: bold\">49</span>               <span style=\"color: #008080; text-decoration-color: #008080; font-weight: bold\">2.0</span>                 <span style=\"color: #008080; text-decoration-color: #008080; font-weight: bold\">98.0</span>\n",
       "<span style=\"color: #008080; text-decoration-color: #008080; font-weight: bold\">28</span>                    <span style=\"color: #008080; text-decoration-color: #008080; font-weight: bold\">1</span>            <span style=\"color: #008080; text-decoration-color: #008080; font-weight: bold\">49</span>               <span style=\"color: #008080; text-decoration-color: #008080; font-weight: bold\">2.0</span>                 <span style=\"color: #008080; text-decoration-color: #008080; font-weight: bold\">98.0</span>\n",
       "<span style=\"color: #008080; text-decoration-color: #008080; font-weight: bold\">29</span>                    <span style=\"color: #008080; text-decoration-color: #008080; font-weight: bold\">1</span>            <span style=\"color: #008080; text-decoration-color: #008080; font-weight: bold\">49</span>               <span style=\"color: #008080; text-decoration-color: #008080; font-weight: bold\">2.0</span>                 <span style=\"color: #008080; text-decoration-color: #008080; font-weight: bold\">98.0</span>\n",
       "<span style=\"color: #008080; text-decoration-color: #008080; font-weight: bold\">30</span>                    <span style=\"color: #008080; text-decoration-color: #008080; font-weight: bold\">2</span>            <span style=\"color: #008080; text-decoration-color: #008080; font-weight: bold\">48</span>               <span style=\"color: #008080; text-decoration-color: #008080; font-weight: bold\">4.0</span>                 <span style=\"color: #008080; text-decoration-color: #008080; font-weight: bold\">96.0</span>\n",
       "<span style=\"color: #008080; text-decoration-color: #008080; font-weight: bold\">31</span>                    <span style=\"color: #008080; text-decoration-color: #008080; font-weight: bold\">2</span>            <span style=\"color: #008080; text-decoration-color: #008080; font-weight: bold\">48</span>               <span style=\"color: #008080; text-decoration-color: #008080; font-weight: bold\">4.0</span>                 <span style=\"color: #008080; text-decoration-color: #008080; font-weight: bold\">96.0</span>\n",
       "<span style=\"color: #008080; text-decoration-color: #008080; font-weight: bold\">32</span>                    <span style=\"color: #008080; text-decoration-color: #008080; font-weight: bold\">1</span>            <span style=\"color: #008080; text-decoration-color: #008080; font-weight: bold\">49</span>               <span style=\"color: #008080; text-decoration-color: #008080; font-weight: bold\">2.0</span>                 <span style=\"color: #008080; text-decoration-color: #008080; font-weight: bold\">98.0</span>\n",
       "<span style=\"color: #008080; text-decoration-color: #008080; font-weight: bold\">33</span>                    <span style=\"color: #008080; text-decoration-color: #008080; font-weight: bold\">0</span>            <span style=\"color: #008080; text-decoration-color: #008080; font-weight: bold\">50</span>               <span style=\"color: #008080; text-decoration-color: #008080; font-weight: bold\">0.0</span>                <span style=\"color: #008080; text-decoration-color: #008080; font-weight: bold\">100.0</span>\n",
       "<span style=\"color: #008080; text-decoration-color: #008080; font-weight: bold\">34</span>                    <span style=\"color: #008080; text-decoration-color: #008080; font-weight: bold\">2</span>            <span style=\"color: #008080; text-decoration-color: #008080; font-weight: bold\">48</span>               <span style=\"color: #008080; text-decoration-color: #008080; font-weight: bold\">4.0</span>                 <span style=\"color: #008080; text-decoration-color: #008080; font-weight: bold\">96.0</span>\n",
       "<span style=\"color: #008080; text-decoration-color: #008080; font-weight: bold\">35</span>                    <span style=\"color: #008080; text-decoration-color: #008080; font-weight: bold\">1</span>             <span style=\"color: #008080; text-decoration-color: #008080; font-weight: bold\">1</span>              <span style=\"color: #008080; text-decoration-color: #008080; font-weight: bold\">50.0</span>                 <span style=\"color: #008080; text-decoration-color: #008080; font-weight: bold\">50.0</span>\n",
       "</pre>\n"
      ],
      "text/plain": [
       "              num_of_na  num_of_no_na  percentage_of_na  percentage_of_no_na\n",
       "span_counter                                                                \n",
       "\u001b[1;36m0\u001b[0m                     \u001b[1;36m0\u001b[0m            \u001b[1;36m50\u001b[0m               \u001b[1;36m0.0\u001b[0m                \u001b[1;36m100.0\u001b[0m\n",
       "\u001b[1;36m1\u001b[0m                     \u001b[1;36m1\u001b[0m            \u001b[1;36m49\u001b[0m               \u001b[1;36m2.0\u001b[0m                 \u001b[1;36m98.0\u001b[0m\n",
       "\u001b[1;36m2\u001b[0m                     \u001b[1;36m2\u001b[0m            \u001b[1;36m48\u001b[0m               \u001b[1;36m4.0\u001b[0m                 \u001b[1;36m96.0\u001b[0m\n",
       "\u001b[1;36m3\u001b[0m                     \u001b[1;36m0\u001b[0m            \u001b[1;36m50\u001b[0m               \u001b[1;36m0.0\u001b[0m                \u001b[1;36m100.0\u001b[0m\n",
       "\u001b[1;36m4\u001b[0m                     \u001b[1;36m0\u001b[0m            \u001b[1;36m50\u001b[0m               \u001b[1;36m0.0\u001b[0m                \u001b[1;36m100.0\u001b[0m\n",
       "\u001b[1;36m5\u001b[0m                     \u001b[1;36m1\u001b[0m            \u001b[1;36m49\u001b[0m               \u001b[1;36m2.0\u001b[0m                 \u001b[1;36m98.0\u001b[0m\n",
       "\u001b[1;36m6\u001b[0m                     \u001b[1;36m0\u001b[0m            \u001b[1;36m50\u001b[0m               \u001b[1;36m0.0\u001b[0m                \u001b[1;36m100.0\u001b[0m\n",
       "\u001b[1;36m7\u001b[0m                     \u001b[1;36m0\u001b[0m            \u001b[1;36m50\u001b[0m               \u001b[1;36m0.0\u001b[0m                \u001b[1;36m100.0\u001b[0m\n",
       "\u001b[1;36m8\u001b[0m                     \u001b[1;36m1\u001b[0m            \u001b[1;36m49\u001b[0m               \u001b[1;36m2.0\u001b[0m                 \u001b[1;36m98.0\u001b[0m\n",
       "\u001b[1;36m9\u001b[0m                     \u001b[1;36m1\u001b[0m            \u001b[1;36m49\u001b[0m               \u001b[1;36m2.0\u001b[0m                 \u001b[1;36m98.0\u001b[0m\n",
       "\u001b[1;36m10\u001b[0m                    \u001b[1;36m0\u001b[0m            \u001b[1;36m50\u001b[0m               \u001b[1;36m0.0\u001b[0m                \u001b[1;36m100.0\u001b[0m\n",
       "\u001b[1;36m11\u001b[0m                    \u001b[1;36m1\u001b[0m            \u001b[1;36m49\u001b[0m               \u001b[1;36m2.0\u001b[0m                 \u001b[1;36m98.0\u001b[0m\n",
       "\u001b[1;36m12\u001b[0m                    \u001b[1;36m0\u001b[0m            \u001b[1;36m50\u001b[0m               \u001b[1;36m0.0\u001b[0m                \u001b[1;36m100.0\u001b[0m\n",
       "\u001b[1;36m13\u001b[0m                    \u001b[1;36m0\u001b[0m            \u001b[1;36m50\u001b[0m               \u001b[1;36m0.0\u001b[0m                \u001b[1;36m100.0\u001b[0m\n",
       "\u001b[1;36m14\u001b[0m                    \u001b[1;36m1\u001b[0m            \u001b[1;36m49\u001b[0m               \u001b[1;36m2.0\u001b[0m                 \u001b[1;36m98.0\u001b[0m\n",
       "\u001b[1;36m15\u001b[0m                    \u001b[1;36m1\u001b[0m            \u001b[1;36m49\u001b[0m               \u001b[1;36m2.0\u001b[0m                 \u001b[1;36m98.0\u001b[0m\n",
       "\u001b[1;36m16\u001b[0m                    \u001b[1;36m0\u001b[0m            \u001b[1;36m50\u001b[0m               \u001b[1;36m0.0\u001b[0m                \u001b[1;36m100.0\u001b[0m\n",
       "\u001b[1;36m17\u001b[0m                    \u001b[1;36m0\u001b[0m            \u001b[1;36m50\u001b[0m               \u001b[1;36m0.0\u001b[0m                \u001b[1;36m100.0\u001b[0m\n",
       "\u001b[1;36m18\u001b[0m                    \u001b[1;36m0\u001b[0m            \u001b[1;36m50\u001b[0m               \u001b[1;36m0.0\u001b[0m                \u001b[1;36m100.0\u001b[0m\n",
       "\u001b[1;36m19\u001b[0m                    \u001b[1;36m0\u001b[0m            \u001b[1;36m50\u001b[0m               \u001b[1;36m0.0\u001b[0m                \u001b[1;36m100.0\u001b[0m\n",
       "\u001b[1;36m20\u001b[0m                    \u001b[1;36m0\u001b[0m            \u001b[1;36m50\u001b[0m               \u001b[1;36m0.0\u001b[0m                \u001b[1;36m100.0\u001b[0m\n",
       "\u001b[1;36m21\u001b[0m                    \u001b[1;36m0\u001b[0m            \u001b[1;36m50\u001b[0m               \u001b[1;36m0.0\u001b[0m                \u001b[1;36m100.0\u001b[0m\n",
       "\u001b[1;36m22\u001b[0m                    \u001b[1;36m0\u001b[0m            \u001b[1;36m50\u001b[0m               \u001b[1;36m0.0\u001b[0m                \u001b[1;36m100.0\u001b[0m\n",
       "\u001b[1;36m23\u001b[0m                    \u001b[1;36m0\u001b[0m            \u001b[1;36m50\u001b[0m               \u001b[1;36m0.0\u001b[0m                \u001b[1;36m100.0\u001b[0m\n",
       "\u001b[1;36m24\u001b[0m                    \u001b[1;36m0\u001b[0m            \u001b[1;36m50\u001b[0m               \u001b[1;36m0.0\u001b[0m                \u001b[1;36m100.0\u001b[0m\n",
       "\u001b[1;36m25\u001b[0m                    \u001b[1;36m3\u001b[0m            \u001b[1;36m47\u001b[0m               \u001b[1;36m6.0\u001b[0m                 \u001b[1;36m94.0\u001b[0m\n",
       "\u001b[1;36m26\u001b[0m                    \u001b[1;36m1\u001b[0m            \u001b[1;36m49\u001b[0m               \u001b[1;36m2.0\u001b[0m                 \u001b[1;36m98.0\u001b[0m\n",
       "\u001b[1;36m27\u001b[0m                    \u001b[1;36m1\u001b[0m            \u001b[1;36m49\u001b[0m               \u001b[1;36m2.0\u001b[0m                 \u001b[1;36m98.0\u001b[0m\n",
       "\u001b[1;36m28\u001b[0m                    \u001b[1;36m1\u001b[0m            \u001b[1;36m49\u001b[0m               \u001b[1;36m2.0\u001b[0m                 \u001b[1;36m98.0\u001b[0m\n",
       "\u001b[1;36m29\u001b[0m                    \u001b[1;36m1\u001b[0m            \u001b[1;36m49\u001b[0m               \u001b[1;36m2.0\u001b[0m                 \u001b[1;36m98.0\u001b[0m\n",
       "\u001b[1;36m30\u001b[0m                    \u001b[1;36m2\u001b[0m            \u001b[1;36m48\u001b[0m               \u001b[1;36m4.0\u001b[0m                 \u001b[1;36m96.0\u001b[0m\n",
       "\u001b[1;36m31\u001b[0m                    \u001b[1;36m2\u001b[0m            \u001b[1;36m48\u001b[0m               \u001b[1;36m4.0\u001b[0m                 \u001b[1;36m96.0\u001b[0m\n",
       "\u001b[1;36m32\u001b[0m                    \u001b[1;36m1\u001b[0m            \u001b[1;36m49\u001b[0m               \u001b[1;36m2.0\u001b[0m                 \u001b[1;36m98.0\u001b[0m\n",
       "\u001b[1;36m33\u001b[0m                    \u001b[1;36m0\u001b[0m            \u001b[1;36m50\u001b[0m               \u001b[1;36m0.0\u001b[0m                \u001b[1;36m100.0\u001b[0m\n",
       "\u001b[1;36m34\u001b[0m                    \u001b[1;36m2\u001b[0m            \u001b[1;36m48\u001b[0m               \u001b[1;36m4.0\u001b[0m                 \u001b[1;36m96.0\u001b[0m\n",
       "\u001b[1;36m35\u001b[0m                    \u001b[1;36m1\u001b[0m             \u001b[1;36m1\u001b[0m              \u001b[1;36m50.0\u001b[0m                 \u001b[1;36m50.0\u001b[0m\n"
      ]
     },
     "metadata": {},
     "output_type": "display_data"
    },
    {
     "data": {
      "text/html": [
       "<pre style=\"white-space:pre;overflow-x:auto;line-height:normal;font-family:Menlo,'DejaVu Sans Mono',consolas,'Courier New',monospace\">============================================================\n",
       "</pre>\n"
      ],
      "text/plain": [
       "============================================================\n"
      ]
     },
     "metadata": {},
     "output_type": "display_data"
    },
    {
     "data": {
      "text/html": [
       "<pre style=\"white-space:pre;overflow-x:auto;line-height:normal;font-family:Menlo,'DejaVu Sans Mono',consolas,'Courier New',monospace\"><span style=\"text-decoration: underline\">Missing variable span for </span><span style=\"color: #af00ff; text-decoration-color: #af00ff; text-decoration: underline\">aired_on</span>\n",
       "\n",
       "</pre>\n"
      ],
      "text/plain": [
       "\u001b[4mMissing variable span for \u001b[0m\u001b[4;38;5;129maired_on\u001b[0m\n",
       "\n"
      ]
     },
     "metadata": {},
     "output_type": "display_data"
    },
    {
     "data": {
      "text/html": [
       "<pre style=\"white-space:pre;overflow-x:auto;line-height:normal;font-family:Menlo,'DejaVu Sans Mono',consolas,'Courier New',monospace\">              num_of_na  num_of_no_na  percentage_of_na  percentage_of_no_na\n",
       "span_counter                                                                \n",
       "<span style=\"color: #008080; text-decoration-color: #008080; font-weight: bold\">0</span>                     <span style=\"color: #008080; text-decoration-color: #008080; font-weight: bold\">1</span>            <span style=\"color: #008080; text-decoration-color: #008080; font-weight: bold\">49</span>               <span style=\"color: #008080; text-decoration-color: #008080; font-weight: bold\">2.0</span>                 <span style=\"color: #008080; text-decoration-color: #008080; font-weight: bold\">98.0</span>\n",
       "<span style=\"color: #008080; text-decoration-color: #008080; font-weight: bold\">1</span>                     <span style=\"color: #008080; text-decoration-color: #008080; font-weight: bold\">4</span>            <span style=\"color: #008080; text-decoration-color: #008080; font-weight: bold\">46</span>               <span style=\"color: #008080; text-decoration-color: #008080; font-weight: bold\">8.0</span>                 <span style=\"color: #008080; text-decoration-color: #008080; font-weight: bold\">92.0</span>\n",
       "<span style=\"color: #008080; text-decoration-color: #008080; font-weight: bold\">2</span>                     <span style=\"color: #008080; text-decoration-color: #008080; font-weight: bold\">5</span>            <span style=\"color: #008080; text-decoration-color: #008080; font-weight: bold\">45</span>              <span style=\"color: #008080; text-decoration-color: #008080; font-weight: bold\">10.0</span>                 <span style=\"color: #008080; text-decoration-color: #008080; font-weight: bold\">90.0</span>\n",
       "<span style=\"color: #008080; text-decoration-color: #008080; font-weight: bold\">3</span>                     <span style=\"color: #008080; text-decoration-color: #008080; font-weight: bold\">7</span>            <span style=\"color: #008080; text-decoration-color: #008080; font-weight: bold\">43</span>              <span style=\"color: #008080; text-decoration-color: #008080; font-weight: bold\">14.0</span>                 <span style=\"color: #008080; text-decoration-color: #008080; font-weight: bold\">86.0</span>\n",
       "<span style=\"color: #008080; text-decoration-color: #008080; font-weight: bold\">4</span>                     <span style=\"color: #008080; text-decoration-color: #008080; font-weight: bold\">3</span>            <span style=\"color: #008080; text-decoration-color: #008080; font-weight: bold\">47</span>               <span style=\"color: #008080; text-decoration-color: #008080; font-weight: bold\">6.0</span>                 <span style=\"color: #008080; text-decoration-color: #008080; font-weight: bold\">94.0</span>\n",
       "<span style=\"color: #008080; text-decoration-color: #008080; font-weight: bold\">5</span>                     <span style=\"color: #008080; text-decoration-color: #008080; font-weight: bold\">1</span>            <span style=\"color: #008080; text-decoration-color: #008080; font-weight: bold\">49</span>               <span style=\"color: #008080; text-decoration-color: #008080; font-weight: bold\">2.0</span>                 <span style=\"color: #008080; text-decoration-color: #008080; font-weight: bold\">98.0</span>\n",
       "<span style=\"color: #008080; text-decoration-color: #008080; font-weight: bold\">6</span>                     <span style=\"color: #008080; text-decoration-color: #008080; font-weight: bold\">5</span>            <span style=\"color: #008080; text-decoration-color: #008080; font-weight: bold\">45</span>              <span style=\"color: #008080; text-decoration-color: #008080; font-weight: bold\">10.0</span>                 <span style=\"color: #008080; text-decoration-color: #008080; font-weight: bold\">90.0</span>\n",
       "<span style=\"color: #008080; text-decoration-color: #008080; font-weight: bold\">7</span>                     <span style=\"color: #008080; text-decoration-color: #008080; font-weight: bold\">1</span>            <span style=\"color: #008080; text-decoration-color: #008080; font-weight: bold\">49</span>               <span style=\"color: #008080; text-decoration-color: #008080; font-weight: bold\">2.0</span>                 <span style=\"color: #008080; text-decoration-color: #008080; font-weight: bold\">98.0</span>\n",
       "<span style=\"color: #008080; text-decoration-color: #008080; font-weight: bold\">8</span>                     <span style=\"color: #008080; text-decoration-color: #008080; font-weight: bold\">7</span>            <span style=\"color: #008080; text-decoration-color: #008080; font-weight: bold\">43</span>              <span style=\"color: #008080; text-decoration-color: #008080; font-weight: bold\">14.0</span>                 <span style=\"color: #008080; text-decoration-color: #008080; font-weight: bold\">86.0</span>\n",
       "<span style=\"color: #008080; text-decoration-color: #008080; font-weight: bold\">9</span>                     <span style=\"color: #008080; text-decoration-color: #008080; font-weight: bold\">8</span>            <span style=\"color: #008080; text-decoration-color: #008080; font-weight: bold\">42</span>              <span style=\"color: #008080; text-decoration-color: #008080; font-weight: bold\">16.0</span>                 <span style=\"color: #008080; text-decoration-color: #008080; font-weight: bold\">84.0</span>\n",
       "<span style=\"color: #008080; text-decoration-color: #008080; font-weight: bold\">10</span>                    <span style=\"color: #008080; text-decoration-color: #008080; font-weight: bold\">7</span>            <span style=\"color: #008080; text-decoration-color: #008080; font-weight: bold\">43</span>              <span style=\"color: #008080; text-decoration-color: #008080; font-weight: bold\">14.0</span>                 <span style=\"color: #008080; text-decoration-color: #008080; font-weight: bold\">86.0</span>\n",
       "<span style=\"color: #008080; text-decoration-color: #008080; font-weight: bold\">11</span>                    <span style=\"color: #008080; text-decoration-color: #008080; font-weight: bold\">4</span>            <span style=\"color: #008080; text-decoration-color: #008080; font-weight: bold\">46</span>               <span style=\"color: #008080; text-decoration-color: #008080; font-weight: bold\">8.0</span>                 <span style=\"color: #008080; text-decoration-color: #008080; font-weight: bold\">92.0</span>\n",
       "<span style=\"color: #008080; text-decoration-color: #008080; font-weight: bold\">12</span>                    <span style=\"color: #008080; text-decoration-color: #008080; font-weight: bold\">6</span>            <span style=\"color: #008080; text-decoration-color: #008080; font-weight: bold\">44</span>              <span style=\"color: #008080; text-decoration-color: #008080; font-weight: bold\">12.0</span>                 <span style=\"color: #008080; text-decoration-color: #008080; font-weight: bold\">88.0</span>\n",
       "<span style=\"color: #008080; text-decoration-color: #008080; font-weight: bold\">13</span>                    <span style=\"color: #008080; text-decoration-color: #008080; font-weight: bold\">4</span>            <span style=\"color: #008080; text-decoration-color: #008080; font-weight: bold\">46</span>               <span style=\"color: #008080; text-decoration-color: #008080; font-weight: bold\">8.0</span>                 <span style=\"color: #008080; text-decoration-color: #008080; font-weight: bold\">92.0</span>\n",
       "<span style=\"color: #008080; text-decoration-color: #008080; font-weight: bold\">14</span>                    <span style=\"color: #008080; text-decoration-color: #008080; font-weight: bold\">5</span>            <span style=\"color: #008080; text-decoration-color: #008080; font-weight: bold\">45</span>              <span style=\"color: #008080; text-decoration-color: #008080; font-weight: bold\">10.0</span>                 <span style=\"color: #008080; text-decoration-color: #008080; font-weight: bold\">90.0</span>\n",
       "<span style=\"color: #008080; text-decoration-color: #008080; font-weight: bold\">15</span>                    <span style=\"color: #008080; text-decoration-color: #008080; font-weight: bold\">7</span>            <span style=\"color: #008080; text-decoration-color: #008080; font-weight: bold\">43</span>              <span style=\"color: #008080; text-decoration-color: #008080; font-weight: bold\">14.0</span>                 <span style=\"color: #008080; text-decoration-color: #008080; font-weight: bold\">86.0</span>\n",
       "<span style=\"color: #008080; text-decoration-color: #008080; font-weight: bold\">16</span>                    <span style=\"color: #008080; text-decoration-color: #008080; font-weight: bold\">4</span>            <span style=\"color: #008080; text-decoration-color: #008080; font-weight: bold\">46</span>               <span style=\"color: #008080; text-decoration-color: #008080; font-weight: bold\">8.0</span>                 <span style=\"color: #008080; text-decoration-color: #008080; font-weight: bold\">92.0</span>\n",
       "<span style=\"color: #008080; text-decoration-color: #008080; font-weight: bold\">17</span>                    <span style=\"color: #008080; text-decoration-color: #008080; font-weight: bold\">6</span>            <span style=\"color: #008080; text-decoration-color: #008080; font-weight: bold\">44</span>              <span style=\"color: #008080; text-decoration-color: #008080; font-weight: bold\">12.0</span>                 <span style=\"color: #008080; text-decoration-color: #008080; font-weight: bold\">88.0</span>\n",
       "<span style=\"color: #008080; text-decoration-color: #008080; font-weight: bold\">18</span>                    <span style=\"color: #008080; text-decoration-color: #008080; font-weight: bold\">8</span>            <span style=\"color: #008080; text-decoration-color: #008080; font-weight: bold\">42</span>              <span style=\"color: #008080; text-decoration-color: #008080; font-weight: bold\">16.0</span>                 <span style=\"color: #008080; text-decoration-color: #008080; font-weight: bold\">84.0</span>\n",
       "<span style=\"color: #008080; text-decoration-color: #008080; font-weight: bold\">19</span>                    <span style=\"color: #008080; text-decoration-color: #008080; font-weight: bold\">7</span>            <span style=\"color: #008080; text-decoration-color: #008080; font-weight: bold\">43</span>              <span style=\"color: #008080; text-decoration-color: #008080; font-weight: bold\">14.0</span>                 <span style=\"color: #008080; text-decoration-color: #008080; font-weight: bold\">86.0</span>\n",
       "<span style=\"color: #008080; text-decoration-color: #008080; font-weight: bold\">20</span>                    <span style=\"color: #008080; text-decoration-color: #008080; font-weight: bold\">9</span>            <span style=\"color: #008080; text-decoration-color: #008080; font-weight: bold\">41</span>              <span style=\"color: #008080; text-decoration-color: #008080; font-weight: bold\">18.0</span>                 <span style=\"color: #008080; text-decoration-color: #008080; font-weight: bold\">82.0</span>\n",
       "<span style=\"color: #008080; text-decoration-color: #008080; font-weight: bold\">21</span>                    <span style=\"color: #008080; text-decoration-color: #008080; font-weight: bold\">3</span>            <span style=\"color: #008080; text-decoration-color: #008080; font-weight: bold\">47</span>               <span style=\"color: #008080; text-decoration-color: #008080; font-weight: bold\">6.0</span>                 <span style=\"color: #008080; text-decoration-color: #008080; font-weight: bold\">94.0</span>\n",
       "<span style=\"color: #008080; text-decoration-color: #008080; font-weight: bold\">22</span>                    <span style=\"color: #008080; text-decoration-color: #008080; font-weight: bold\">9</span>            <span style=\"color: #008080; text-decoration-color: #008080; font-weight: bold\">41</span>              <span style=\"color: #008080; text-decoration-color: #008080; font-weight: bold\">18.0</span>                 <span style=\"color: #008080; text-decoration-color: #008080; font-weight: bold\">82.0</span>\n",
       "<span style=\"color: #008080; text-decoration-color: #008080; font-weight: bold\">23</span>                   <span style=\"color: #008080; text-decoration-color: #008080; font-weight: bold\">12</span>            <span style=\"color: #008080; text-decoration-color: #008080; font-weight: bold\">38</span>              <span style=\"color: #008080; text-decoration-color: #008080; font-weight: bold\">24.0</span>                 <span style=\"color: #008080; text-decoration-color: #008080; font-weight: bold\">76.0</span>\n",
       "<span style=\"color: #008080; text-decoration-color: #008080; font-weight: bold\">24</span>                   <span style=\"color: #008080; text-decoration-color: #008080; font-weight: bold\">13</span>            <span style=\"color: #008080; text-decoration-color: #008080; font-weight: bold\">37</span>              <span style=\"color: #008080; text-decoration-color: #008080; font-weight: bold\">26.0</span>                 <span style=\"color: #008080; text-decoration-color: #008080; font-weight: bold\">74.0</span>\n",
       "<span style=\"color: #008080; text-decoration-color: #008080; font-weight: bold\">25</span>                    <span style=\"color: #008080; text-decoration-color: #008080; font-weight: bold\">9</span>            <span style=\"color: #008080; text-decoration-color: #008080; font-weight: bold\">41</span>              <span style=\"color: #008080; text-decoration-color: #008080; font-weight: bold\">18.0</span>                 <span style=\"color: #008080; text-decoration-color: #008080; font-weight: bold\">82.0</span>\n",
       "<span style=\"color: #008080; text-decoration-color: #008080; font-weight: bold\">26</span>                   <span style=\"color: #008080; text-decoration-color: #008080; font-weight: bold\">14</span>            <span style=\"color: #008080; text-decoration-color: #008080; font-weight: bold\">36</span>              <span style=\"color: #008080; text-decoration-color: #008080; font-weight: bold\">28.0</span>                 <span style=\"color: #008080; text-decoration-color: #008080; font-weight: bold\">72.0</span>\n",
       "<span style=\"color: #008080; text-decoration-color: #008080; font-weight: bold\">27</span>                   <span style=\"color: #008080; text-decoration-color: #008080; font-weight: bold\">11</span>            <span style=\"color: #008080; text-decoration-color: #008080; font-weight: bold\">39</span>              <span style=\"color: #008080; text-decoration-color: #008080; font-weight: bold\">22.0</span>                 <span style=\"color: #008080; text-decoration-color: #008080; font-weight: bold\">78.0</span>\n",
       "<span style=\"color: #008080; text-decoration-color: #008080; font-weight: bold\">28</span>                   <span style=\"color: #008080; text-decoration-color: #008080; font-weight: bold\">13</span>            <span style=\"color: #008080; text-decoration-color: #008080; font-weight: bold\">37</span>              <span style=\"color: #008080; text-decoration-color: #008080; font-weight: bold\">26.0</span>                 <span style=\"color: #008080; text-decoration-color: #008080; font-weight: bold\">74.0</span>\n",
       "<span style=\"color: #008080; text-decoration-color: #008080; font-weight: bold\">29</span>                    <span style=\"color: #008080; text-decoration-color: #008080; font-weight: bold\">9</span>            <span style=\"color: #008080; text-decoration-color: #008080; font-weight: bold\">41</span>              <span style=\"color: #008080; text-decoration-color: #008080; font-weight: bold\">18.0</span>                 <span style=\"color: #008080; text-decoration-color: #008080; font-weight: bold\">82.0</span>\n",
       "<span style=\"color: #008080; text-decoration-color: #008080; font-weight: bold\">30</span>                    <span style=\"color: #008080; text-decoration-color: #008080; font-weight: bold\">6</span>            <span style=\"color: #008080; text-decoration-color: #008080; font-weight: bold\">44</span>              <span style=\"color: #008080; text-decoration-color: #008080; font-weight: bold\">12.0</span>                 <span style=\"color: #008080; text-decoration-color: #008080; font-weight: bold\">88.0</span>\n",
       "<span style=\"color: #008080; text-decoration-color: #008080; font-weight: bold\">31</span>                    <span style=\"color: #008080; text-decoration-color: #008080; font-weight: bold\">6</span>            <span style=\"color: #008080; text-decoration-color: #008080; font-weight: bold\">44</span>              <span style=\"color: #008080; text-decoration-color: #008080; font-weight: bold\">12.0</span>                 <span style=\"color: #008080; text-decoration-color: #008080; font-weight: bold\">88.0</span>\n",
       "<span style=\"color: #008080; text-decoration-color: #008080; font-weight: bold\">32</span>                   <span style=\"color: #008080; text-decoration-color: #008080; font-weight: bold\">11</span>            <span style=\"color: #008080; text-decoration-color: #008080; font-weight: bold\">39</span>              <span style=\"color: #008080; text-decoration-color: #008080; font-weight: bold\">22.0</span>                 <span style=\"color: #008080; text-decoration-color: #008080; font-weight: bold\">78.0</span>\n",
       "<span style=\"color: #008080; text-decoration-color: #008080; font-weight: bold\">33</span>                    <span style=\"color: #008080; text-decoration-color: #008080; font-weight: bold\">3</span>            <span style=\"color: #008080; text-decoration-color: #008080; font-weight: bold\">47</span>               <span style=\"color: #008080; text-decoration-color: #008080; font-weight: bold\">6.0</span>                 <span style=\"color: #008080; text-decoration-color: #008080; font-weight: bold\">94.0</span>\n",
       "<span style=\"color: #008080; text-decoration-color: #008080; font-weight: bold\">34</span>                    <span style=\"color: #008080; text-decoration-color: #008080; font-weight: bold\">3</span>            <span style=\"color: #008080; text-decoration-color: #008080; font-weight: bold\">47</span>               <span style=\"color: #008080; text-decoration-color: #008080; font-weight: bold\">6.0</span>                 <span style=\"color: #008080; text-decoration-color: #008080; font-weight: bold\">94.0</span>\n",
       "<span style=\"color: #008080; text-decoration-color: #008080; font-weight: bold\">35</span>                    <span style=\"color: #008080; text-decoration-color: #008080; font-weight: bold\">1</span>             <span style=\"color: #008080; text-decoration-color: #008080; font-weight: bold\">1</span>              <span style=\"color: #008080; text-decoration-color: #008080; font-weight: bold\">50.0</span>                 <span style=\"color: #008080; text-decoration-color: #008080; font-weight: bold\">50.0</span>\n",
       "</pre>\n"
      ],
      "text/plain": [
       "              num_of_na  num_of_no_na  percentage_of_na  percentage_of_no_na\n",
       "span_counter                                                                \n",
       "\u001b[1;36m0\u001b[0m                     \u001b[1;36m1\u001b[0m            \u001b[1;36m49\u001b[0m               \u001b[1;36m2.0\u001b[0m                 \u001b[1;36m98.0\u001b[0m\n",
       "\u001b[1;36m1\u001b[0m                     \u001b[1;36m4\u001b[0m            \u001b[1;36m46\u001b[0m               \u001b[1;36m8.0\u001b[0m                 \u001b[1;36m92.0\u001b[0m\n",
       "\u001b[1;36m2\u001b[0m                     \u001b[1;36m5\u001b[0m            \u001b[1;36m45\u001b[0m              \u001b[1;36m10.0\u001b[0m                 \u001b[1;36m90.0\u001b[0m\n",
       "\u001b[1;36m3\u001b[0m                     \u001b[1;36m7\u001b[0m            \u001b[1;36m43\u001b[0m              \u001b[1;36m14.0\u001b[0m                 \u001b[1;36m86.0\u001b[0m\n",
       "\u001b[1;36m4\u001b[0m                     \u001b[1;36m3\u001b[0m            \u001b[1;36m47\u001b[0m               \u001b[1;36m6.0\u001b[0m                 \u001b[1;36m94.0\u001b[0m\n",
       "\u001b[1;36m5\u001b[0m                     \u001b[1;36m1\u001b[0m            \u001b[1;36m49\u001b[0m               \u001b[1;36m2.0\u001b[0m                 \u001b[1;36m98.0\u001b[0m\n",
       "\u001b[1;36m6\u001b[0m                     \u001b[1;36m5\u001b[0m            \u001b[1;36m45\u001b[0m              \u001b[1;36m10.0\u001b[0m                 \u001b[1;36m90.0\u001b[0m\n",
       "\u001b[1;36m7\u001b[0m                     \u001b[1;36m1\u001b[0m            \u001b[1;36m49\u001b[0m               \u001b[1;36m2.0\u001b[0m                 \u001b[1;36m98.0\u001b[0m\n",
       "\u001b[1;36m8\u001b[0m                     \u001b[1;36m7\u001b[0m            \u001b[1;36m43\u001b[0m              \u001b[1;36m14.0\u001b[0m                 \u001b[1;36m86.0\u001b[0m\n",
       "\u001b[1;36m9\u001b[0m                     \u001b[1;36m8\u001b[0m            \u001b[1;36m42\u001b[0m              \u001b[1;36m16.0\u001b[0m                 \u001b[1;36m84.0\u001b[0m\n",
       "\u001b[1;36m10\u001b[0m                    \u001b[1;36m7\u001b[0m            \u001b[1;36m43\u001b[0m              \u001b[1;36m14.0\u001b[0m                 \u001b[1;36m86.0\u001b[0m\n",
       "\u001b[1;36m11\u001b[0m                    \u001b[1;36m4\u001b[0m            \u001b[1;36m46\u001b[0m               \u001b[1;36m8.0\u001b[0m                 \u001b[1;36m92.0\u001b[0m\n",
       "\u001b[1;36m12\u001b[0m                    \u001b[1;36m6\u001b[0m            \u001b[1;36m44\u001b[0m              \u001b[1;36m12.0\u001b[0m                 \u001b[1;36m88.0\u001b[0m\n",
       "\u001b[1;36m13\u001b[0m                    \u001b[1;36m4\u001b[0m            \u001b[1;36m46\u001b[0m               \u001b[1;36m8.0\u001b[0m                 \u001b[1;36m92.0\u001b[0m\n",
       "\u001b[1;36m14\u001b[0m                    \u001b[1;36m5\u001b[0m            \u001b[1;36m45\u001b[0m              \u001b[1;36m10.0\u001b[0m                 \u001b[1;36m90.0\u001b[0m\n",
       "\u001b[1;36m15\u001b[0m                    \u001b[1;36m7\u001b[0m            \u001b[1;36m43\u001b[0m              \u001b[1;36m14.0\u001b[0m                 \u001b[1;36m86.0\u001b[0m\n",
       "\u001b[1;36m16\u001b[0m                    \u001b[1;36m4\u001b[0m            \u001b[1;36m46\u001b[0m               \u001b[1;36m8.0\u001b[0m                 \u001b[1;36m92.0\u001b[0m\n",
       "\u001b[1;36m17\u001b[0m                    \u001b[1;36m6\u001b[0m            \u001b[1;36m44\u001b[0m              \u001b[1;36m12.0\u001b[0m                 \u001b[1;36m88.0\u001b[0m\n",
       "\u001b[1;36m18\u001b[0m                    \u001b[1;36m8\u001b[0m            \u001b[1;36m42\u001b[0m              \u001b[1;36m16.0\u001b[0m                 \u001b[1;36m84.0\u001b[0m\n",
       "\u001b[1;36m19\u001b[0m                    \u001b[1;36m7\u001b[0m            \u001b[1;36m43\u001b[0m              \u001b[1;36m14.0\u001b[0m                 \u001b[1;36m86.0\u001b[0m\n",
       "\u001b[1;36m20\u001b[0m                    \u001b[1;36m9\u001b[0m            \u001b[1;36m41\u001b[0m              \u001b[1;36m18.0\u001b[0m                 \u001b[1;36m82.0\u001b[0m\n",
       "\u001b[1;36m21\u001b[0m                    \u001b[1;36m3\u001b[0m            \u001b[1;36m47\u001b[0m               \u001b[1;36m6.0\u001b[0m                 \u001b[1;36m94.0\u001b[0m\n",
       "\u001b[1;36m22\u001b[0m                    \u001b[1;36m9\u001b[0m            \u001b[1;36m41\u001b[0m              \u001b[1;36m18.0\u001b[0m                 \u001b[1;36m82.0\u001b[0m\n",
       "\u001b[1;36m23\u001b[0m                   \u001b[1;36m12\u001b[0m            \u001b[1;36m38\u001b[0m              \u001b[1;36m24.0\u001b[0m                 \u001b[1;36m76.0\u001b[0m\n",
       "\u001b[1;36m24\u001b[0m                   \u001b[1;36m13\u001b[0m            \u001b[1;36m37\u001b[0m              \u001b[1;36m26.0\u001b[0m                 \u001b[1;36m74.0\u001b[0m\n",
       "\u001b[1;36m25\u001b[0m                    \u001b[1;36m9\u001b[0m            \u001b[1;36m41\u001b[0m              \u001b[1;36m18.0\u001b[0m                 \u001b[1;36m82.0\u001b[0m\n",
       "\u001b[1;36m26\u001b[0m                   \u001b[1;36m14\u001b[0m            \u001b[1;36m36\u001b[0m              \u001b[1;36m28.0\u001b[0m                 \u001b[1;36m72.0\u001b[0m\n",
       "\u001b[1;36m27\u001b[0m                   \u001b[1;36m11\u001b[0m            \u001b[1;36m39\u001b[0m              \u001b[1;36m22.0\u001b[0m                 \u001b[1;36m78.0\u001b[0m\n",
       "\u001b[1;36m28\u001b[0m                   \u001b[1;36m13\u001b[0m            \u001b[1;36m37\u001b[0m              \u001b[1;36m26.0\u001b[0m                 \u001b[1;36m74.0\u001b[0m\n",
       "\u001b[1;36m29\u001b[0m                    \u001b[1;36m9\u001b[0m            \u001b[1;36m41\u001b[0m              \u001b[1;36m18.0\u001b[0m                 \u001b[1;36m82.0\u001b[0m\n",
       "\u001b[1;36m30\u001b[0m                    \u001b[1;36m6\u001b[0m            \u001b[1;36m44\u001b[0m              \u001b[1;36m12.0\u001b[0m                 \u001b[1;36m88.0\u001b[0m\n",
       "\u001b[1;36m31\u001b[0m                    \u001b[1;36m6\u001b[0m            \u001b[1;36m44\u001b[0m              \u001b[1;36m12.0\u001b[0m                 \u001b[1;36m88.0\u001b[0m\n",
       "\u001b[1;36m32\u001b[0m                   \u001b[1;36m11\u001b[0m            \u001b[1;36m39\u001b[0m              \u001b[1;36m22.0\u001b[0m                 \u001b[1;36m78.0\u001b[0m\n",
       "\u001b[1;36m33\u001b[0m                    \u001b[1;36m3\u001b[0m            \u001b[1;36m47\u001b[0m               \u001b[1;36m6.0\u001b[0m                 \u001b[1;36m94.0\u001b[0m\n",
       "\u001b[1;36m34\u001b[0m                    \u001b[1;36m3\u001b[0m            \u001b[1;36m47\u001b[0m               \u001b[1;36m6.0\u001b[0m                 \u001b[1;36m94.0\u001b[0m\n",
       "\u001b[1;36m35\u001b[0m                    \u001b[1;36m1\u001b[0m             \u001b[1;36m1\u001b[0m              \u001b[1;36m50.0\u001b[0m                 \u001b[1;36m50.0\u001b[0m\n"
      ]
     },
     "metadata": {},
     "output_type": "display_data"
    },
    {
     "data": {
      "text/html": [
       "<pre style=\"white-space:pre;overflow-x:auto;line-height:normal;font-family:Menlo,'DejaVu Sans Mono',consolas,'Courier New',monospace\">============================================================\n",
       "</pre>\n"
      ],
      "text/plain": [
       "============================================================\n"
      ]
     },
     "metadata": {},
     "output_type": "display_data"
    },
    {
     "data": {
      "text/html": [
       "<pre style=\"white-space:pre;overflow-x:auto;line-height:normal;font-family:Menlo,'DejaVu Sans Mono',consolas,'Courier New',monospace\"><span style=\"text-decoration: underline\">Missing variable span for </span><span style=\"color: #af00ff; text-decoration-color: #af00ff; text-decoration: underline\">org_net</span>\n",
       "\n",
       "</pre>\n"
      ],
      "text/plain": [
       "\u001b[4mMissing variable span for \u001b[0m\u001b[4;38;5;129morg_net\u001b[0m\n",
       "\n"
      ]
     },
     "metadata": {},
     "output_type": "display_data"
    },
    {
     "data": {
      "text/html": [
       "<pre style=\"white-space:pre;overflow-x:auto;line-height:normal;font-family:Menlo,'DejaVu Sans Mono',consolas,'Courier New',monospace\">              num_of_na  num_of_no_na  percentage_of_na  percentage_of_no_na\n",
       "span_counter                                                                \n",
       "<span style=\"color: #008080; text-decoration-color: #008080; font-weight: bold\">0</span>                    <span style=\"color: #008080; text-decoration-color: #008080; font-weight: bold\">15</span>            <span style=\"color: #008080; text-decoration-color: #008080; font-weight: bold\">35</span>              <span style=\"color: #008080; text-decoration-color: #008080; font-weight: bold\">30.0</span>                 <span style=\"color: #008080; text-decoration-color: #008080; font-weight: bold\">70.0</span>\n",
       "<span style=\"color: #008080; text-decoration-color: #008080; font-weight: bold\">1</span>                    <span style=\"color: #008080; text-decoration-color: #008080; font-weight: bold\">17</span>            <span style=\"color: #008080; text-decoration-color: #008080; font-weight: bold\">33</span>              <span style=\"color: #008080; text-decoration-color: #008080; font-weight: bold\">34.0</span>                 <span style=\"color: #008080; text-decoration-color: #008080; font-weight: bold\">66.0</span>\n",
       "<span style=\"color: #008080; text-decoration-color: #008080; font-weight: bold\">2</span>                    <span style=\"color: #008080; text-decoration-color: #008080; font-weight: bold\">22</span>            <span style=\"color: #008080; text-decoration-color: #008080; font-weight: bold\">28</span>              <span style=\"color: #008080; text-decoration-color: #008080; font-weight: bold\">44.0</span>                 <span style=\"color: #008080; text-decoration-color: #008080; font-weight: bold\">56.0</span>\n",
       "<span style=\"color: #008080; text-decoration-color: #008080; font-weight: bold\">3</span>                    <span style=\"color: #008080; text-decoration-color: #008080; font-weight: bold\">17</span>            <span style=\"color: #008080; text-decoration-color: #008080; font-weight: bold\">33</span>              <span style=\"color: #008080; text-decoration-color: #008080; font-weight: bold\">34.0</span>                 <span style=\"color: #008080; text-decoration-color: #008080; font-weight: bold\">66.0</span>\n",
       "<span style=\"color: #008080; text-decoration-color: #008080; font-weight: bold\">4</span>                    <span style=\"color: #008080; text-decoration-color: #008080; font-weight: bold\">18</span>            <span style=\"color: #008080; text-decoration-color: #008080; font-weight: bold\">32</span>              <span style=\"color: #008080; text-decoration-color: #008080; font-weight: bold\">36.0</span>                 <span style=\"color: #008080; text-decoration-color: #008080; font-weight: bold\">64.0</span>\n",
       "<span style=\"color: #008080; text-decoration-color: #008080; font-weight: bold\">5</span>                    <span style=\"color: #008080; text-decoration-color: #008080; font-weight: bold\">13</span>            <span style=\"color: #008080; text-decoration-color: #008080; font-weight: bold\">37</span>              <span style=\"color: #008080; text-decoration-color: #008080; font-weight: bold\">26.0</span>                 <span style=\"color: #008080; text-decoration-color: #008080; font-weight: bold\">74.0</span>\n",
       "<span style=\"color: #008080; text-decoration-color: #008080; font-weight: bold\">6</span>                    <span style=\"color: #008080; text-decoration-color: #008080; font-weight: bold\">16</span>            <span style=\"color: #008080; text-decoration-color: #008080; font-weight: bold\">34</span>              <span style=\"color: #008080; text-decoration-color: #008080; font-weight: bold\">32.0</span>                 <span style=\"color: #008080; text-decoration-color: #008080; font-weight: bold\">68.0</span>\n",
       "<span style=\"color: #008080; text-decoration-color: #008080; font-weight: bold\">7</span>                    <span style=\"color: #008080; text-decoration-color: #008080; font-weight: bold\">22</span>            <span style=\"color: #008080; text-decoration-color: #008080; font-weight: bold\">28</span>              <span style=\"color: #008080; text-decoration-color: #008080; font-weight: bold\">44.0</span>                 <span style=\"color: #008080; text-decoration-color: #008080; font-weight: bold\">56.0</span>\n",
       "<span style=\"color: #008080; text-decoration-color: #008080; font-weight: bold\">8</span>                    <span style=\"color: #008080; text-decoration-color: #008080; font-weight: bold\">19</span>            <span style=\"color: #008080; text-decoration-color: #008080; font-weight: bold\">31</span>              <span style=\"color: #008080; text-decoration-color: #008080; font-weight: bold\">38.0</span>                 <span style=\"color: #008080; text-decoration-color: #008080; font-weight: bold\">62.0</span>\n",
       "<span style=\"color: #008080; text-decoration-color: #008080; font-weight: bold\">9</span>                    <span style=\"color: #008080; text-decoration-color: #008080; font-weight: bold\">22</span>            <span style=\"color: #008080; text-decoration-color: #008080; font-weight: bold\">28</span>              <span style=\"color: #008080; text-decoration-color: #008080; font-weight: bold\">44.0</span>                 <span style=\"color: #008080; text-decoration-color: #008080; font-weight: bold\">56.0</span>\n",
       "<span style=\"color: #008080; text-decoration-color: #008080; font-weight: bold\">10</span>                   <span style=\"color: #008080; text-decoration-color: #008080; font-weight: bold\">16</span>            <span style=\"color: #008080; text-decoration-color: #008080; font-weight: bold\">34</span>              <span style=\"color: #008080; text-decoration-color: #008080; font-weight: bold\">32.0</span>                 <span style=\"color: #008080; text-decoration-color: #008080; font-weight: bold\">68.0</span>\n",
       "<span style=\"color: #008080; text-decoration-color: #008080; font-weight: bold\">11</span>                   <span style=\"color: #008080; text-decoration-color: #008080; font-weight: bold\">18</span>            <span style=\"color: #008080; text-decoration-color: #008080; font-weight: bold\">32</span>              <span style=\"color: #008080; text-decoration-color: #008080; font-weight: bold\">36.0</span>                 <span style=\"color: #008080; text-decoration-color: #008080; font-weight: bold\">64.0</span>\n",
       "<span style=\"color: #008080; text-decoration-color: #008080; font-weight: bold\">12</span>                   <span style=\"color: #008080; text-decoration-color: #008080; font-weight: bold\">17</span>            <span style=\"color: #008080; text-decoration-color: #008080; font-weight: bold\">33</span>              <span style=\"color: #008080; text-decoration-color: #008080; font-weight: bold\">34.0</span>                 <span style=\"color: #008080; text-decoration-color: #008080; font-weight: bold\">66.0</span>\n",
       "<span style=\"color: #008080; text-decoration-color: #008080; font-weight: bold\">13</span>                   <span style=\"color: #008080; text-decoration-color: #008080; font-weight: bold\">10</span>            <span style=\"color: #008080; text-decoration-color: #008080; font-weight: bold\">40</span>              <span style=\"color: #008080; text-decoration-color: #008080; font-weight: bold\">20.0</span>                 <span style=\"color: #008080; text-decoration-color: #008080; font-weight: bold\">80.0</span>\n",
       "<span style=\"color: #008080; text-decoration-color: #008080; font-weight: bold\">14</span>                   <span style=\"color: #008080; text-decoration-color: #008080; font-weight: bold\">12</span>            <span style=\"color: #008080; text-decoration-color: #008080; font-weight: bold\">38</span>              <span style=\"color: #008080; text-decoration-color: #008080; font-weight: bold\">24.0</span>                 <span style=\"color: #008080; text-decoration-color: #008080; font-weight: bold\">76.0</span>\n",
       "<span style=\"color: #008080; text-decoration-color: #008080; font-weight: bold\">15</span>                   <span style=\"color: #008080; text-decoration-color: #008080; font-weight: bold\">13</span>            <span style=\"color: #008080; text-decoration-color: #008080; font-weight: bold\">37</span>              <span style=\"color: #008080; text-decoration-color: #008080; font-weight: bold\">26.0</span>                 <span style=\"color: #008080; text-decoration-color: #008080; font-weight: bold\">74.0</span>\n",
       "<span style=\"color: #008080; text-decoration-color: #008080; font-weight: bold\">16</span>                    <span style=\"color: #008080; text-decoration-color: #008080; font-weight: bold\">8</span>            <span style=\"color: #008080; text-decoration-color: #008080; font-weight: bold\">42</span>              <span style=\"color: #008080; text-decoration-color: #008080; font-weight: bold\">16.0</span>                 <span style=\"color: #008080; text-decoration-color: #008080; font-weight: bold\">84.0</span>\n",
       "<span style=\"color: #008080; text-decoration-color: #008080; font-weight: bold\">17</span>                    <span style=\"color: #008080; text-decoration-color: #008080; font-weight: bold\">8</span>            <span style=\"color: #008080; text-decoration-color: #008080; font-weight: bold\">42</span>              <span style=\"color: #008080; text-decoration-color: #008080; font-weight: bold\">16.0</span>                 <span style=\"color: #008080; text-decoration-color: #008080; font-weight: bold\">84.0</span>\n",
       "<span style=\"color: #008080; text-decoration-color: #008080; font-weight: bold\">18</span>                   <span style=\"color: #008080; text-decoration-color: #008080; font-weight: bold\">12</span>            <span style=\"color: #008080; text-decoration-color: #008080; font-weight: bold\">38</span>              <span style=\"color: #008080; text-decoration-color: #008080; font-weight: bold\">24.0</span>                 <span style=\"color: #008080; text-decoration-color: #008080; font-weight: bold\">76.0</span>\n",
       "<span style=\"color: #008080; text-decoration-color: #008080; font-weight: bold\">19</span>                   <span style=\"color: #008080; text-decoration-color: #008080; font-weight: bold\">17</span>            <span style=\"color: #008080; text-decoration-color: #008080; font-weight: bold\">33</span>              <span style=\"color: #008080; text-decoration-color: #008080; font-weight: bold\">34.0</span>                 <span style=\"color: #008080; text-decoration-color: #008080; font-weight: bold\">66.0</span>\n",
       "<span style=\"color: #008080; text-decoration-color: #008080; font-weight: bold\">20</span>                    <span style=\"color: #008080; text-decoration-color: #008080; font-weight: bold\">8</span>            <span style=\"color: #008080; text-decoration-color: #008080; font-weight: bold\">42</span>              <span style=\"color: #008080; text-decoration-color: #008080; font-weight: bold\">16.0</span>                 <span style=\"color: #008080; text-decoration-color: #008080; font-weight: bold\">84.0</span>\n",
       "<span style=\"color: #008080; text-decoration-color: #008080; font-weight: bold\">21</span>                    <span style=\"color: #008080; text-decoration-color: #008080; font-weight: bold\">5</span>            <span style=\"color: #008080; text-decoration-color: #008080; font-weight: bold\">45</span>              <span style=\"color: #008080; text-decoration-color: #008080; font-weight: bold\">10.0</span>                 <span style=\"color: #008080; text-decoration-color: #008080; font-weight: bold\">90.0</span>\n",
       "<span style=\"color: #008080; text-decoration-color: #008080; font-weight: bold\">22</span>                    <span style=\"color: #008080; text-decoration-color: #008080; font-weight: bold\">6</span>            <span style=\"color: #008080; text-decoration-color: #008080; font-weight: bold\">44</span>              <span style=\"color: #008080; text-decoration-color: #008080; font-weight: bold\">12.0</span>                 <span style=\"color: #008080; text-decoration-color: #008080; font-weight: bold\">88.0</span>\n",
       "<span style=\"color: #008080; text-decoration-color: #008080; font-weight: bold\">23</span>                   <span style=\"color: #008080; text-decoration-color: #008080; font-weight: bold\">11</span>            <span style=\"color: #008080; text-decoration-color: #008080; font-weight: bold\">39</span>              <span style=\"color: #008080; text-decoration-color: #008080; font-weight: bold\">22.0</span>                 <span style=\"color: #008080; text-decoration-color: #008080; font-weight: bold\">78.0</span>\n",
       "<span style=\"color: #008080; text-decoration-color: #008080; font-weight: bold\">24</span>                   <span style=\"color: #008080; text-decoration-color: #008080; font-weight: bold\">11</span>            <span style=\"color: #008080; text-decoration-color: #008080; font-weight: bold\">39</span>              <span style=\"color: #008080; text-decoration-color: #008080; font-weight: bold\">22.0</span>                 <span style=\"color: #008080; text-decoration-color: #008080; font-weight: bold\">78.0</span>\n",
       "<span style=\"color: #008080; text-decoration-color: #008080; font-weight: bold\">25</span>                    <span style=\"color: #008080; text-decoration-color: #008080; font-weight: bold\">7</span>            <span style=\"color: #008080; text-decoration-color: #008080; font-weight: bold\">43</span>              <span style=\"color: #008080; text-decoration-color: #008080; font-weight: bold\">14.0</span>                 <span style=\"color: #008080; text-decoration-color: #008080; font-weight: bold\">86.0</span>\n",
       "<span style=\"color: #008080; text-decoration-color: #008080; font-weight: bold\">26</span>                    <span style=\"color: #008080; text-decoration-color: #008080; font-weight: bold\">9</span>            <span style=\"color: #008080; text-decoration-color: #008080; font-weight: bold\">41</span>              <span style=\"color: #008080; text-decoration-color: #008080; font-weight: bold\">18.0</span>                 <span style=\"color: #008080; text-decoration-color: #008080; font-weight: bold\">82.0</span>\n",
       "<span style=\"color: #008080; text-decoration-color: #008080; font-weight: bold\">27</span>                    <span style=\"color: #008080; text-decoration-color: #008080; font-weight: bold\">9</span>            <span style=\"color: #008080; text-decoration-color: #008080; font-weight: bold\">41</span>              <span style=\"color: #008080; text-decoration-color: #008080; font-weight: bold\">18.0</span>                 <span style=\"color: #008080; text-decoration-color: #008080; font-weight: bold\">82.0</span>\n",
       "<span style=\"color: #008080; text-decoration-color: #008080; font-weight: bold\">28</span>                    <span style=\"color: #008080; text-decoration-color: #008080; font-weight: bold\">9</span>            <span style=\"color: #008080; text-decoration-color: #008080; font-weight: bold\">41</span>              <span style=\"color: #008080; text-decoration-color: #008080; font-weight: bold\">18.0</span>                 <span style=\"color: #008080; text-decoration-color: #008080; font-weight: bold\">82.0</span>\n",
       "<span style=\"color: #008080; text-decoration-color: #008080; font-weight: bold\">29</span>                    <span style=\"color: #008080; text-decoration-color: #008080; font-weight: bold\">2</span>            <span style=\"color: #008080; text-decoration-color: #008080; font-weight: bold\">48</span>               <span style=\"color: #008080; text-decoration-color: #008080; font-weight: bold\">4.0</span>                 <span style=\"color: #008080; text-decoration-color: #008080; font-weight: bold\">96.0</span>\n",
       "<span style=\"color: #008080; text-decoration-color: #008080; font-weight: bold\">30</span>                    <span style=\"color: #008080; text-decoration-color: #008080; font-weight: bold\">6</span>            <span style=\"color: #008080; text-decoration-color: #008080; font-weight: bold\">44</span>              <span style=\"color: #008080; text-decoration-color: #008080; font-weight: bold\">12.0</span>                 <span style=\"color: #008080; text-decoration-color: #008080; font-weight: bold\">88.0</span>\n",
       "<span style=\"color: #008080; text-decoration-color: #008080; font-weight: bold\">31</span>                    <span style=\"color: #008080; text-decoration-color: #008080; font-weight: bold\">5</span>            <span style=\"color: #008080; text-decoration-color: #008080; font-weight: bold\">45</span>              <span style=\"color: #008080; text-decoration-color: #008080; font-weight: bold\">10.0</span>                 <span style=\"color: #008080; text-decoration-color: #008080; font-weight: bold\">90.0</span>\n",
       "<span style=\"color: #008080; text-decoration-color: #008080; font-weight: bold\">32</span>                    <span style=\"color: #008080; text-decoration-color: #008080; font-weight: bold\">2</span>            <span style=\"color: #008080; text-decoration-color: #008080; font-weight: bold\">48</span>               <span style=\"color: #008080; text-decoration-color: #008080; font-weight: bold\">4.0</span>                 <span style=\"color: #008080; text-decoration-color: #008080; font-weight: bold\">96.0</span>\n",
       "<span style=\"color: #008080; text-decoration-color: #008080; font-weight: bold\">33</span>                    <span style=\"color: #008080; text-decoration-color: #008080; font-weight: bold\">3</span>            <span style=\"color: #008080; text-decoration-color: #008080; font-weight: bold\">47</span>               <span style=\"color: #008080; text-decoration-color: #008080; font-weight: bold\">6.0</span>                 <span style=\"color: #008080; text-decoration-color: #008080; font-weight: bold\">94.0</span>\n",
       "<span style=\"color: #008080; text-decoration-color: #008080; font-weight: bold\">34</span>                    <span style=\"color: #008080; text-decoration-color: #008080; font-weight: bold\">2</span>            <span style=\"color: #008080; text-decoration-color: #008080; font-weight: bold\">48</span>               <span style=\"color: #008080; text-decoration-color: #008080; font-weight: bold\">4.0</span>                 <span style=\"color: #008080; text-decoration-color: #008080; font-weight: bold\">96.0</span>\n",
       "<span style=\"color: #008080; text-decoration-color: #008080; font-weight: bold\">35</span>                    <span style=\"color: #008080; text-decoration-color: #008080; font-weight: bold\">1</span>             <span style=\"color: #008080; text-decoration-color: #008080; font-weight: bold\">1</span>              <span style=\"color: #008080; text-decoration-color: #008080; font-weight: bold\">50.0</span>                 <span style=\"color: #008080; text-decoration-color: #008080; font-weight: bold\">50.0</span>\n",
       "</pre>\n"
      ],
      "text/plain": [
       "              num_of_na  num_of_no_na  percentage_of_na  percentage_of_no_na\n",
       "span_counter                                                                \n",
       "\u001b[1;36m0\u001b[0m                    \u001b[1;36m15\u001b[0m            \u001b[1;36m35\u001b[0m              \u001b[1;36m30.0\u001b[0m                 \u001b[1;36m70.0\u001b[0m\n",
       "\u001b[1;36m1\u001b[0m                    \u001b[1;36m17\u001b[0m            \u001b[1;36m33\u001b[0m              \u001b[1;36m34.0\u001b[0m                 \u001b[1;36m66.0\u001b[0m\n",
       "\u001b[1;36m2\u001b[0m                    \u001b[1;36m22\u001b[0m            \u001b[1;36m28\u001b[0m              \u001b[1;36m44.0\u001b[0m                 \u001b[1;36m56.0\u001b[0m\n",
       "\u001b[1;36m3\u001b[0m                    \u001b[1;36m17\u001b[0m            \u001b[1;36m33\u001b[0m              \u001b[1;36m34.0\u001b[0m                 \u001b[1;36m66.0\u001b[0m\n",
       "\u001b[1;36m4\u001b[0m                    \u001b[1;36m18\u001b[0m            \u001b[1;36m32\u001b[0m              \u001b[1;36m36.0\u001b[0m                 \u001b[1;36m64.0\u001b[0m\n",
       "\u001b[1;36m5\u001b[0m                    \u001b[1;36m13\u001b[0m            \u001b[1;36m37\u001b[0m              \u001b[1;36m26.0\u001b[0m                 \u001b[1;36m74.0\u001b[0m\n",
       "\u001b[1;36m6\u001b[0m                    \u001b[1;36m16\u001b[0m            \u001b[1;36m34\u001b[0m              \u001b[1;36m32.0\u001b[0m                 \u001b[1;36m68.0\u001b[0m\n",
       "\u001b[1;36m7\u001b[0m                    \u001b[1;36m22\u001b[0m            \u001b[1;36m28\u001b[0m              \u001b[1;36m44.0\u001b[0m                 \u001b[1;36m56.0\u001b[0m\n",
       "\u001b[1;36m8\u001b[0m                    \u001b[1;36m19\u001b[0m            \u001b[1;36m31\u001b[0m              \u001b[1;36m38.0\u001b[0m                 \u001b[1;36m62.0\u001b[0m\n",
       "\u001b[1;36m9\u001b[0m                    \u001b[1;36m22\u001b[0m            \u001b[1;36m28\u001b[0m              \u001b[1;36m44.0\u001b[0m                 \u001b[1;36m56.0\u001b[0m\n",
       "\u001b[1;36m10\u001b[0m                   \u001b[1;36m16\u001b[0m            \u001b[1;36m34\u001b[0m              \u001b[1;36m32.0\u001b[0m                 \u001b[1;36m68.0\u001b[0m\n",
       "\u001b[1;36m11\u001b[0m                   \u001b[1;36m18\u001b[0m            \u001b[1;36m32\u001b[0m              \u001b[1;36m36.0\u001b[0m                 \u001b[1;36m64.0\u001b[0m\n",
       "\u001b[1;36m12\u001b[0m                   \u001b[1;36m17\u001b[0m            \u001b[1;36m33\u001b[0m              \u001b[1;36m34.0\u001b[0m                 \u001b[1;36m66.0\u001b[0m\n",
       "\u001b[1;36m13\u001b[0m                   \u001b[1;36m10\u001b[0m            \u001b[1;36m40\u001b[0m              \u001b[1;36m20.0\u001b[0m                 \u001b[1;36m80.0\u001b[0m\n",
       "\u001b[1;36m14\u001b[0m                   \u001b[1;36m12\u001b[0m            \u001b[1;36m38\u001b[0m              \u001b[1;36m24.0\u001b[0m                 \u001b[1;36m76.0\u001b[0m\n",
       "\u001b[1;36m15\u001b[0m                   \u001b[1;36m13\u001b[0m            \u001b[1;36m37\u001b[0m              \u001b[1;36m26.0\u001b[0m                 \u001b[1;36m74.0\u001b[0m\n",
       "\u001b[1;36m16\u001b[0m                    \u001b[1;36m8\u001b[0m            \u001b[1;36m42\u001b[0m              \u001b[1;36m16.0\u001b[0m                 \u001b[1;36m84.0\u001b[0m\n",
       "\u001b[1;36m17\u001b[0m                    \u001b[1;36m8\u001b[0m            \u001b[1;36m42\u001b[0m              \u001b[1;36m16.0\u001b[0m                 \u001b[1;36m84.0\u001b[0m\n",
       "\u001b[1;36m18\u001b[0m                   \u001b[1;36m12\u001b[0m            \u001b[1;36m38\u001b[0m              \u001b[1;36m24.0\u001b[0m                 \u001b[1;36m76.0\u001b[0m\n",
       "\u001b[1;36m19\u001b[0m                   \u001b[1;36m17\u001b[0m            \u001b[1;36m33\u001b[0m              \u001b[1;36m34.0\u001b[0m                 \u001b[1;36m66.0\u001b[0m\n",
       "\u001b[1;36m20\u001b[0m                    \u001b[1;36m8\u001b[0m            \u001b[1;36m42\u001b[0m              \u001b[1;36m16.0\u001b[0m                 \u001b[1;36m84.0\u001b[0m\n",
       "\u001b[1;36m21\u001b[0m                    \u001b[1;36m5\u001b[0m            \u001b[1;36m45\u001b[0m              \u001b[1;36m10.0\u001b[0m                 \u001b[1;36m90.0\u001b[0m\n",
       "\u001b[1;36m22\u001b[0m                    \u001b[1;36m6\u001b[0m            \u001b[1;36m44\u001b[0m              \u001b[1;36m12.0\u001b[0m                 \u001b[1;36m88.0\u001b[0m\n",
       "\u001b[1;36m23\u001b[0m                   \u001b[1;36m11\u001b[0m            \u001b[1;36m39\u001b[0m              \u001b[1;36m22.0\u001b[0m                 \u001b[1;36m78.0\u001b[0m\n",
       "\u001b[1;36m24\u001b[0m                   \u001b[1;36m11\u001b[0m            \u001b[1;36m39\u001b[0m              \u001b[1;36m22.0\u001b[0m                 \u001b[1;36m78.0\u001b[0m\n",
       "\u001b[1;36m25\u001b[0m                    \u001b[1;36m7\u001b[0m            \u001b[1;36m43\u001b[0m              \u001b[1;36m14.0\u001b[0m                 \u001b[1;36m86.0\u001b[0m\n",
       "\u001b[1;36m26\u001b[0m                    \u001b[1;36m9\u001b[0m            \u001b[1;36m41\u001b[0m              \u001b[1;36m18.0\u001b[0m                 \u001b[1;36m82.0\u001b[0m\n",
       "\u001b[1;36m27\u001b[0m                    \u001b[1;36m9\u001b[0m            \u001b[1;36m41\u001b[0m              \u001b[1;36m18.0\u001b[0m                 \u001b[1;36m82.0\u001b[0m\n",
       "\u001b[1;36m28\u001b[0m                    \u001b[1;36m9\u001b[0m            \u001b[1;36m41\u001b[0m              \u001b[1;36m18.0\u001b[0m                 \u001b[1;36m82.0\u001b[0m\n",
       "\u001b[1;36m29\u001b[0m                    \u001b[1;36m2\u001b[0m            \u001b[1;36m48\u001b[0m               \u001b[1;36m4.0\u001b[0m                 \u001b[1;36m96.0\u001b[0m\n",
       "\u001b[1;36m30\u001b[0m                    \u001b[1;36m6\u001b[0m            \u001b[1;36m44\u001b[0m              \u001b[1;36m12.0\u001b[0m                 \u001b[1;36m88.0\u001b[0m\n",
       "\u001b[1;36m31\u001b[0m                    \u001b[1;36m5\u001b[0m            \u001b[1;36m45\u001b[0m              \u001b[1;36m10.0\u001b[0m                 \u001b[1;36m90.0\u001b[0m\n",
       "\u001b[1;36m32\u001b[0m                    \u001b[1;36m2\u001b[0m            \u001b[1;36m48\u001b[0m               \u001b[1;36m4.0\u001b[0m                 \u001b[1;36m96.0\u001b[0m\n",
       "\u001b[1;36m33\u001b[0m                    \u001b[1;36m3\u001b[0m            \u001b[1;36m47\u001b[0m               \u001b[1;36m6.0\u001b[0m                 \u001b[1;36m94.0\u001b[0m\n",
       "\u001b[1;36m34\u001b[0m                    \u001b[1;36m2\u001b[0m            \u001b[1;36m48\u001b[0m               \u001b[1;36m4.0\u001b[0m                 \u001b[1;36m96.0\u001b[0m\n",
       "\u001b[1;36m35\u001b[0m                    \u001b[1;36m1\u001b[0m             \u001b[1;36m1\u001b[0m              \u001b[1;36m50.0\u001b[0m                 \u001b[1;36m50.0\u001b[0m\n"
      ]
     },
     "metadata": {},
     "output_type": "display_data"
    },
    {
     "data": {
      "text/html": [
       "<pre style=\"white-space:pre;overflow-x:auto;line-height:normal;font-family:Menlo,'DejaVu Sans Mono',consolas,'Courier New',monospace\">============================================================\n",
       "</pre>\n"
      ],
      "text/plain": [
       "============================================================\n"
      ]
     },
     "metadata": {},
     "output_type": "display_data"
    },
    {
     "data": {
      "text/html": [
       "<pre style=\"white-space:pre;overflow-x:auto;line-height:normal;font-family:Menlo,'DejaVu Sans Mono',consolas,'Courier New',monospace\"><span style=\"text-decoration: underline\">Missing variable span for </span><span style=\"color: #af00ff; text-decoration-color: #af00ff; text-decoration: underline\">synopsis</span>\n",
       "\n",
       "</pre>\n"
      ],
      "text/plain": [
       "\u001b[4mMissing variable span for \u001b[0m\u001b[4;38;5;129msynopsis\u001b[0m\n",
       "\n"
      ]
     },
     "metadata": {},
     "output_type": "display_data"
    },
    {
     "data": {
      "text/html": [
       "<pre style=\"white-space:pre;overflow-x:auto;line-height:normal;font-family:Menlo,'DejaVu Sans Mono',consolas,'Courier New',monospace\">              num_of_na  num_of_no_na  percentage_of_na  percentage_of_no_na\n",
       "span_counter                                                                \n",
       "<span style=\"color: #008080; text-decoration-color: #008080; font-weight: bold\">0</span>                     <span style=\"color: #008080; text-decoration-color: #008080; font-weight: bold\">1</span>            <span style=\"color: #008080; text-decoration-color: #008080; font-weight: bold\">49</span>               <span style=\"color: #008080; text-decoration-color: #008080; font-weight: bold\">2.0</span>                 <span style=\"color: #008080; text-decoration-color: #008080; font-weight: bold\">98.0</span>\n",
       "<span style=\"color: #008080; text-decoration-color: #008080; font-weight: bold\">1</span>                     <span style=\"color: #008080; text-decoration-color: #008080; font-weight: bold\">4</span>            <span style=\"color: #008080; text-decoration-color: #008080; font-weight: bold\">46</span>               <span style=\"color: #008080; text-decoration-color: #008080; font-weight: bold\">8.0</span>                 <span style=\"color: #008080; text-decoration-color: #008080; font-weight: bold\">92.0</span>\n",
       "<span style=\"color: #008080; text-decoration-color: #008080; font-weight: bold\">2</span>                     <span style=\"color: #008080; text-decoration-color: #008080; font-weight: bold\">5</span>            <span style=\"color: #008080; text-decoration-color: #008080; font-weight: bold\">45</span>              <span style=\"color: #008080; text-decoration-color: #008080; font-weight: bold\">10.0</span>                 <span style=\"color: #008080; text-decoration-color: #008080; font-weight: bold\">90.0</span>\n",
       "<span style=\"color: #008080; text-decoration-color: #008080; font-weight: bold\">3</span>                     <span style=\"color: #008080; text-decoration-color: #008080; font-weight: bold\">6</span>            <span style=\"color: #008080; text-decoration-color: #008080; font-weight: bold\">44</span>              <span style=\"color: #008080; text-decoration-color: #008080; font-weight: bold\">12.0</span>                 <span style=\"color: #008080; text-decoration-color: #008080; font-weight: bold\">88.0</span>\n",
       "<span style=\"color: #008080; text-decoration-color: #008080; font-weight: bold\">4</span>                     <span style=\"color: #008080; text-decoration-color: #008080; font-weight: bold\">3</span>            <span style=\"color: #008080; text-decoration-color: #008080; font-weight: bold\">47</span>               <span style=\"color: #008080; text-decoration-color: #008080; font-weight: bold\">6.0</span>                 <span style=\"color: #008080; text-decoration-color: #008080; font-weight: bold\">94.0</span>\n",
       "<span style=\"color: #008080; text-decoration-color: #008080; font-weight: bold\">5</span>                     <span style=\"color: #008080; text-decoration-color: #008080; font-weight: bold\">4</span>            <span style=\"color: #008080; text-decoration-color: #008080; font-weight: bold\">46</span>               <span style=\"color: #008080; text-decoration-color: #008080; font-weight: bold\">8.0</span>                 <span style=\"color: #008080; text-decoration-color: #008080; font-weight: bold\">92.0</span>\n",
       "<span style=\"color: #008080; text-decoration-color: #008080; font-weight: bold\">6</span>                     <span style=\"color: #008080; text-decoration-color: #008080; font-weight: bold\">5</span>            <span style=\"color: #008080; text-decoration-color: #008080; font-weight: bold\">45</span>              <span style=\"color: #008080; text-decoration-color: #008080; font-weight: bold\">10.0</span>                 <span style=\"color: #008080; text-decoration-color: #008080; font-weight: bold\">90.0</span>\n",
       "<span style=\"color: #008080; text-decoration-color: #008080; font-weight: bold\">7</span>                     <span style=\"color: #008080; text-decoration-color: #008080; font-weight: bold\">4</span>            <span style=\"color: #008080; text-decoration-color: #008080; font-weight: bold\">46</span>               <span style=\"color: #008080; text-decoration-color: #008080; font-weight: bold\">8.0</span>                 <span style=\"color: #008080; text-decoration-color: #008080; font-weight: bold\">92.0</span>\n",
       "<span style=\"color: #008080; text-decoration-color: #008080; font-weight: bold\">8</span>                    <span style=\"color: #008080; text-decoration-color: #008080; font-weight: bold\">10</span>            <span style=\"color: #008080; text-decoration-color: #008080; font-weight: bold\">40</span>              <span style=\"color: #008080; text-decoration-color: #008080; font-weight: bold\">20.0</span>                 <span style=\"color: #008080; text-decoration-color: #008080; font-weight: bold\">80.0</span>\n",
       "<span style=\"color: #008080; text-decoration-color: #008080; font-weight: bold\">9</span>                     <span style=\"color: #008080; text-decoration-color: #008080; font-weight: bold\">8</span>            <span style=\"color: #008080; text-decoration-color: #008080; font-weight: bold\">42</span>              <span style=\"color: #008080; text-decoration-color: #008080; font-weight: bold\">16.0</span>                 <span style=\"color: #008080; text-decoration-color: #008080; font-weight: bold\">84.0</span>\n",
       "<span style=\"color: #008080; text-decoration-color: #008080; font-weight: bold\">10</span>                    <span style=\"color: #008080; text-decoration-color: #008080; font-weight: bold\">8</span>            <span style=\"color: #008080; text-decoration-color: #008080; font-weight: bold\">42</span>              <span style=\"color: #008080; text-decoration-color: #008080; font-weight: bold\">16.0</span>                 <span style=\"color: #008080; text-decoration-color: #008080; font-weight: bold\">84.0</span>\n",
       "<span style=\"color: #008080; text-decoration-color: #008080; font-weight: bold\">11</span>                    <span style=\"color: #008080; text-decoration-color: #008080; font-weight: bold\">5</span>            <span style=\"color: #008080; text-decoration-color: #008080; font-weight: bold\">45</span>              <span style=\"color: #008080; text-decoration-color: #008080; font-weight: bold\">10.0</span>                 <span style=\"color: #008080; text-decoration-color: #008080; font-weight: bold\">90.0</span>\n",
       "<span style=\"color: #008080; text-decoration-color: #008080; font-weight: bold\">12</span>                    <span style=\"color: #008080; text-decoration-color: #008080; font-weight: bold\">8</span>            <span style=\"color: #008080; text-decoration-color: #008080; font-weight: bold\">42</span>              <span style=\"color: #008080; text-decoration-color: #008080; font-weight: bold\">16.0</span>                 <span style=\"color: #008080; text-decoration-color: #008080; font-weight: bold\">84.0</span>\n",
       "<span style=\"color: #008080; text-decoration-color: #008080; font-weight: bold\">13</span>                    <span style=\"color: #008080; text-decoration-color: #008080; font-weight: bold\">3</span>            <span style=\"color: #008080; text-decoration-color: #008080; font-weight: bold\">47</span>               <span style=\"color: #008080; text-decoration-color: #008080; font-weight: bold\">6.0</span>                 <span style=\"color: #008080; text-decoration-color: #008080; font-weight: bold\">94.0</span>\n",
       "<span style=\"color: #008080; text-decoration-color: #008080; font-weight: bold\">14</span>                    <span style=\"color: #008080; text-decoration-color: #008080; font-weight: bold\">4</span>            <span style=\"color: #008080; text-decoration-color: #008080; font-weight: bold\">46</span>               <span style=\"color: #008080; text-decoration-color: #008080; font-weight: bold\">8.0</span>                 <span style=\"color: #008080; text-decoration-color: #008080; font-weight: bold\">92.0</span>\n",
       "<span style=\"color: #008080; text-decoration-color: #008080; font-weight: bold\">15</span>                    <span style=\"color: #008080; text-decoration-color: #008080; font-weight: bold\">4</span>            <span style=\"color: #008080; text-decoration-color: #008080; font-weight: bold\">46</span>               <span style=\"color: #008080; text-decoration-color: #008080; font-weight: bold\">8.0</span>                 <span style=\"color: #008080; text-decoration-color: #008080; font-weight: bold\">92.0</span>\n",
       "<span style=\"color: #008080; text-decoration-color: #008080; font-weight: bold\">16</span>                    <span style=\"color: #008080; text-decoration-color: #008080; font-weight: bold\">7</span>            <span style=\"color: #008080; text-decoration-color: #008080; font-weight: bold\">43</span>              <span style=\"color: #008080; text-decoration-color: #008080; font-weight: bold\">14.0</span>                 <span style=\"color: #008080; text-decoration-color: #008080; font-weight: bold\">86.0</span>\n",
       "<span style=\"color: #008080; text-decoration-color: #008080; font-weight: bold\">17</span>                    <span style=\"color: #008080; text-decoration-color: #008080; font-weight: bold\">5</span>            <span style=\"color: #008080; text-decoration-color: #008080; font-weight: bold\">45</span>              <span style=\"color: #008080; text-decoration-color: #008080; font-weight: bold\">10.0</span>                 <span style=\"color: #008080; text-decoration-color: #008080; font-weight: bold\">90.0</span>\n",
       "<span style=\"color: #008080; text-decoration-color: #008080; font-weight: bold\">18</span>                    <span style=\"color: #008080; text-decoration-color: #008080; font-weight: bold\">7</span>            <span style=\"color: #008080; text-decoration-color: #008080; font-weight: bold\">43</span>              <span style=\"color: #008080; text-decoration-color: #008080; font-weight: bold\">14.0</span>                 <span style=\"color: #008080; text-decoration-color: #008080; font-weight: bold\">86.0</span>\n",
       "<span style=\"color: #008080; text-decoration-color: #008080; font-weight: bold\">19</span>                    <span style=\"color: #008080; text-decoration-color: #008080; font-weight: bold\">8</span>            <span style=\"color: #008080; text-decoration-color: #008080; font-weight: bold\">42</span>              <span style=\"color: #008080; text-decoration-color: #008080; font-weight: bold\">16.0</span>                 <span style=\"color: #008080; text-decoration-color: #008080; font-weight: bold\">84.0</span>\n",
       "<span style=\"color: #008080; text-decoration-color: #008080; font-weight: bold\">20</span>                    <span style=\"color: #008080; text-decoration-color: #008080; font-weight: bold\">7</span>            <span style=\"color: #008080; text-decoration-color: #008080; font-weight: bold\">43</span>              <span style=\"color: #008080; text-decoration-color: #008080; font-weight: bold\">14.0</span>                 <span style=\"color: #008080; text-decoration-color: #008080; font-weight: bold\">86.0</span>\n",
       "<span style=\"color: #008080; text-decoration-color: #008080; font-weight: bold\">21</span>                    <span style=\"color: #008080; text-decoration-color: #008080; font-weight: bold\">5</span>            <span style=\"color: #008080; text-decoration-color: #008080; font-weight: bold\">45</span>              <span style=\"color: #008080; text-decoration-color: #008080; font-weight: bold\">10.0</span>                 <span style=\"color: #008080; text-decoration-color: #008080; font-weight: bold\">90.0</span>\n",
       "<span style=\"color: #008080; text-decoration-color: #008080; font-weight: bold\">22</span>                    <span style=\"color: #008080; text-decoration-color: #008080; font-weight: bold\">6</span>            <span style=\"color: #008080; text-decoration-color: #008080; font-weight: bold\">44</span>              <span style=\"color: #008080; text-decoration-color: #008080; font-weight: bold\">12.0</span>                 <span style=\"color: #008080; text-decoration-color: #008080; font-weight: bold\">88.0</span>\n",
       "<span style=\"color: #008080; text-decoration-color: #008080; font-weight: bold\">23</span>                    <span style=\"color: #008080; text-decoration-color: #008080; font-weight: bold\">6</span>            <span style=\"color: #008080; text-decoration-color: #008080; font-weight: bold\">44</span>              <span style=\"color: #008080; text-decoration-color: #008080; font-weight: bold\">12.0</span>                 <span style=\"color: #008080; text-decoration-color: #008080; font-weight: bold\">88.0</span>\n",
       "<span style=\"color: #008080; text-decoration-color: #008080; font-weight: bold\">24</span>                    <span style=\"color: #008080; text-decoration-color: #008080; font-weight: bold\">4</span>            <span style=\"color: #008080; text-decoration-color: #008080; font-weight: bold\">46</span>               <span style=\"color: #008080; text-decoration-color: #008080; font-weight: bold\">8.0</span>                 <span style=\"color: #008080; text-decoration-color: #008080; font-weight: bold\">92.0</span>\n",
       "<span style=\"color: #008080; text-decoration-color: #008080; font-weight: bold\">25</span>                    <span style=\"color: #008080; text-decoration-color: #008080; font-weight: bold\">5</span>            <span style=\"color: #008080; text-decoration-color: #008080; font-weight: bold\">45</span>              <span style=\"color: #008080; text-decoration-color: #008080; font-weight: bold\">10.0</span>                 <span style=\"color: #008080; text-decoration-color: #008080; font-weight: bold\">90.0</span>\n",
       "<span style=\"color: #008080; text-decoration-color: #008080; font-weight: bold\">26</span>                    <span style=\"color: #008080; text-decoration-color: #008080; font-weight: bold\">4</span>            <span style=\"color: #008080; text-decoration-color: #008080; font-weight: bold\">46</span>               <span style=\"color: #008080; text-decoration-color: #008080; font-weight: bold\">8.0</span>                 <span style=\"color: #008080; text-decoration-color: #008080; font-weight: bold\">92.0</span>\n",
       "<span style=\"color: #008080; text-decoration-color: #008080; font-weight: bold\">27</span>                    <span style=\"color: #008080; text-decoration-color: #008080; font-weight: bold\">5</span>            <span style=\"color: #008080; text-decoration-color: #008080; font-weight: bold\">45</span>              <span style=\"color: #008080; text-decoration-color: #008080; font-weight: bold\">10.0</span>                 <span style=\"color: #008080; text-decoration-color: #008080; font-weight: bold\">90.0</span>\n",
       "<span style=\"color: #008080; text-decoration-color: #008080; font-weight: bold\">28</span>                    <span style=\"color: #008080; text-decoration-color: #008080; font-weight: bold\">6</span>            <span style=\"color: #008080; text-decoration-color: #008080; font-weight: bold\">44</span>              <span style=\"color: #008080; text-decoration-color: #008080; font-weight: bold\">12.0</span>                 <span style=\"color: #008080; text-decoration-color: #008080; font-weight: bold\">88.0</span>\n",
       "<span style=\"color: #008080; text-decoration-color: #008080; font-weight: bold\">29</span>                    <span style=\"color: #008080; text-decoration-color: #008080; font-weight: bold\">3</span>            <span style=\"color: #008080; text-decoration-color: #008080; font-weight: bold\">47</span>               <span style=\"color: #008080; text-decoration-color: #008080; font-weight: bold\">6.0</span>                 <span style=\"color: #008080; text-decoration-color: #008080; font-weight: bold\">94.0</span>\n",
       "<span style=\"color: #008080; text-decoration-color: #008080; font-weight: bold\">30</span>                    <span style=\"color: #008080; text-decoration-color: #008080; font-weight: bold\">3</span>            <span style=\"color: #008080; text-decoration-color: #008080; font-weight: bold\">47</span>               <span style=\"color: #008080; text-decoration-color: #008080; font-weight: bold\">6.0</span>                 <span style=\"color: #008080; text-decoration-color: #008080; font-weight: bold\">94.0</span>\n",
       "<span style=\"color: #008080; text-decoration-color: #008080; font-weight: bold\">31</span>                    <span style=\"color: #008080; text-decoration-color: #008080; font-weight: bold\">3</span>            <span style=\"color: #008080; text-decoration-color: #008080; font-weight: bold\">47</span>               <span style=\"color: #008080; text-decoration-color: #008080; font-weight: bold\">6.0</span>                 <span style=\"color: #008080; text-decoration-color: #008080; font-weight: bold\">94.0</span>\n",
       "<span style=\"color: #008080; text-decoration-color: #008080; font-weight: bold\">32</span>                    <span style=\"color: #008080; text-decoration-color: #008080; font-weight: bold\">1</span>            <span style=\"color: #008080; text-decoration-color: #008080; font-weight: bold\">49</span>               <span style=\"color: #008080; text-decoration-color: #008080; font-weight: bold\">2.0</span>                 <span style=\"color: #008080; text-decoration-color: #008080; font-weight: bold\">98.0</span>\n",
       "<span style=\"color: #008080; text-decoration-color: #008080; font-weight: bold\">33</span>                    <span style=\"color: #008080; text-decoration-color: #008080; font-weight: bold\">1</span>            <span style=\"color: #008080; text-decoration-color: #008080; font-weight: bold\">49</span>               <span style=\"color: #008080; text-decoration-color: #008080; font-weight: bold\">2.0</span>                 <span style=\"color: #008080; text-decoration-color: #008080; font-weight: bold\">98.0</span>\n",
       "<span style=\"color: #008080; text-decoration-color: #008080; font-weight: bold\">34</span>                    <span style=\"color: #008080; text-decoration-color: #008080; font-weight: bold\">0</span>            <span style=\"color: #008080; text-decoration-color: #008080; font-weight: bold\">50</span>               <span style=\"color: #008080; text-decoration-color: #008080; font-weight: bold\">0.0</span>                <span style=\"color: #008080; text-decoration-color: #008080; font-weight: bold\">100.0</span>\n",
       "<span style=\"color: #008080; text-decoration-color: #008080; font-weight: bold\">35</span>                    <span style=\"color: #008080; text-decoration-color: #008080; font-weight: bold\">0</span>             <span style=\"color: #008080; text-decoration-color: #008080; font-weight: bold\">2</span>               <span style=\"color: #008080; text-decoration-color: #008080; font-weight: bold\">0.0</span>                <span style=\"color: #008080; text-decoration-color: #008080; font-weight: bold\">100.0</span>\n",
       "</pre>\n"
      ],
      "text/plain": [
       "              num_of_na  num_of_no_na  percentage_of_na  percentage_of_no_na\n",
       "span_counter                                                                \n",
       "\u001b[1;36m0\u001b[0m                     \u001b[1;36m1\u001b[0m            \u001b[1;36m49\u001b[0m               \u001b[1;36m2.0\u001b[0m                 \u001b[1;36m98.0\u001b[0m\n",
       "\u001b[1;36m1\u001b[0m                     \u001b[1;36m4\u001b[0m            \u001b[1;36m46\u001b[0m               \u001b[1;36m8.0\u001b[0m                 \u001b[1;36m92.0\u001b[0m\n",
       "\u001b[1;36m2\u001b[0m                     \u001b[1;36m5\u001b[0m            \u001b[1;36m45\u001b[0m              \u001b[1;36m10.0\u001b[0m                 \u001b[1;36m90.0\u001b[0m\n",
       "\u001b[1;36m3\u001b[0m                     \u001b[1;36m6\u001b[0m            \u001b[1;36m44\u001b[0m              \u001b[1;36m12.0\u001b[0m                 \u001b[1;36m88.0\u001b[0m\n",
       "\u001b[1;36m4\u001b[0m                     \u001b[1;36m3\u001b[0m            \u001b[1;36m47\u001b[0m               \u001b[1;36m6.0\u001b[0m                 \u001b[1;36m94.0\u001b[0m\n",
       "\u001b[1;36m5\u001b[0m                     \u001b[1;36m4\u001b[0m            \u001b[1;36m46\u001b[0m               \u001b[1;36m8.0\u001b[0m                 \u001b[1;36m92.0\u001b[0m\n",
       "\u001b[1;36m6\u001b[0m                     \u001b[1;36m5\u001b[0m            \u001b[1;36m45\u001b[0m              \u001b[1;36m10.0\u001b[0m                 \u001b[1;36m90.0\u001b[0m\n",
       "\u001b[1;36m7\u001b[0m                     \u001b[1;36m4\u001b[0m            \u001b[1;36m46\u001b[0m               \u001b[1;36m8.0\u001b[0m                 \u001b[1;36m92.0\u001b[0m\n",
       "\u001b[1;36m8\u001b[0m                    \u001b[1;36m10\u001b[0m            \u001b[1;36m40\u001b[0m              \u001b[1;36m20.0\u001b[0m                 \u001b[1;36m80.0\u001b[0m\n",
       "\u001b[1;36m9\u001b[0m                     \u001b[1;36m8\u001b[0m            \u001b[1;36m42\u001b[0m              \u001b[1;36m16.0\u001b[0m                 \u001b[1;36m84.0\u001b[0m\n",
       "\u001b[1;36m10\u001b[0m                    \u001b[1;36m8\u001b[0m            \u001b[1;36m42\u001b[0m              \u001b[1;36m16.0\u001b[0m                 \u001b[1;36m84.0\u001b[0m\n",
       "\u001b[1;36m11\u001b[0m                    \u001b[1;36m5\u001b[0m            \u001b[1;36m45\u001b[0m              \u001b[1;36m10.0\u001b[0m                 \u001b[1;36m90.0\u001b[0m\n",
       "\u001b[1;36m12\u001b[0m                    \u001b[1;36m8\u001b[0m            \u001b[1;36m42\u001b[0m              \u001b[1;36m16.0\u001b[0m                 \u001b[1;36m84.0\u001b[0m\n",
       "\u001b[1;36m13\u001b[0m                    \u001b[1;36m3\u001b[0m            \u001b[1;36m47\u001b[0m               \u001b[1;36m6.0\u001b[0m                 \u001b[1;36m94.0\u001b[0m\n",
       "\u001b[1;36m14\u001b[0m                    \u001b[1;36m4\u001b[0m            \u001b[1;36m46\u001b[0m               \u001b[1;36m8.0\u001b[0m                 \u001b[1;36m92.0\u001b[0m\n",
       "\u001b[1;36m15\u001b[0m                    \u001b[1;36m4\u001b[0m            \u001b[1;36m46\u001b[0m               \u001b[1;36m8.0\u001b[0m                 \u001b[1;36m92.0\u001b[0m\n",
       "\u001b[1;36m16\u001b[0m                    \u001b[1;36m7\u001b[0m            \u001b[1;36m43\u001b[0m              \u001b[1;36m14.0\u001b[0m                 \u001b[1;36m86.0\u001b[0m\n",
       "\u001b[1;36m17\u001b[0m                    \u001b[1;36m5\u001b[0m            \u001b[1;36m45\u001b[0m              \u001b[1;36m10.0\u001b[0m                 \u001b[1;36m90.0\u001b[0m\n",
       "\u001b[1;36m18\u001b[0m                    \u001b[1;36m7\u001b[0m            \u001b[1;36m43\u001b[0m              \u001b[1;36m14.0\u001b[0m                 \u001b[1;36m86.0\u001b[0m\n",
       "\u001b[1;36m19\u001b[0m                    \u001b[1;36m8\u001b[0m            \u001b[1;36m42\u001b[0m              \u001b[1;36m16.0\u001b[0m                 \u001b[1;36m84.0\u001b[0m\n",
       "\u001b[1;36m20\u001b[0m                    \u001b[1;36m7\u001b[0m            \u001b[1;36m43\u001b[0m              \u001b[1;36m14.0\u001b[0m                 \u001b[1;36m86.0\u001b[0m\n",
       "\u001b[1;36m21\u001b[0m                    \u001b[1;36m5\u001b[0m            \u001b[1;36m45\u001b[0m              \u001b[1;36m10.0\u001b[0m                 \u001b[1;36m90.0\u001b[0m\n",
       "\u001b[1;36m22\u001b[0m                    \u001b[1;36m6\u001b[0m            \u001b[1;36m44\u001b[0m              \u001b[1;36m12.0\u001b[0m                 \u001b[1;36m88.0\u001b[0m\n",
       "\u001b[1;36m23\u001b[0m                    \u001b[1;36m6\u001b[0m            \u001b[1;36m44\u001b[0m              \u001b[1;36m12.0\u001b[0m                 \u001b[1;36m88.0\u001b[0m\n",
       "\u001b[1;36m24\u001b[0m                    \u001b[1;36m4\u001b[0m            \u001b[1;36m46\u001b[0m               \u001b[1;36m8.0\u001b[0m                 \u001b[1;36m92.0\u001b[0m\n",
       "\u001b[1;36m25\u001b[0m                    \u001b[1;36m5\u001b[0m            \u001b[1;36m45\u001b[0m              \u001b[1;36m10.0\u001b[0m                 \u001b[1;36m90.0\u001b[0m\n",
       "\u001b[1;36m26\u001b[0m                    \u001b[1;36m4\u001b[0m            \u001b[1;36m46\u001b[0m               \u001b[1;36m8.0\u001b[0m                 \u001b[1;36m92.0\u001b[0m\n",
       "\u001b[1;36m27\u001b[0m                    \u001b[1;36m5\u001b[0m            \u001b[1;36m45\u001b[0m              \u001b[1;36m10.0\u001b[0m                 \u001b[1;36m90.0\u001b[0m\n",
       "\u001b[1;36m28\u001b[0m                    \u001b[1;36m6\u001b[0m            \u001b[1;36m44\u001b[0m              \u001b[1;36m12.0\u001b[0m                 \u001b[1;36m88.0\u001b[0m\n",
       "\u001b[1;36m29\u001b[0m                    \u001b[1;36m3\u001b[0m            \u001b[1;36m47\u001b[0m               \u001b[1;36m6.0\u001b[0m                 \u001b[1;36m94.0\u001b[0m\n",
       "\u001b[1;36m30\u001b[0m                    \u001b[1;36m3\u001b[0m            \u001b[1;36m47\u001b[0m               \u001b[1;36m6.0\u001b[0m                 \u001b[1;36m94.0\u001b[0m\n",
       "\u001b[1;36m31\u001b[0m                    \u001b[1;36m3\u001b[0m            \u001b[1;36m47\u001b[0m               \u001b[1;36m6.0\u001b[0m                 \u001b[1;36m94.0\u001b[0m\n",
       "\u001b[1;36m32\u001b[0m                    \u001b[1;36m1\u001b[0m            \u001b[1;36m49\u001b[0m               \u001b[1;36m2.0\u001b[0m                 \u001b[1;36m98.0\u001b[0m\n",
       "\u001b[1;36m33\u001b[0m                    \u001b[1;36m1\u001b[0m            \u001b[1;36m49\u001b[0m               \u001b[1;36m2.0\u001b[0m                 \u001b[1;36m98.0\u001b[0m\n",
       "\u001b[1;36m34\u001b[0m                    \u001b[1;36m0\u001b[0m            \u001b[1;36m50\u001b[0m               \u001b[1;36m0.0\u001b[0m                \u001b[1;36m100.0\u001b[0m\n",
       "\u001b[1;36m35\u001b[0m                    \u001b[1;36m0\u001b[0m             \u001b[1;36m2\u001b[0m               \u001b[1;36m0.0\u001b[0m                \u001b[1;36m100.0\u001b[0m\n"
      ]
     },
     "metadata": {},
     "output_type": "display_data"
    },
    {
     "data": {
      "text/html": [
       "<pre style=\"white-space:pre;overflow-x:auto;line-height:normal;font-family:Menlo,'DejaVu Sans Mono',consolas,'Courier New',monospace\">============================================================\n",
       "</pre>\n"
      ],
      "text/plain": [
       "============================================================\n"
      ]
     },
     "metadata": {},
     "output_type": "display_data"
    }
   ],
   "source": [
    "def missing_variable_span(data: pd.DataFrame, variable: str, span_every: int) -> pd.DataFrame:\n",
    "    return(\n",
    "        data\n",
    "        .assign(\n",
    "            span_counter=lambda df: np.repeat(range(df.shape[0]), span_every)[:df.shape[0]] # Volver hacer pero no con un intervalo sino por número de secciones\n",
    "        )\n",
    "        .groupby('span_counter')\n",
    "        .aggregate(\n",
    "            num_in_span=(variable, 'size'),\n",
    "            num_of_na=(variable, lambda x: x.isna().sum())\n",
    "        )\n",
    "        .assign(\n",
    "            num_of_no_na=lambda df: df.num_in_span - df.num_of_na,\n",
    "            percentage_of_na=lambda df: (df.num_of_na / df.num_in_span) * 100,\n",
    "            percentage_of_no_na=lambda df: (df.num_of_no_na / df.num_in_span) * 100\n",
    "        )\n",
    "        .drop(columns=['num_in_span'])\n",
    "    )\n",
    "\n",
    "for column in k_dramas.columns:\n",
    "    df = missing_variable_span(k_dramas, column, 50)\n",
    "    if df.num_of_na.sum() > 0:\n",
    "        print(f'[underline]Missing variable span for [purple]{column}[/purple][/underline]\\n')\n",
    "        print(df)\n",
    "        print('============================================================')"
   ]
  },
  {
   "cell_type": "code",
   "execution_count": 23,
   "metadata": {},
   "outputs": [
    {
     "data": {
      "text/html": [
       "<pre style=\"white-space:pre;overflow-x:auto;line-height:normal;font-family:Menlo,'DejaVu Sans Mono',consolas,'Courier New',monospace\"><span style=\"text-decoration: underline\">Missing variable intervals for </span><span style=\"color: #af00ff; text-decoration-color: #af00ff; text-decoration: underline\">director</span>\n",
       "\n",
       "</pre>\n"
      ],
      "text/plain": [
       "\u001b[4mMissing variable intervals for \u001b[0m\u001b[4;38;5;129mdirector\u001b[0m\n",
       "\n"
      ]
     },
     "metadata": {},
     "output_type": "display_data"
    },
    {
     "data": {
      "text/html": [
       "<pre style=\"white-space:pre;overflow-x:auto;line-height:normal;font-family:Menlo,'DejaVu Sans Mono',consolas,'Courier New',monospace\">              num_of_na  num_of_no_na  percentage_of_na  percentage_of_no_na\n",
       "span_counter                                                                \n",
       "<span style=\"color: #008080; text-decoration-color: #008080; font-weight: bold\">0</span>                    <span style=\"color: #008080; text-decoration-color: #008080; font-weight: bold\">40</span>            <span style=\"color: #008080; text-decoration-color: #008080; font-weight: bold\">94</span>         <span style=\"color: #008080; text-decoration-color: #008080; font-weight: bold\">29.850746</span>            <span style=\"color: #008080; text-decoration-color: #008080; font-weight: bold\">70.149254</span>\n",
       "<span style=\"color: #008080; text-decoration-color: #008080; font-weight: bold\">1</span>                    <span style=\"color: #008080; text-decoration-color: #008080; font-weight: bold\">39</span>            <span style=\"color: #008080; text-decoration-color: #008080; font-weight: bold\">95</span>         <span style=\"color: #008080; text-decoration-color: #008080; font-weight: bold\">29.104478</span>            <span style=\"color: #008080; text-decoration-color: #008080; font-weight: bold\">70.895522</span>\n",
       "<span style=\"color: #008080; text-decoration-color: #008080; font-weight: bold\">2</span>                    <span style=\"color: #008080; text-decoration-color: #008080; font-weight: bold\">62</span>            <span style=\"color: #008080; text-decoration-color: #008080; font-weight: bold\">72</span>         <span style=\"color: #008080; text-decoration-color: #008080; font-weight: bold\">46.268657</span>            <span style=\"color: #008080; text-decoration-color: #008080; font-weight: bold\">53.731343</span>\n",
       "<span style=\"color: #008080; text-decoration-color: #008080; font-weight: bold\">3</span>                    <span style=\"color: #008080; text-decoration-color: #008080; font-weight: bold\">64</span>            <span style=\"color: #008080; text-decoration-color: #008080; font-weight: bold\">70</span>         <span style=\"color: #008080; text-decoration-color: #008080; font-weight: bold\">47.761194</span>            <span style=\"color: #008080; text-decoration-color: #008080; font-weight: bold\">52.238806</span>\n",
       "<span style=\"color: #008080; text-decoration-color: #008080; font-weight: bold\">4</span>                    <span style=\"color: #008080; text-decoration-color: #008080; font-weight: bold\">61</span>            <span style=\"color: #008080; text-decoration-color: #008080; font-weight: bold\">73</span>         <span style=\"color: #008080; text-decoration-color: #008080; font-weight: bold\">45.522388</span>            <span style=\"color: #008080; text-decoration-color: #008080; font-weight: bold\">54.477612</span>\n",
       "<span style=\"color: #008080; text-decoration-color: #008080; font-weight: bold\">5</span>                    <span style=\"color: #008080; text-decoration-color: #008080; font-weight: bold\">59</span>            <span style=\"color: #008080; text-decoration-color: #008080; font-weight: bold\">75</span>         <span style=\"color: #008080; text-decoration-color: #008080; font-weight: bold\">44.029851</span>            <span style=\"color: #008080; text-decoration-color: #008080; font-weight: bold\">55.970149</span>\n",
       "<span style=\"color: #008080; text-decoration-color: #008080; font-weight: bold\">6</span>                    <span style=\"color: #008080; text-decoration-color: #008080; font-weight: bold\">61</span>            <span style=\"color: #008080; text-decoration-color: #008080; font-weight: bold\">73</span>         <span style=\"color: #008080; text-decoration-color: #008080; font-weight: bold\">45.522388</span>            <span style=\"color: #008080; text-decoration-color: #008080; font-weight: bold\">54.477612</span>\n",
       "<span style=\"color: #008080; text-decoration-color: #008080; font-weight: bold\">7</span>                    <span style=\"color: #008080; text-decoration-color: #008080; font-weight: bold\">65</span>            <span style=\"color: #008080; text-decoration-color: #008080; font-weight: bold\">69</span>         <span style=\"color: #008080; text-decoration-color: #008080; font-weight: bold\">48.507463</span>            <span style=\"color: #008080; text-decoration-color: #008080; font-weight: bold\">51.492537</span>\n",
       "<span style=\"color: #008080; text-decoration-color: #008080; font-weight: bold\">8</span>                    <span style=\"color: #008080; text-decoration-color: #008080; font-weight: bold\">53</span>            <span style=\"color: #008080; text-decoration-color: #008080; font-weight: bold\">81</span>         <span style=\"color: #008080; text-decoration-color: #008080; font-weight: bold\">39.552239</span>            <span style=\"color: #008080; text-decoration-color: #008080; font-weight: bold\">60.447761</span>\n",
       "<span style=\"color: #008080; text-decoration-color: #008080; font-weight: bold\">9</span>                    <span style=\"color: #008080; text-decoration-color: #008080; font-weight: bold\">60</span>            <span style=\"color: #008080; text-decoration-color: #008080; font-weight: bold\">74</span>         <span style=\"color: #008080; text-decoration-color: #008080; font-weight: bold\">44.776119</span>            <span style=\"color: #008080; text-decoration-color: #008080; font-weight: bold\">55.223881</span>\n",
       "<span style=\"color: #008080; text-decoration-color: #008080; font-weight: bold\">10</span>                   <span style=\"color: #008080; text-decoration-color: #008080; font-weight: bold\">60</span>            <span style=\"color: #008080; text-decoration-color: #008080; font-weight: bold\">74</span>         <span style=\"color: #008080; text-decoration-color: #008080; font-weight: bold\">44.776119</span>            <span style=\"color: #008080; text-decoration-color: #008080; font-weight: bold\">55.223881</span>\n",
       "<span style=\"color: #008080; text-decoration-color: #008080; font-weight: bold\">11</span>                   <span style=\"color: #008080; text-decoration-color: #008080; font-weight: bold\">52</span>            <span style=\"color: #008080; text-decoration-color: #008080; font-weight: bold\">82</span>         <span style=\"color: #008080; text-decoration-color: #008080; font-weight: bold\">38.805970</span>            <span style=\"color: #008080; text-decoration-color: #008080; font-weight: bold\">61.194030</span>\n",
       "<span style=\"color: #008080; text-decoration-color: #008080; font-weight: bold\">12</span>                   <span style=\"color: #008080; text-decoration-color: #008080; font-weight: bold\">39</span>            <span style=\"color: #008080; text-decoration-color: #008080; font-weight: bold\">95</span>         <span style=\"color: #008080; text-decoration-color: #008080; font-weight: bold\">29.104478</span>            <span style=\"color: #008080; text-decoration-color: #008080; font-weight: bold\">70.895522</span>\n",
       "<span style=\"color: #008080; text-decoration-color: #008080; font-weight: bold\">13</span>                    <span style=\"color: #008080; text-decoration-color: #008080; font-weight: bold\">1</span>             <span style=\"color: #008080; text-decoration-color: #008080; font-weight: bold\">9</span>         <span style=\"color: #008080; text-decoration-color: #008080; font-weight: bold\">10.000000</span>            <span style=\"color: #008080; text-decoration-color: #008080; font-weight: bold\">90.000000</span>\n",
       "</pre>\n"
      ],
      "text/plain": [
       "              num_of_na  num_of_no_na  percentage_of_na  percentage_of_no_na\n",
       "span_counter                                                                \n",
       "\u001b[1;36m0\u001b[0m                    \u001b[1;36m40\u001b[0m            \u001b[1;36m94\u001b[0m         \u001b[1;36m29.850746\u001b[0m            \u001b[1;36m70.149254\u001b[0m\n",
       "\u001b[1;36m1\u001b[0m                    \u001b[1;36m39\u001b[0m            \u001b[1;36m95\u001b[0m         \u001b[1;36m29.104478\u001b[0m            \u001b[1;36m70.895522\u001b[0m\n",
       "\u001b[1;36m2\u001b[0m                    \u001b[1;36m62\u001b[0m            \u001b[1;36m72\u001b[0m         \u001b[1;36m46.268657\u001b[0m            \u001b[1;36m53.731343\u001b[0m\n",
       "\u001b[1;36m3\u001b[0m                    \u001b[1;36m64\u001b[0m            \u001b[1;36m70\u001b[0m         \u001b[1;36m47.761194\u001b[0m            \u001b[1;36m52.238806\u001b[0m\n",
       "\u001b[1;36m4\u001b[0m                    \u001b[1;36m61\u001b[0m            \u001b[1;36m73\u001b[0m         \u001b[1;36m45.522388\u001b[0m            \u001b[1;36m54.477612\u001b[0m\n",
       "\u001b[1;36m5\u001b[0m                    \u001b[1;36m59\u001b[0m            \u001b[1;36m75\u001b[0m         \u001b[1;36m44.029851\u001b[0m            \u001b[1;36m55.970149\u001b[0m\n",
       "\u001b[1;36m6\u001b[0m                    \u001b[1;36m61\u001b[0m            \u001b[1;36m73\u001b[0m         \u001b[1;36m45.522388\u001b[0m            \u001b[1;36m54.477612\u001b[0m\n",
       "\u001b[1;36m7\u001b[0m                    \u001b[1;36m65\u001b[0m            \u001b[1;36m69\u001b[0m         \u001b[1;36m48.507463\u001b[0m            \u001b[1;36m51.492537\u001b[0m\n",
       "\u001b[1;36m8\u001b[0m                    \u001b[1;36m53\u001b[0m            \u001b[1;36m81\u001b[0m         \u001b[1;36m39.552239\u001b[0m            \u001b[1;36m60.447761\u001b[0m\n",
       "\u001b[1;36m9\u001b[0m                    \u001b[1;36m60\u001b[0m            \u001b[1;36m74\u001b[0m         \u001b[1;36m44.776119\u001b[0m            \u001b[1;36m55.223881\u001b[0m\n",
       "\u001b[1;36m10\u001b[0m                   \u001b[1;36m60\u001b[0m            \u001b[1;36m74\u001b[0m         \u001b[1;36m44.776119\u001b[0m            \u001b[1;36m55.223881\u001b[0m\n",
       "\u001b[1;36m11\u001b[0m                   \u001b[1;36m52\u001b[0m            \u001b[1;36m82\u001b[0m         \u001b[1;36m38.805970\u001b[0m            \u001b[1;36m61.194030\u001b[0m\n",
       "\u001b[1;36m12\u001b[0m                   \u001b[1;36m39\u001b[0m            \u001b[1;36m95\u001b[0m         \u001b[1;36m29.104478\u001b[0m            \u001b[1;36m70.895522\u001b[0m\n",
       "\u001b[1;36m13\u001b[0m                    \u001b[1;36m1\u001b[0m             \u001b[1;36m9\u001b[0m         \u001b[1;36m10.000000\u001b[0m            \u001b[1;36m90.000000\u001b[0m\n"
      ]
     },
     "metadata": {},
     "output_type": "display_data"
    },
    {
     "data": {
      "text/html": [
       "<pre style=\"white-space:pre;overflow-x:auto;line-height:normal;font-family:Menlo,'DejaVu Sans Mono',consolas,'Courier New',monospace\">============================================================\n",
       "</pre>\n"
      ],
      "text/plain": [
       "============================================================\n"
      ]
     },
     "metadata": {},
     "output_type": "display_data"
    },
    {
     "data": {
      "text/html": [
       "<pre style=\"white-space:pre;overflow-x:auto;line-height:normal;font-family:Menlo,'DejaVu Sans Mono',consolas,'Courier New',monospace\"><span style=\"text-decoration: underline\">Missing variable intervals for </span><span style=\"color: #af00ff; text-decoration-color: #af00ff; text-decoration: underline\">screenwriter</span>\n",
       "\n",
       "</pre>\n"
      ],
      "text/plain": [
       "\u001b[4mMissing variable intervals for \u001b[0m\u001b[4;38;5;129mscreenwriter\u001b[0m\n",
       "\n"
      ]
     },
     "metadata": {},
     "output_type": "display_data"
    },
    {
     "data": {
      "text/html": [
       "<pre style=\"white-space:pre;overflow-x:auto;line-height:normal;font-family:Menlo,'DejaVu Sans Mono',consolas,'Courier New',monospace\">              num_of_na  num_of_no_na  percentage_of_na  percentage_of_no_na\n",
       "span_counter                                                                \n",
       "<span style=\"color: #008080; text-decoration-color: #008080; font-weight: bold\">0</span>                    <span style=\"color: #008080; text-decoration-color: #008080; font-weight: bold\">53</span>            <span style=\"color: #008080; text-decoration-color: #008080; font-weight: bold\">81</span>         <span style=\"color: #008080; text-decoration-color: #008080; font-weight: bold\">39.552239</span>            <span style=\"color: #008080; text-decoration-color: #008080; font-weight: bold\">60.447761</span>\n",
       "<span style=\"color: #008080; text-decoration-color: #008080; font-weight: bold\">1</span>                    <span style=\"color: #008080; text-decoration-color: #008080; font-weight: bold\">48</span>            <span style=\"color: #008080; text-decoration-color: #008080; font-weight: bold\">86</span>         <span style=\"color: #008080; text-decoration-color: #008080; font-weight: bold\">35.820896</span>            <span style=\"color: #008080; text-decoration-color: #008080; font-weight: bold\">64.179104</span>\n",
       "<span style=\"color: #008080; text-decoration-color: #008080; font-weight: bold\">2</span>                    <span style=\"color: #008080; text-decoration-color: #008080; font-weight: bold\">64</span>            <span style=\"color: #008080; text-decoration-color: #008080; font-weight: bold\">70</span>         <span style=\"color: #008080; text-decoration-color: #008080; font-weight: bold\">47.761194</span>            <span style=\"color: #008080; text-decoration-color: #008080; font-weight: bold\">52.238806</span>\n",
       "<span style=\"color: #008080; text-decoration-color: #008080; font-weight: bold\">3</span>                    <span style=\"color: #008080; text-decoration-color: #008080; font-weight: bold\">75</span>            <span style=\"color: #008080; text-decoration-color: #008080; font-weight: bold\">59</span>         <span style=\"color: #008080; text-decoration-color: #008080; font-weight: bold\">55.970149</span>            <span style=\"color: #008080; text-decoration-color: #008080; font-weight: bold\">44.029851</span>\n",
       "<span style=\"color: #008080; text-decoration-color: #008080; font-weight: bold\">4</span>                    <span style=\"color: #008080; text-decoration-color: #008080; font-weight: bold\">71</span>            <span style=\"color: #008080; text-decoration-color: #008080; font-weight: bold\">63</span>         <span style=\"color: #008080; text-decoration-color: #008080; font-weight: bold\">52.985075</span>            <span style=\"color: #008080; text-decoration-color: #008080; font-weight: bold\">47.014925</span>\n",
       "<span style=\"color: #008080; text-decoration-color: #008080; font-weight: bold\">5</span>                    <span style=\"color: #008080; text-decoration-color: #008080; font-weight: bold\">60</span>            <span style=\"color: #008080; text-decoration-color: #008080; font-weight: bold\">74</span>         <span style=\"color: #008080; text-decoration-color: #008080; font-weight: bold\">44.776119</span>            <span style=\"color: #008080; text-decoration-color: #008080; font-weight: bold\">55.223881</span>\n",
       "<span style=\"color: #008080; text-decoration-color: #008080; font-weight: bold\">6</span>                    <span style=\"color: #008080; text-decoration-color: #008080; font-weight: bold\">62</span>            <span style=\"color: #008080; text-decoration-color: #008080; font-weight: bold\">72</span>         <span style=\"color: #008080; text-decoration-color: #008080; font-weight: bold\">46.268657</span>            <span style=\"color: #008080; text-decoration-color: #008080; font-weight: bold\">53.731343</span>\n",
       "<span style=\"color: #008080; text-decoration-color: #008080; font-weight: bold\">7</span>                    <span style=\"color: #008080; text-decoration-color: #008080; font-weight: bold\">65</span>            <span style=\"color: #008080; text-decoration-color: #008080; font-weight: bold\">69</span>         <span style=\"color: #008080; text-decoration-color: #008080; font-weight: bold\">48.507463</span>            <span style=\"color: #008080; text-decoration-color: #008080; font-weight: bold\">51.492537</span>\n",
       "<span style=\"color: #008080; text-decoration-color: #008080; font-weight: bold\">8</span>                    <span style=\"color: #008080; text-decoration-color: #008080; font-weight: bold\">55</span>            <span style=\"color: #008080; text-decoration-color: #008080; font-weight: bold\">79</span>         <span style=\"color: #008080; text-decoration-color: #008080; font-weight: bold\">41.044776</span>            <span style=\"color: #008080; text-decoration-color: #008080; font-weight: bold\">58.955224</span>\n",
       "<span style=\"color: #008080; text-decoration-color: #008080; font-weight: bold\">9</span>                    <span style=\"color: #008080; text-decoration-color: #008080; font-weight: bold\">66</span>            <span style=\"color: #008080; text-decoration-color: #008080; font-weight: bold\">68</span>         <span style=\"color: #008080; text-decoration-color: #008080; font-weight: bold\">49.253731</span>            <span style=\"color: #008080; text-decoration-color: #008080; font-weight: bold\">50.746269</span>\n",
       "<span style=\"color: #008080; text-decoration-color: #008080; font-weight: bold\">10</span>                   <span style=\"color: #008080; text-decoration-color: #008080; font-weight: bold\">63</span>            <span style=\"color: #008080; text-decoration-color: #008080; font-weight: bold\">71</span>         <span style=\"color: #008080; text-decoration-color: #008080; font-weight: bold\">47.014925</span>            <span style=\"color: #008080; text-decoration-color: #008080; font-weight: bold\">52.985075</span>\n",
       "<span style=\"color: #008080; text-decoration-color: #008080; font-weight: bold\">11</span>                   <span style=\"color: #008080; text-decoration-color: #008080; font-weight: bold\">57</span>            <span style=\"color: #008080; text-decoration-color: #008080; font-weight: bold\">77</span>         <span style=\"color: #008080; text-decoration-color: #008080; font-weight: bold\">42.537313</span>            <span style=\"color: #008080; text-decoration-color: #008080; font-weight: bold\">57.462687</span>\n",
       "<span style=\"color: #008080; text-decoration-color: #008080; font-weight: bold\">12</span>                   <span style=\"color: #008080; text-decoration-color: #008080; font-weight: bold\">53</span>            <span style=\"color: #008080; text-decoration-color: #008080; font-weight: bold\">81</span>         <span style=\"color: #008080; text-decoration-color: #008080; font-weight: bold\">39.552239</span>            <span style=\"color: #008080; text-decoration-color: #008080; font-weight: bold\">60.447761</span>\n",
       "<span style=\"color: #008080; text-decoration-color: #008080; font-weight: bold\">13</span>                    <span style=\"color: #008080; text-decoration-color: #008080; font-weight: bold\">1</span>             <span style=\"color: #008080; text-decoration-color: #008080; font-weight: bold\">9</span>         <span style=\"color: #008080; text-decoration-color: #008080; font-weight: bold\">10.000000</span>            <span style=\"color: #008080; text-decoration-color: #008080; font-weight: bold\">90.000000</span>\n",
       "</pre>\n"
      ],
      "text/plain": [
       "              num_of_na  num_of_no_na  percentage_of_na  percentage_of_no_na\n",
       "span_counter                                                                \n",
       "\u001b[1;36m0\u001b[0m                    \u001b[1;36m53\u001b[0m            \u001b[1;36m81\u001b[0m         \u001b[1;36m39.552239\u001b[0m            \u001b[1;36m60.447761\u001b[0m\n",
       "\u001b[1;36m1\u001b[0m                    \u001b[1;36m48\u001b[0m            \u001b[1;36m86\u001b[0m         \u001b[1;36m35.820896\u001b[0m            \u001b[1;36m64.179104\u001b[0m\n",
       "\u001b[1;36m2\u001b[0m                    \u001b[1;36m64\u001b[0m            \u001b[1;36m70\u001b[0m         \u001b[1;36m47.761194\u001b[0m            \u001b[1;36m52.238806\u001b[0m\n",
       "\u001b[1;36m3\u001b[0m                    \u001b[1;36m75\u001b[0m            \u001b[1;36m59\u001b[0m         \u001b[1;36m55.970149\u001b[0m            \u001b[1;36m44.029851\u001b[0m\n",
       "\u001b[1;36m4\u001b[0m                    \u001b[1;36m71\u001b[0m            \u001b[1;36m63\u001b[0m         \u001b[1;36m52.985075\u001b[0m            \u001b[1;36m47.014925\u001b[0m\n",
       "\u001b[1;36m5\u001b[0m                    \u001b[1;36m60\u001b[0m            \u001b[1;36m74\u001b[0m         \u001b[1;36m44.776119\u001b[0m            \u001b[1;36m55.223881\u001b[0m\n",
       "\u001b[1;36m6\u001b[0m                    \u001b[1;36m62\u001b[0m            \u001b[1;36m72\u001b[0m         \u001b[1;36m46.268657\u001b[0m            \u001b[1;36m53.731343\u001b[0m\n",
       "\u001b[1;36m7\u001b[0m                    \u001b[1;36m65\u001b[0m            \u001b[1;36m69\u001b[0m         \u001b[1;36m48.507463\u001b[0m            \u001b[1;36m51.492537\u001b[0m\n",
       "\u001b[1;36m8\u001b[0m                    \u001b[1;36m55\u001b[0m            \u001b[1;36m79\u001b[0m         \u001b[1;36m41.044776\u001b[0m            \u001b[1;36m58.955224\u001b[0m\n",
       "\u001b[1;36m9\u001b[0m                    \u001b[1;36m66\u001b[0m            \u001b[1;36m68\u001b[0m         \u001b[1;36m49.253731\u001b[0m            \u001b[1;36m50.746269\u001b[0m\n",
       "\u001b[1;36m10\u001b[0m                   \u001b[1;36m63\u001b[0m            \u001b[1;36m71\u001b[0m         \u001b[1;36m47.014925\u001b[0m            \u001b[1;36m52.985075\u001b[0m\n",
       "\u001b[1;36m11\u001b[0m                   \u001b[1;36m57\u001b[0m            \u001b[1;36m77\u001b[0m         \u001b[1;36m42.537313\u001b[0m            \u001b[1;36m57.462687\u001b[0m\n",
       "\u001b[1;36m12\u001b[0m                   \u001b[1;36m53\u001b[0m            \u001b[1;36m81\u001b[0m         \u001b[1;36m39.552239\u001b[0m            \u001b[1;36m60.447761\u001b[0m\n",
       "\u001b[1;36m13\u001b[0m                    \u001b[1;36m1\u001b[0m             \u001b[1;36m9\u001b[0m         \u001b[1;36m10.000000\u001b[0m            \u001b[1;36m90.000000\u001b[0m\n"
      ]
     },
     "metadata": {},
     "output_type": "display_data"
    },
    {
     "data": {
      "text/html": [
       "<pre style=\"white-space:pre;overflow-x:auto;line-height:normal;font-family:Menlo,'DejaVu Sans Mono',consolas,'Courier New',monospace\">============================================================\n",
       "</pre>\n"
      ],
      "text/plain": [
       "============================================================\n"
      ]
     },
     "metadata": {},
     "output_type": "display_data"
    },
    {
     "data": {
      "text/html": [
       "<pre style=\"white-space:pre;overflow-x:auto;line-height:normal;font-family:Menlo,'DejaVu Sans Mono',consolas,'Courier New',monospace\"><span style=\"text-decoration: underline\">Missing variable intervals for </span><span style=\"color: #af00ff; text-decoration-color: #af00ff; text-decoration: underline\">duration</span>\n",
       "\n",
       "</pre>\n"
      ],
      "text/plain": [
       "\u001b[4mMissing variable intervals for \u001b[0m\u001b[4;38;5;129mduration\u001b[0m\n",
       "\n"
      ]
     },
     "metadata": {},
     "output_type": "display_data"
    },
    {
     "data": {
      "text/html": [
       "<pre style=\"white-space:pre;overflow-x:auto;line-height:normal;font-family:Menlo,'DejaVu Sans Mono',consolas,'Courier New',monospace\">              num_of_na  num_of_no_na  percentage_of_na  percentage_of_no_na\n",
       "span_counter                                                                \n",
       "<span style=\"color: #008080; text-decoration-color: #008080; font-weight: bold\">0</span>                     <span style=\"color: #008080; text-decoration-color: #008080; font-weight: bold\">3</span>           <span style=\"color: #008080; text-decoration-color: #008080; font-weight: bold\">131</span>          <span style=\"color: #008080; text-decoration-color: #008080; font-weight: bold\">2.238806</span>            <span style=\"color: #008080; text-decoration-color: #008080; font-weight: bold\">97.761194</span>\n",
       "<span style=\"color: #008080; text-decoration-color: #008080; font-weight: bold\">1</span>                     <span style=\"color: #008080; text-decoration-color: #008080; font-weight: bold\">1</span>           <span style=\"color: #008080; text-decoration-color: #008080; font-weight: bold\">133</span>          <span style=\"color: #008080; text-decoration-color: #008080; font-weight: bold\">0.746269</span>            <span style=\"color: #008080; text-decoration-color: #008080; font-weight: bold\">99.253731</span>\n",
       "<span style=\"color: #008080; text-decoration-color: #008080; font-weight: bold\">2</span>                     <span style=\"color: #008080; text-decoration-color: #008080; font-weight: bold\">0</span>           <span style=\"color: #008080; text-decoration-color: #008080; font-weight: bold\">134</span>          <span style=\"color: #008080; text-decoration-color: #008080; font-weight: bold\">0.000000</span>           <span style=\"color: #008080; text-decoration-color: #008080; font-weight: bold\">100.000000</span>\n",
       "<span style=\"color: #008080; text-decoration-color: #008080; font-weight: bold\">3</span>                     <span style=\"color: #008080; text-decoration-color: #008080; font-weight: bold\">2</span>           <span style=\"color: #008080; text-decoration-color: #008080; font-weight: bold\">132</span>          <span style=\"color: #008080; text-decoration-color: #008080; font-weight: bold\">1.492537</span>            <span style=\"color: #008080; text-decoration-color: #008080; font-weight: bold\">98.507463</span>\n",
       "<span style=\"color: #008080; text-decoration-color: #008080; font-weight: bold\">4</span>                     <span style=\"color: #008080; text-decoration-color: #008080; font-weight: bold\">1</span>           <span style=\"color: #008080; text-decoration-color: #008080; font-weight: bold\">133</span>          <span style=\"color: #008080; text-decoration-color: #008080; font-weight: bold\">0.746269</span>            <span style=\"color: #008080; text-decoration-color: #008080; font-weight: bold\">99.253731</span>\n",
       "<span style=\"color: #008080; text-decoration-color: #008080; font-weight: bold\">5</span>                     <span style=\"color: #008080; text-decoration-color: #008080; font-weight: bold\">2</span>           <span style=\"color: #008080; text-decoration-color: #008080; font-weight: bold\">132</span>          <span style=\"color: #008080; text-decoration-color: #008080; font-weight: bold\">1.492537</span>            <span style=\"color: #008080; text-decoration-color: #008080; font-weight: bold\">98.507463</span>\n",
       "<span style=\"color: #008080; text-decoration-color: #008080; font-weight: bold\">6</span>                     <span style=\"color: #008080; text-decoration-color: #008080; font-weight: bold\">0</span>           <span style=\"color: #008080; text-decoration-color: #008080; font-weight: bold\">134</span>          <span style=\"color: #008080; text-decoration-color: #008080; font-weight: bold\">0.000000</span>           <span style=\"color: #008080; text-decoration-color: #008080; font-weight: bold\">100.000000</span>\n",
       "<span style=\"color: #008080; text-decoration-color: #008080; font-weight: bold\">7</span>                     <span style=\"color: #008080; text-decoration-color: #008080; font-weight: bold\">0</span>           <span style=\"color: #008080; text-decoration-color: #008080; font-weight: bold\">134</span>          <span style=\"color: #008080; text-decoration-color: #008080; font-weight: bold\">0.000000</span>           <span style=\"color: #008080; text-decoration-color: #008080; font-weight: bold\">100.000000</span>\n",
       "<span style=\"color: #008080; text-decoration-color: #008080; font-weight: bold\">8</span>                     <span style=\"color: #008080; text-decoration-color: #008080; font-weight: bold\">0</span>           <span style=\"color: #008080; text-decoration-color: #008080; font-weight: bold\">134</span>          <span style=\"color: #008080; text-decoration-color: #008080; font-weight: bold\">0.000000</span>           <span style=\"color: #008080; text-decoration-color: #008080; font-weight: bold\">100.000000</span>\n",
       "<span style=\"color: #008080; text-decoration-color: #008080; font-weight: bold\">9</span>                     <span style=\"color: #008080; text-decoration-color: #008080; font-weight: bold\">4</span>           <span style=\"color: #008080; text-decoration-color: #008080; font-weight: bold\">130</span>          <span style=\"color: #008080; text-decoration-color: #008080; font-weight: bold\">2.985075</span>            <span style=\"color: #008080; text-decoration-color: #008080; font-weight: bold\">97.014925</span>\n",
       "<span style=\"color: #008080; text-decoration-color: #008080; font-weight: bold\">10</span>                    <span style=\"color: #008080; text-decoration-color: #008080; font-weight: bold\">2</span>           <span style=\"color: #008080; text-decoration-color: #008080; font-weight: bold\">132</span>          <span style=\"color: #008080; text-decoration-color: #008080; font-weight: bold\">1.492537</span>            <span style=\"color: #008080; text-decoration-color: #008080; font-weight: bold\">98.507463</span>\n",
       "<span style=\"color: #008080; text-decoration-color: #008080; font-weight: bold\">11</span>                    <span style=\"color: #008080; text-decoration-color: #008080; font-weight: bold\">5</span>           <span style=\"color: #008080; text-decoration-color: #008080; font-weight: bold\">129</span>          <span style=\"color: #008080; text-decoration-color: #008080; font-weight: bold\">3.731343</span>            <span style=\"color: #008080; text-decoration-color: #008080; font-weight: bold\">96.268657</span>\n",
       "<span style=\"color: #008080; text-decoration-color: #008080; font-weight: bold\">12</span>                    <span style=\"color: #008080; text-decoration-color: #008080; font-weight: bold\">3</span>           <span style=\"color: #008080; text-decoration-color: #008080; font-weight: bold\">131</span>          <span style=\"color: #008080; text-decoration-color: #008080; font-weight: bold\">2.238806</span>            <span style=\"color: #008080; text-decoration-color: #008080; font-weight: bold\">97.761194</span>\n",
       "<span style=\"color: #008080; text-decoration-color: #008080; font-weight: bold\">13</span>                    <span style=\"color: #008080; text-decoration-color: #008080; font-weight: bold\">1</span>             <span style=\"color: #008080; text-decoration-color: #008080; font-weight: bold\">9</span>         <span style=\"color: #008080; text-decoration-color: #008080; font-weight: bold\">10.000000</span>            <span style=\"color: #008080; text-decoration-color: #008080; font-weight: bold\">90.000000</span>\n",
       "</pre>\n"
      ],
      "text/plain": [
       "              num_of_na  num_of_no_na  percentage_of_na  percentage_of_no_na\n",
       "span_counter                                                                \n",
       "\u001b[1;36m0\u001b[0m                     \u001b[1;36m3\u001b[0m           \u001b[1;36m131\u001b[0m          \u001b[1;36m2.238806\u001b[0m            \u001b[1;36m97.761194\u001b[0m\n",
       "\u001b[1;36m1\u001b[0m                     \u001b[1;36m1\u001b[0m           \u001b[1;36m133\u001b[0m          \u001b[1;36m0.746269\u001b[0m            \u001b[1;36m99.253731\u001b[0m\n",
       "\u001b[1;36m2\u001b[0m                     \u001b[1;36m0\u001b[0m           \u001b[1;36m134\u001b[0m          \u001b[1;36m0.000000\u001b[0m           \u001b[1;36m100.000000\u001b[0m\n",
       "\u001b[1;36m3\u001b[0m                     \u001b[1;36m2\u001b[0m           \u001b[1;36m132\u001b[0m          \u001b[1;36m1.492537\u001b[0m            \u001b[1;36m98.507463\u001b[0m\n",
       "\u001b[1;36m4\u001b[0m                     \u001b[1;36m1\u001b[0m           \u001b[1;36m133\u001b[0m          \u001b[1;36m0.746269\u001b[0m            \u001b[1;36m99.253731\u001b[0m\n",
       "\u001b[1;36m5\u001b[0m                     \u001b[1;36m2\u001b[0m           \u001b[1;36m132\u001b[0m          \u001b[1;36m1.492537\u001b[0m            \u001b[1;36m98.507463\u001b[0m\n",
       "\u001b[1;36m6\u001b[0m                     \u001b[1;36m0\u001b[0m           \u001b[1;36m134\u001b[0m          \u001b[1;36m0.000000\u001b[0m           \u001b[1;36m100.000000\u001b[0m\n",
       "\u001b[1;36m7\u001b[0m                     \u001b[1;36m0\u001b[0m           \u001b[1;36m134\u001b[0m          \u001b[1;36m0.000000\u001b[0m           \u001b[1;36m100.000000\u001b[0m\n",
       "\u001b[1;36m8\u001b[0m                     \u001b[1;36m0\u001b[0m           \u001b[1;36m134\u001b[0m          \u001b[1;36m0.000000\u001b[0m           \u001b[1;36m100.000000\u001b[0m\n",
       "\u001b[1;36m9\u001b[0m                     \u001b[1;36m4\u001b[0m           \u001b[1;36m130\u001b[0m          \u001b[1;36m2.985075\u001b[0m            \u001b[1;36m97.014925\u001b[0m\n",
       "\u001b[1;36m10\u001b[0m                    \u001b[1;36m2\u001b[0m           \u001b[1;36m132\u001b[0m          \u001b[1;36m1.492537\u001b[0m            \u001b[1;36m98.507463\u001b[0m\n",
       "\u001b[1;36m11\u001b[0m                    \u001b[1;36m5\u001b[0m           \u001b[1;36m129\u001b[0m          \u001b[1;36m3.731343\u001b[0m            \u001b[1;36m96.268657\u001b[0m\n",
       "\u001b[1;36m12\u001b[0m                    \u001b[1;36m3\u001b[0m           \u001b[1;36m131\u001b[0m          \u001b[1;36m2.238806\u001b[0m            \u001b[1;36m97.761194\u001b[0m\n",
       "\u001b[1;36m13\u001b[0m                    \u001b[1;36m1\u001b[0m             \u001b[1;36m9\u001b[0m         \u001b[1;36m10.000000\u001b[0m            \u001b[1;36m90.000000\u001b[0m\n"
      ]
     },
     "metadata": {},
     "output_type": "display_data"
    },
    {
     "data": {
      "text/html": [
       "<pre style=\"white-space:pre;overflow-x:auto;line-height:normal;font-family:Menlo,'DejaVu Sans Mono',consolas,'Courier New',monospace\">============================================================\n",
       "</pre>\n"
      ],
      "text/plain": [
       "============================================================\n"
      ]
     },
     "metadata": {},
     "output_type": "display_data"
    },
    {
     "data": {
      "text/html": [
       "<pre style=\"white-space:pre;overflow-x:auto;line-height:normal;font-family:Menlo,'DejaVu Sans Mono',consolas,'Courier New',monospace\"><span style=\"text-decoration: underline\">Missing variable intervals for </span><span style=\"color: #af00ff; text-decoration-color: #af00ff; text-decoration: underline\">aired_on</span>\n",
       "\n",
       "</pre>\n"
      ],
      "text/plain": [
       "\u001b[4mMissing variable intervals for \u001b[0m\u001b[4;38;5;129maired_on\u001b[0m\n",
       "\n"
      ]
     },
     "metadata": {},
     "output_type": "display_data"
    },
    {
     "data": {
      "text/html": [
       "<pre style=\"white-space:pre;overflow-x:auto;line-height:normal;font-family:Menlo,'DejaVu Sans Mono',consolas,'Courier New',monospace\">              num_of_na  num_of_no_na  percentage_of_na  percentage_of_no_na\n",
       "span_counter                                                                \n",
       "<span style=\"color: #008080; text-decoration-color: #008080; font-weight: bold\">0</span>                     <span style=\"color: #008080; text-decoration-color: #008080; font-weight: bold\">9</span>           <span style=\"color: #008080; text-decoration-color: #008080; font-weight: bold\">125</span>          <span style=\"color: #008080; text-decoration-color: #008080; font-weight: bold\">6.716418</span>            <span style=\"color: #008080; text-decoration-color: #008080; font-weight: bold\">93.283582</span>\n",
       "<span style=\"color: #008080; text-decoration-color: #008080; font-weight: bold\">1</span>                    <span style=\"color: #008080; text-decoration-color: #008080; font-weight: bold\">12</span>           <span style=\"color: #008080; text-decoration-color: #008080; font-weight: bold\">122</span>          <span style=\"color: #008080; text-decoration-color: #008080; font-weight: bold\">8.955224</span>            <span style=\"color: #008080; text-decoration-color: #008080; font-weight: bold\">91.044776</span>\n",
       "<span style=\"color: #008080; text-decoration-color: #008080; font-weight: bold\">2</span>                     <span style=\"color: #008080; text-decoration-color: #008080; font-weight: bold\">6</span>           <span style=\"color: #008080; text-decoration-color: #008080; font-weight: bold\">128</span>          <span style=\"color: #008080; text-decoration-color: #008080; font-weight: bold\">4.477612</span>            <span style=\"color: #008080; text-decoration-color: #008080; font-weight: bold\">95.522388</span>\n",
       "<span style=\"color: #008080; text-decoration-color: #008080; font-weight: bold\">3</span>                    <span style=\"color: #008080; text-decoration-color: #008080; font-weight: bold\">21</span>           <span style=\"color: #008080; text-decoration-color: #008080; font-weight: bold\">113</span>         <span style=\"color: #008080; text-decoration-color: #008080; font-weight: bold\">15.671642</span>            <span style=\"color: #008080; text-decoration-color: #008080; font-weight: bold\">84.328358</span>\n",
       "<span style=\"color: #008080; text-decoration-color: #008080; font-weight: bold\">4</span>                    <span style=\"color: #008080; text-decoration-color: #008080; font-weight: bold\">12</span>           <span style=\"color: #008080; text-decoration-color: #008080; font-weight: bold\">122</span>          <span style=\"color: #008080; text-decoration-color: #008080; font-weight: bold\">8.955224</span>            <span style=\"color: #008080; text-decoration-color: #008080; font-weight: bold\">91.044776</span>\n",
       "<span style=\"color: #008080; text-decoration-color: #008080; font-weight: bold\">5</span>                    <span style=\"color: #008080; text-decoration-color: #008080; font-weight: bold\">15</span>           <span style=\"color: #008080; text-decoration-color: #008080; font-weight: bold\">119</span>         <span style=\"color: #008080; text-decoration-color: #008080; font-weight: bold\">11.194030</span>            <span style=\"color: #008080; text-decoration-color: #008080; font-weight: bold\">88.805970</span>\n",
       "<span style=\"color: #008080; text-decoration-color: #008080; font-weight: bold\">6</span>                    <span style=\"color: #008080; text-decoration-color: #008080; font-weight: bold\">15</span>           <span style=\"color: #008080; text-decoration-color: #008080; font-weight: bold\">119</span>         <span style=\"color: #008080; text-decoration-color: #008080; font-weight: bold\">11.194030</span>            <span style=\"color: #008080; text-decoration-color: #008080; font-weight: bold\">88.805970</span>\n",
       "<span style=\"color: #008080; text-decoration-color: #008080; font-weight: bold\">7</span>                    <span style=\"color: #008080; text-decoration-color: #008080; font-weight: bold\">21</span>           <span style=\"color: #008080; text-decoration-color: #008080; font-weight: bold\">113</span>         <span style=\"color: #008080; text-decoration-color: #008080; font-weight: bold\">15.671642</span>            <span style=\"color: #008080; text-decoration-color: #008080; font-weight: bold\">84.328358</span>\n",
       "<span style=\"color: #008080; text-decoration-color: #008080; font-weight: bold\">8</span>                    <span style=\"color: #008080; text-decoration-color: #008080; font-weight: bold\">23</span>           <span style=\"color: #008080; text-decoration-color: #008080; font-weight: bold\">111</span>         <span style=\"color: #008080; text-decoration-color: #008080; font-weight: bold\">17.164179</span>            <span style=\"color: #008080; text-decoration-color: #008080; font-weight: bold\">82.835821</span>\n",
       "<span style=\"color: #008080; text-decoration-color: #008080; font-weight: bold\">9</span>                    <span style=\"color: #008080; text-decoration-color: #008080; font-weight: bold\">32</span>           <span style=\"color: #008080; text-decoration-color: #008080; font-weight: bold\">102</span>         <span style=\"color: #008080; text-decoration-color: #008080; font-weight: bold\">23.880597</span>            <span style=\"color: #008080; text-decoration-color: #008080; font-weight: bold\">76.119403</span>\n",
       "<span style=\"color: #008080; text-decoration-color: #008080; font-weight: bold\">10</span>                   <span style=\"color: #008080; text-decoration-color: #008080; font-weight: bold\">32</span>           <span style=\"color: #008080; text-decoration-color: #008080; font-weight: bold\">102</span>         <span style=\"color: #008080; text-decoration-color: #008080; font-weight: bold\">23.880597</span>            <span style=\"color: #008080; text-decoration-color: #008080; font-weight: bold\">76.119403</span>\n",
       "<span style=\"color: #008080; text-decoration-color: #008080; font-weight: bold\">11</span>                   <span style=\"color: #008080; text-decoration-color: #008080; font-weight: bold\">19</span>           <span style=\"color: #008080; text-decoration-color: #008080; font-weight: bold\">115</span>         <span style=\"color: #008080; text-decoration-color: #008080; font-weight: bold\">14.179104</span>            <span style=\"color: #008080; text-decoration-color: #008080; font-weight: bold\">85.820896</span>\n",
       "<span style=\"color: #008080; text-decoration-color: #008080; font-weight: bold\">12</span>                   <span style=\"color: #008080; text-decoration-color: #008080; font-weight: bold\">14</span>           <span style=\"color: #008080; text-decoration-color: #008080; font-weight: bold\">120</span>         <span style=\"color: #008080; text-decoration-color: #008080; font-weight: bold\">10.447761</span>            <span style=\"color: #008080; text-decoration-color: #008080; font-weight: bold\">89.552239</span>\n",
       "<span style=\"color: #008080; text-decoration-color: #008080; font-weight: bold\">13</span>                    <span style=\"color: #008080; text-decoration-color: #008080; font-weight: bold\">1</span>             <span style=\"color: #008080; text-decoration-color: #008080; font-weight: bold\">9</span>         <span style=\"color: #008080; text-decoration-color: #008080; font-weight: bold\">10.000000</span>            <span style=\"color: #008080; text-decoration-color: #008080; font-weight: bold\">90.000000</span>\n",
       "</pre>\n"
      ],
      "text/plain": [
       "              num_of_na  num_of_no_na  percentage_of_na  percentage_of_no_na\n",
       "span_counter                                                                \n",
       "\u001b[1;36m0\u001b[0m                     \u001b[1;36m9\u001b[0m           \u001b[1;36m125\u001b[0m          \u001b[1;36m6.716418\u001b[0m            \u001b[1;36m93.283582\u001b[0m\n",
       "\u001b[1;36m1\u001b[0m                    \u001b[1;36m12\u001b[0m           \u001b[1;36m122\u001b[0m          \u001b[1;36m8.955224\u001b[0m            \u001b[1;36m91.044776\u001b[0m\n",
       "\u001b[1;36m2\u001b[0m                     \u001b[1;36m6\u001b[0m           \u001b[1;36m128\u001b[0m          \u001b[1;36m4.477612\u001b[0m            \u001b[1;36m95.522388\u001b[0m\n",
       "\u001b[1;36m3\u001b[0m                    \u001b[1;36m21\u001b[0m           \u001b[1;36m113\u001b[0m         \u001b[1;36m15.671642\u001b[0m            \u001b[1;36m84.328358\u001b[0m\n",
       "\u001b[1;36m4\u001b[0m                    \u001b[1;36m12\u001b[0m           \u001b[1;36m122\u001b[0m          \u001b[1;36m8.955224\u001b[0m            \u001b[1;36m91.044776\u001b[0m\n",
       "\u001b[1;36m5\u001b[0m                    \u001b[1;36m15\u001b[0m           \u001b[1;36m119\u001b[0m         \u001b[1;36m11.194030\u001b[0m            \u001b[1;36m88.805970\u001b[0m\n",
       "\u001b[1;36m6\u001b[0m                    \u001b[1;36m15\u001b[0m           \u001b[1;36m119\u001b[0m         \u001b[1;36m11.194030\u001b[0m            \u001b[1;36m88.805970\u001b[0m\n",
       "\u001b[1;36m7\u001b[0m                    \u001b[1;36m21\u001b[0m           \u001b[1;36m113\u001b[0m         \u001b[1;36m15.671642\u001b[0m            \u001b[1;36m84.328358\u001b[0m\n",
       "\u001b[1;36m8\u001b[0m                    \u001b[1;36m23\u001b[0m           \u001b[1;36m111\u001b[0m         \u001b[1;36m17.164179\u001b[0m            \u001b[1;36m82.835821\u001b[0m\n",
       "\u001b[1;36m9\u001b[0m                    \u001b[1;36m32\u001b[0m           \u001b[1;36m102\u001b[0m         \u001b[1;36m23.880597\u001b[0m            \u001b[1;36m76.119403\u001b[0m\n",
       "\u001b[1;36m10\u001b[0m                   \u001b[1;36m32\u001b[0m           \u001b[1;36m102\u001b[0m         \u001b[1;36m23.880597\u001b[0m            \u001b[1;36m76.119403\u001b[0m\n",
       "\u001b[1;36m11\u001b[0m                   \u001b[1;36m19\u001b[0m           \u001b[1;36m115\u001b[0m         \u001b[1;36m14.179104\u001b[0m            \u001b[1;36m85.820896\u001b[0m\n",
       "\u001b[1;36m12\u001b[0m                   \u001b[1;36m14\u001b[0m           \u001b[1;36m120\u001b[0m         \u001b[1;36m10.447761\u001b[0m            \u001b[1;36m89.552239\u001b[0m\n",
       "\u001b[1;36m13\u001b[0m                    \u001b[1;36m1\u001b[0m             \u001b[1;36m9\u001b[0m         \u001b[1;36m10.000000\u001b[0m            \u001b[1;36m90.000000\u001b[0m\n"
      ]
     },
     "metadata": {},
     "output_type": "display_data"
    },
    {
     "data": {
      "text/html": [
       "<pre style=\"white-space:pre;overflow-x:auto;line-height:normal;font-family:Menlo,'DejaVu Sans Mono',consolas,'Courier New',monospace\">============================================================\n",
       "</pre>\n"
      ],
      "text/plain": [
       "============================================================\n"
      ]
     },
     "metadata": {},
     "output_type": "display_data"
    },
    {
     "data": {
      "text/html": [
       "<pre style=\"white-space:pre;overflow-x:auto;line-height:normal;font-family:Menlo,'DejaVu Sans Mono',consolas,'Courier New',monospace\"><span style=\"text-decoration: underline\">Missing variable intervals for </span><span style=\"color: #af00ff; text-decoration-color: #af00ff; text-decoration: underline\">org_net</span>\n",
       "\n",
       "</pre>\n"
      ],
      "text/plain": [
       "\u001b[4mMissing variable intervals for \u001b[0m\u001b[4;38;5;129morg_net\u001b[0m\n",
       "\n"
      ]
     },
     "metadata": {},
     "output_type": "display_data"
    },
    {
     "data": {
      "text/html": [
       "<pre style=\"white-space:pre;overflow-x:auto;line-height:normal;font-family:Menlo,'DejaVu Sans Mono',consolas,'Courier New',monospace\">              num_of_na  num_of_no_na  percentage_of_na  percentage_of_no_na\n",
       "span_counter                                                                \n",
       "<span style=\"color: #008080; text-decoration-color: #008080; font-weight: bold\">0</span>                    <span style=\"color: #008080; text-decoration-color: #008080; font-weight: bold\">50</span>            <span style=\"color: #008080; text-decoration-color: #008080; font-weight: bold\">84</span>         <span style=\"color: #008080; text-decoration-color: #008080; font-weight: bold\">37.313433</span>            <span style=\"color: #008080; text-decoration-color: #008080; font-weight: bold\">62.686567</span>\n",
       "<span style=\"color: #008080; text-decoration-color: #008080; font-weight: bold\">1</span>                    <span style=\"color: #008080; text-decoration-color: #008080; font-weight: bold\">44</span>            <span style=\"color: #008080; text-decoration-color: #008080; font-weight: bold\">90</span>         <span style=\"color: #008080; text-decoration-color: #008080; font-weight: bold\">32.835821</span>            <span style=\"color: #008080; text-decoration-color: #008080; font-weight: bold\">67.164179</span>\n",
       "<span style=\"color: #008080; text-decoration-color: #008080; font-weight: bold\">2</span>                    <span style=\"color: #008080; text-decoration-color: #008080; font-weight: bold\">47</span>            <span style=\"color: #008080; text-decoration-color: #008080; font-weight: bold\">87</span>         <span style=\"color: #008080; text-decoration-color: #008080; font-weight: bold\">35.074627</span>            <span style=\"color: #008080; text-decoration-color: #008080; font-weight: bold\">64.925373</span>\n",
       "<span style=\"color: #008080; text-decoration-color: #008080; font-weight: bold\">3</span>                    <span style=\"color: #008080; text-decoration-color: #008080; font-weight: bold\">53</span>            <span style=\"color: #008080; text-decoration-color: #008080; font-weight: bold\">81</span>         <span style=\"color: #008080; text-decoration-color: #008080; font-weight: bold\">39.552239</span>            <span style=\"color: #008080; text-decoration-color: #008080; font-weight: bold\">60.447761</span>\n",
       "<span style=\"color: #008080; text-decoration-color: #008080; font-weight: bold\">4</span>                    <span style=\"color: #008080; text-decoration-color: #008080; font-weight: bold\">42</span>            <span style=\"color: #008080; text-decoration-color: #008080; font-weight: bold\">92</span>         <span style=\"color: #008080; text-decoration-color: #008080; font-weight: bold\">31.343284</span>            <span style=\"color: #008080; text-decoration-color: #008080; font-weight: bold\">68.656716</span>\n",
       "<span style=\"color: #008080; text-decoration-color: #008080; font-weight: bold\">5</span>                    <span style=\"color: #008080; text-decoration-color: #008080; font-weight: bold\">33</span>           <span style=\"color: #008080; text-decoration-color: #008080; font-weight: bold\">101</span>         <span style=\"color: #008080; text-decoration-color: #008080; font-weight: bold\">24.626866</span>            <span style=\"color: #008080; text-decoration-color: #008080; font-weight: bold\">75.373134</span>\n",
       "<span style=\"color: #008080; text-decoration-color: #008080; font-weight: bold\">6</span>                    <span style=\"color: #008080; text-decoration-color: #008080; font-weight: bold\">24</span>           <span style=\"color: #008080; text-decoration-color: #008080; font-weight: bold\">110</span>         <span style=\"color: #008080; text-decoration-color: #008080; font-weight: bold\">17.910448</span>            <span style=\"color: #008080; text-decoration-color: #008080; font-weight: bold\">82.089552</span>\n",
       "<span style=\"color: #008080; text-decoration-color: #008080; font-weight: bold\">7</span>                    <span style=\"color: #008080; text-decoration-color: #008080; font-weight: bold\">32</span>           <span style=\"color: #008080; text-decoration-color: #008080; font-weight: bold\">102</span>         <span style=\"color: #008080; text-decoration-color: #008080; font-weight: bold\">23.880597</span>            <span style=\"color: #008080; text-decoration-color: #008080; font-weight: bold\">76.119403</span>\n",
       "<span style=\"color: #008080; text-decoration-color: #008080; font-weight: bold\">8</span>                    <span style=\"color: #008080; text-decoration-color: #008080; font-weight: bold\">18</span>           <span style=\"color: #008080; text-decoration-color: #008080; font-weight: bold\">116</span>         <span style=\"color: #008080; text-decoration-color: #008080; font-weight: bold\">13.432836</span>            <span style=\"color: #008080; text-decoration-color: #008080; font-weight: bold\">86.567164</span>\n",
       "<span style=\"color: #008080; text-decoration-color: #008080; font-weight: bold\">9</span>                    <span style=\"color: #008080; text-decoration-color: #008080; font-weight: bold\">23</span>           <span style=\"color: #008080; text-decoration-color: #008080; font-weight: bold\">111</span>         <span style=\"color: #008080; text-decoration-color: #008080; font-weight: bold\">17.164179</span>            <span style=\"color: #008080; text-decoration-color: #008080; font-weight: bold\">82.835821</span>\n",
       "<span style=\"color: #008080; text-decoration-color: #008080; font-weight: bold\">10</span>                   <span style=\"color: #008080; text-decoration-color: #008080; font-weight: bold\">22</span>           <span style=\"color: #008080; text-decoration-color: #008080; font-weight: bold\">112</span>         <span style=\"color: #008080; text-decoration-color: #008080; font-weight: bold\">16.417910</span>            <span style=\"color: #008080; text-decoration-color: #008080; font-weight: bold\">83.582090</span>\n",
       "<span style=\"color: #008080; text-decoration-color: #008080; font-weight: bold\">11</span>                   <span style=\"color: #008080; text-decoration-color: #008080; font-weight: bold\">14</span>           <span style=\"color: #008080; text-decoration-color: #008080; font-weight: bold\">120</span>         <span style=\"color: #008080; text-decoration-color: #008080; font-weight: bold\">10.447761</span>            <span style=\"color: #008080; text-decoration-color: #008080; font-weight: bold\">89.552239</span>\n",
       "<span style=\"color: #008080; text-decoration-color: #008080; font-weight: bold\">12</span>                    <span style=\"color: #008080; text-decoration-color: #008080; font-weight: bold\">5</span>           <span style=\"color: #008080; text-decoration-color: #008080; font-weight: bold\">129</span>          <span style=\"color: #008080; text-decoration-color: #008080; font-weight: bold\">3.731343</span>            <span style=\"color: #008080; text-decoration-color: #008080; font-weight: bold\">96.268657</span>\n",
       "<span style=\"color: #008080; text-decoration-color: #008080; font-weight: bold\">13</span>                    <span style=\"color: #008080; text-decoration-color: #008080; font-weight: bold\">1</span>             <span style=\"color: #008080; text-decoration-color: #008080; font-weight: bold\">9</span>         <span style=\"color: #008080; text-decoration-color: #008080; font-weight: bold\">10.000000</span>            <span style=\"color: #008080; text-decoration-color: #008080; font-weight: bold\">90.000000</span>\n",
       "</pre>\n"
      ],
      "text/plain": [
       "              num_of_na  num_of_no_na  percentage_of_na  percentage_of_no_na\n",
       "span_counter                                                                \n",
       "\u001b[1;36m0\u001b[0m                    \u001b[1;36m50\u001b[0m            \u001b[1;36m84\u001b[0m         \u001b[1;36m37.313433\u001b[0m            \u001b[1;36m62.686567\u001b[0m\n",
       "\u001b[1;36m1\u001b[0m                    \u001b[1;36m44\u001b[0m            \u001b[1;36m90\u001b[0m         \u001b[1;36m32.835821\u001b[0m            \u001b[1;36m67.164179\u001b[0m\n",
       "\u001b[1;36m2\u001b[0m                    \u001b[1;36m47\u001b[0m            \u001b[1;36m87\u001b[0m         \u001b[1;36m35.074627\u001b[0m            \u001b[1;36m64.925373\u001b[0m\n",
       "\u001b[1;36m3\u001b[0m                    \u001b[1;36m53\u001b[0m            \u001b[1;36m81\u001b[0m         \u001b[1;36m39.552239\u001b[0m            \u001b[1;36m60.447761\u001b[0m\n",
       "\u001b[1;36m4\u001b[0m                    \u001b[1;36m42\u001b[0m            \u001b[1;36m92\u001b[0m         \u001b[1;36m31.343284\u001b[0m            \u001b[1;36m68.656716\u001b[0m\n",
       "\u001b[1;36m5\u001b[0m                    \u001b[1;36m33\u001b[0m           \u001b[1;36m101\u001b[0m         \u001b[1;36m24.626866\u001b[0m            \u001b[1;36m75.373134\u001b[0m\n",
       "\u001b[1;36m6\u001b[0m                    \u001b[1;36m24\u001b[0m           \u001b[1;36m110\u001b[0m         \u001b[1;36m17.910448\u001b[0m            \u001b[1;36m82.089552\u001b[0m\n",
       "\u001b[1;36m7\u001b[0m                    \u001b[1;36m32\u001b[0m           \u001b[1;36m102\u001b[0m         \u001b[1;36m23.880597\u001b[0m            \u001b[1;36m76.119403\u001b[0m\n",
       "\u001b[1;36m8\u001b[0m                    \u001b[1;36m18\u001b[0m           \u001b[1;36m116\u001b[0m         \u001b[1;36m13.432836\u001b[0m            \u001b[1;36m86.567164\u001b[0m\n",
       "\u001b[1;36m9\u001b[0m                    \u001b[1;36m23\u001b[0m           \u001b[1;36m111\u001b[0m         \u001b[1;36m17.164179\u001b[0m            \u001b[1;36m82.835821\u001b[0m\n",
       "\u001b[1;36m10\u001b[0m                   \u001b[1;36m22\u001b[0m           \u001b[1;36m112\u001b[0m         \u001b[1;36m16.417910\u001b[0m            \u001b[1;36m83.582090\u001b[0m\n",
       "\u001b[1;36m11\u001b[0m                   \u001b[1;36m14\u001b[0m           \u001b[1;36m120\u001b[0m         \u001b[1;36m10.447761\u001b[0m            \u001b[1;36m89.552239\u001b[0m\n",
       "\u001b[1;36m12\u001b[0m                    \u001b[1;36m5\u001b[0m           \u001b[1;36m129\u001b[0m          \u001b[1;36m3.731343\u001b[0m            \u001b[1;36m96.268657\u001b[0m\n",
       "\u001b[1;36m13\u001b[0m                    \u001b[1;36m1\u001b[0m             \u001b[1;36m9\u001b[0m         \u001b[1;36m10.000000\u001b[0m            \u001b[1;36m90.000000\u001b[0m\n"
      ]
     },
     "metadata": {},
     "output_type": "display_data"
    },
    {
     "data": {
      "text/html": [
       "<pre style=\"white-space:pre;overflow-x:auto;line-height:normal;font-family:Menlo,'DejaVu Sans Mono',consolas,'Courier New',monospace\">============================================================\n",
       "</pre>\n"
      ],
      "text/plain": [
       "============================================================\n"
      ]
     },
     "metadata": {},
     "output_type": "display_data"
    },
    {
     "data": {
      "text/html": [
       "<pre style=\"white-space:pre;overflow-x:auto;line-height:normal;font-family:Menlo,'DejaVu Sans Mono',consolas,'Courier New',monospace\"><span style=\"text-decoration: underline\">Missing variable intervals for </span><span style=\"color: #af00ff; text-decoration-color: #af00ff; text-decoration: underline\">synopsis</span>\n",
       "\n",
       "</pre>\n"
      ],
      "text/plain": [
       "\u001b[4mMissing variable intervals for \u001b[0m\u001b[4;38;5;129msynopsis\u001b[0m\n",
       "\n"
      ]
     },
     "metadata": {},
     "output_type": "display_data"
    },
    {
     "data": {
      "text/html": [
       "<pre style=\"white-space:pre;overflow-x:auto;line-height:normal;font-family:Menlo,'DejaVu Sans Mono',consolas,'Courier New',monospace\">              num_of_na  num_of_no_na  percentage_of_na  percentage_of_no_na\n",
       "span_counter                                                                \n",
       "<span style=\"color: #008080; text-decoration-color: #008080; font-weight: bold\">0</span>                     <span style=\"color: #008080; text-decoration-color: #008080; font-weight: bold\">9</span>           <span style=\"color: #008080; text-decoration-color: #008080; font-weight: bold\">125</span>          <span style=\"color: #008080; text-decoration-color: #008080; font-weight: bold\">6.716418</span>            <span style=\"color: #008080; text-decoration-color: #008080; font-weight: bold\">93.283582</span>\n",
       "<span style=\"color: #008080; text-decoration-color: #008080; font-weight: bold\">1</span>                    <span style=\"color: #008080; text-decoration-color: #008080; font-weight: bold\">11</span>           <span style=\"color: #008080; text-decoration-color: #008080; font-weight: bold\">123</span>          <span style=\"color: #008080; text-decoration-color: #008080; font-weight: bold\">8.208955</span>            <span style=\"color: #008080; text-decoration-color: #008080; font-weight: bold\">91.791045</span>\n",
       "<span style=\"color: #008080; text-decoration-color: #008080; font-weight: bold\">2</span>                    <span style=\"color: #008080; text-decoration-color: #008080; font-weight: bold\">12</span>           <span style=\"color: #008080; text-decoration-color: #008080; font-weight: bold\">122</span>          <span style=\"color: #008080; text-decoration-color: #008080; font-weight: bold\">8.955224</span>            <span style=\"color: #008080; text-decoration-color: #008080; font-weight: bold\">91.044776</span>\n",
       "<span style=\"color: #008080; text-decoration-color: #008080; font-weight: bold\">3</span>                    <span style=\"color: #008080; text-decoration-color: #008080; font-weight: bold\">25</span>           <span style=\"color: #008080; text-decoration-color: #008080; font-weight: bold\">109</span>         <span style=\"color: #008080; text-decoration-color: #008080; font-weight: bold\">18.656716</span>            <span style=\"color: #008080; text-decoration-color: #008080; font-weight: bold\">81.343284</span>\n",
       "<span style=\"color: #008080; text-decoration-color: #008080; font-weight: bold\">4</span>                    <span style=\"color: #008080; text-decoration-color: #008080; font-weight: bold\">14</span>           <span style=\"color: #008080; text-decoration-color: #008080; font-weight: bold\">120</span>         <span style=\"color: #008080; text-decoration-color: #008080; font-weight: bold\">10.447761</span>            <span style=\"color: #008080; text-decoration-color: #008080; font-weight: bold\">89.552239</span>\n",
       "<span style=\"color: #008080; text-decoration-color: #008080; font-weight: bold\">5</span>                    <span style=\"color: #008080; text-decoration-color: #008080; font-weight: bold\">11</span>           <span style=\"color: #008080; text-decoration-color: #008080; font-weight: bold\">123</span>          <span style=\"color: #008080; text-decoration-color: #008080; font-weight: bold\">8.208955</span>            <span style=\"color: #008080; text-decoration-color: #008080; font-weight: bold\">91.791045</span>\n",
       "<span style=\"color: #008080; text-decoration-color: #008080; font-weight: bold\">6</span>                    <span style=\"color: #008080; text-decoration-color: #008080; font-weight: bold\">19</span>           <span style=\"color: #008080; text-decoration-color: #008080; font-weight: bold\">115</span>         <span style=\"color: #008080; text-decoration-color: #008080; font-weight: bold\">14.179104</span>            <span style=\"color: #008080; text-decoration-color: #008080; font-weight: bold\">85.820896</span>\n",
       "<span style=\"color: #008080; text-decoration-color: #008080; font-weight: bold\">7</span>                    <span style=\"color: #008080; text-decoration-color: #008080; font-weight: bold\">18</span>           <span style=\"color: #008080; text-decoration-color: #008080; font-weight: bold\">116</span>         <span style=\"color: #008080; text-decoration-color: #008080; font-weight: bold\">13.432836</span>            <span style=\"color: #008080; text-decoration-color: #008080; font-weight: bold\">86.567164</span>\n",
       "<span style=\"color: #008080; text-decoration-color: #008080; font-weight: bold\">8</span>                    <span style=\"color: #008080; text-decoration-color: #008080; font-weight: bold\">14</span>           <span style=\"color: #008080; text-decoration-color: #008080; font-weight: bold\">120</span>         <span style=\"color: #008080; text-decoration-color: #008080; font-weight: bold\">10.447761</span>            <span style=\"color: #008080; text-decoration-color: #008080; font-weight: bold\">89.552239</span>\n",
       "<span style=\"color: #008080; text-decoration-color: #008080; font-weight: bold\">9</span>                    <span style=\"color: #008080; text-decoration-color: #008080; font-weight: bold\">12</span>           <span style=\"color: #008080; text-decoration-color: #008080; font-weight: bold\">122</span>          <span style=\"color: #008080; text-decoration-color: #008080; font-weight: bold\">8.955224</span>            <span style=\"color: #008080; text-decoration-color: #008080; font-weight: bold\">91.044776</span>\n",
       "<span style=\"color: #008080; text-decoration-color: #008080; font-weight: bold\">10</span>                   <span style=\"color: #008080; text-decoration-color: #008080; font-weight: bold\">13</span>           <span style=\"color: #008080; text-decoration-color: #008080; font-weight: bold\">121</span>          <span style=\"color: #008080; text-decoration-color: #008080; font-weight: bold\">9.701493</span>            <span style=\"color: #008080; text-decoration-color: #008080; font-weight: bold\">90.298507</span>\n",
       "<span style=\"color: #008080; text-decoration-color: #008080; font-weight: bold\">11</span>                    <span style=\"color: #008080; text-decoration-color: #008080; font-weight: bold\">8</span>           <span style=\"color: #008080; text-decoration-color: #008080; font-weight: bold\">126</span>          <span style=\"color: #008080; text-decoration-color: #008080; font-weight: bold\">5.970149</span>            <span style=\"color: #008080; text-decoration-color: #008080; font-weight: bold\">94.029851</span>\n",
       "<span style=\"color: #008080; text-decoration-color: #008080; font-weight: bold\">12</span>                    <span style=\"color: #008080; text-decoration-color: #008080; font-weight: bold\">2</span>           <span style=\"color: #008080; text-decoration-color: #008080; font-weight: bold\">132</span>          <span style=\"color: #008080; text-decoration-color: #008080; font-weight: bold\">1.492537</span>            <span style=\"color: #008080; text-decoration-color: #008080; font-weight: bold\">98.507463</span>\n",
       "<span style=\"color: #008080; text-decoration-color: #008080; font-weight: bold\">13</span>                    <span style=\"color: #008080; text-decoration-color: #008080; font-weight: bold\">0</span>            <span style=\"color: #008080; text-decoration-color: #008080; font-weight: bold\">10</span>          <span style=\"color: #008080; text-decoration-color: #008080; font-weight: bold\">0.000000</span>           <span style=\"color: #008080; text-decoration-color: #008080; font-weight: bold\">100.000000</span>\n",
       "</pre>\n"
      ],
      "text/plain": [
       "              num_of_na  num_of_no_na  percentage_of_na  percentage_of_no_na\n",
       "span_counter                                                                \n",
       "\u001b[1;36m0\u001b[0m                     \u001b[1;36m9\u001b[0m           \u001b[1;36m125\u001b[0m          \u001b[1;36m6.716418\u001b[0m            \u001b[1;36m93.283582\u001b[0m\n",
       "\u001b[1;36m1\u001b[0m                    \u001b[1;36m11\u001b[0m           \u001b[1;36m123\u001b[0m          \u001b[1;36m8.208955\u001b[0m            \u001b[1;36m91.791045\u001b[0m\n",
       "\u001b[1;36m2\u001b[0m                    \u001b[1;36m12\u001b[0m           \u001b[1;36m122\u001b[0m          \u001b[1;36m8.955224\u001b[0m            \u001b[1;36m91.044776\u001b[0m\n",
       "\u001b[1;36m3\u001b[0m                    \u001b[1;36m25\u001b[0m           \u001b[1;36m109\u001b[0m         \u001b[1;36m18.656716\u001b[0m            \u001b[1;36m81.343284\u001b[0m\n",
       "\u001b[1;36m4\u001b[0m                    \u001b[1;36m14\u001b[0m           \u001b[1;36m120\u001b[0m         \u001b[1;36m10.447761\u001b[0m            \u001b[1;36m89.552239\u001b[0m\n",
       "\u001b[1;36m5\u001b[0m                    \u001b[1;36m11\u001b[0m           \u001b[1;36m123\u001b[0m          \u001b[1;36m8.208955\u001b[0m            \u001b[1;36m91.791045\u001b[0m\n",
       "\u001b[1;36m6\u001b[0m                    \u001b[1;36m19\u001b[0m           \u001b[1;36m115\u001b[0m         \u001b[1;36m14.179104\u001b[0m            \u001b[1;36m85.820896\u001b[0m\n",
       "\u001b[1;36m7\u001b[0m                    \u001b[1;36m18\u001b[0m           \u001b[1;36m116\u001b[0m         \u001b[1;36m13.432836\u001b[0m            \u001b[1;36m86.567164\u001b[0m\n",
       "\u001b[1;36m8\u001b[0m                    \u001b[1;36m14\u001b[0m           \u001b[1;36m120\u001b[0m         \u001b[1;36m10.447761\u001b[0m            \u001b[1;36m89.552239\u001b[0m\n",
       "\u001b[1;36m9\u001b[0m                    \u001b[1;36m12\u001b[0m           \u001b[1;36m122\u001b[0m          \u001b[1;36m8.955224\u001b[0m            \u001b[1;36m91.044776\u001b[0m\n",
       "\u001b[1;36m10\u001b[0m                   \u001b[1;36m13\u001b[0m           \u001b[1;36m121\u001b[0m          \u001b[1;36m9.701493\u001b[0m            \u001b[1;36m90.298507\u001b[0m\n",
       "\u001b[1;36m11\u001b[0m                    \u001b[1;36m8\u001b[0m           \u001b[1;36m126\u001b[0m          \u001b[1;36m5.970149\u001b[0m            \u001b[1;36m94.029851\u001b[0m\n",
       "\u001b[1;36m12\u001b[0m                    \u001b[1;36m2\u001b[0m           \u001b[1;36m132\u001b[0m          \u001b[1;36m1.492537\u001b[0m            \u001b[1;36m98.507463\u001b[0m\n",
       "\u001b[1;36m13\u001b[0m                    \u001b[1;36m0\u001b[0m            \u001b[1;36m10\u001b[0m          \u001b[1;36m0.000000\u001b[0m           \u001b[1;36m100.000000\u001b[0m\n"
      ]
     },
     "metadata": {},
     "output_type": "display_data"
    },
    {
     "data": {
      "text/html": [
       "<pre style=\"white-space:pre;overflow-x:auto;line-height:normal;font-family:Menlo,'DejaVu Sans Mono',consolas,'Courier New',monospace\">============================================================\n",
       "</pre>\n"
      ],
      "text/plain": [
       "============================================================\n"
      ]
     },
     "metadata": {},
     "output_type": "display_data"
    }
   ],
   "source": [
    "def missing_variable_intervals(data: pd.DataFrame, variable: str, num_of_intervals: int) -> pd.DataFrame:\n",
    "    return(\n",
    "        data\n",
    "        .assign(\n",
    "            span_counter=lambda df: np.repeat(range(df.shape[0]), df.shape[0]/num_of_intervals)[:df.shape[0]]\n",
    "        )\n",
    "        .groupby('span_counter')\n",
    "        .aggregate(\n",
    "            num_in_span=(variable, 'size'),\n",
    "            num_of_na=(variable, lambda x: x.isna().sum())\n",
    "        )\n",
    "        .assign(\n",
    "            num_of_no_na=lambda df: df.num_in_span - df.num_of_na,\n",
    "            percentage_of_na=lambda df: (df.num_of_na / df.num_in_span) * 100,\n",
    "            percentage_of_no_na=lambda df: (df.num_of_no_na / df.num_in_span) * 100\n",
    "        )\n",
    "        .drop(columns=['num_in_span'])\n",
    "    )\n",
    "\n",
    "for column in k_dramas.columns:\n",
    "    df = missing_variable_intervals(k_dramas, column, 13)\n",
    "    if df.num_of_na.sum() > 0:\n",
    "        print(f'[underline]Missing variable intervals for [purple]{column}[/purple][/underline]\\n')\n",
    "        print(df)\n",
    "        print('============================================================')"
   ]
  },
  {
   "cell_type": "code",
   "execution_count": 30,
   "metadata": {},
   "outputs": [
    {
     "data": {
      "text/html": [
       "<pre style=\"white-space:pre;overflow-x:auto;line-height:normal;font-family:Menlo,'DejaVu Sans Mono',consolas,'Courier New',monospace\"><span style=\"text-decoration: underline\">Missing variable sections for </span><span style=\"color: #af00ff; text-decoration-color: #af00ff; text-decoration: underline\">drama_name</span>\n",
       "\n",
       "</pre>\n"
      ],
      "text/plain": [
       "\u001b[4mMissing variable sections for \u001b[0m\u001b[4;38;5;129mdrama_name\u001b[0m\n",
       "\n"
      ]
     },
     "metadata": {},
     "output_type": "display_data"
    },
    {
     "data": {
      "text/html": [
       "<pre style=\"white-space:pre;overflow-x:auto;line-height:normal;font-family:Menlo,'DejaVu Sans Mono',consolas,'Courier New',monospace\">   num_in_section  value\n",
       "<span style=\"color: #008080; text-decoration-color: #008080; font-weight: bold\">0</span>            <span style=\"color: #008080; text-decoration-color: #008080; font-weight: bold\">1752</span>  no_na\n",
       "</pre>\n"
      ],
      "text/plain": [
       "   num_in_section  value\n",
       "\u001b[1;36m0\u001b[0m            \u001b[1;36m1752\u001b[0m  no_na\n"
      ]
     },
     "metadata": {},
     "output_type": "display_data"
    },
    {
     "data": {
      "text/html": [
       "<pre style=\"white-space:pre;overflow-x:auto;line-height:normal;font-family:Menlo,'DejaVu Sans Mono',consolas,'Courier New',monospace\"><span style=\"text-decoration: underline\">Missing variable sections for </span><span style=\"color: #af00ff; text-decoration-color: #af00ff; text-decoration: underline\">year</span>\n",
       "\n",
       "</pre>\n"
      ],
      "text/plain": [
       "\u001b[4mMissing variable sections for \u001b[0m\u001b[4;38;5;129myear\u001b[0m\n",
       "\n"
      ]
     },
     "metadata": {},
     "output_type": "display_data"
    },
    {
     "data": {
      "text/html": [
       "<pre style=\"white-space:pre;overflow-x:auto;line-height:normal;font-family:Menlo,'DejaVu Sans Mono',consolas,'Courier New',monospace\">   num_in_section  value\n",
       "<span style=\"color: #008080; text-decoration-color: #008080; font-weight: bold\">0</span>            <span style=\"color: #008080; text-decoration-color: #008080; font-weight: bold\">1752</span>  no_na\n",
       "</pre>\n"
      ],
      "text/plain": [
       "   num_in_section  value\n",
       "\u001b[1;36m0\u001b[0m            \u001b[1;36m1752\u001b[0m  no_na\n"
      ]
     },
     "metadata": {},
     "output_type": "display_data"
    },
    {
     "data": {
      "text/html": [
       "<pre style=\"white-space:pre;overflow-x:auto;line-height:normal;font-family:Menlo,'DejaVu Sans Mono',consolas,'Courier New',monospace\"><span style=\"text-decoration: underline\">Missing variable sections for </span><span style=\"color: #af00ff; text-decoration-color: #af00ff; text-decoration: underline\">director</span>\n",
       "\n",
       "</pre>\n"
      ],
      "text/plain": [
       "\u001b[4mMissing variable sections for \u001b[0m\u001b[4;38;5;129mdirector\u001b[0m\n",
       "\n"
      ]
     },
     "metadata": {},
     "output_type": "display_data"
    },
    {
     "data": {
      "text/html": [
       "<pre style=\"white-space:pre;overflow-x:auto;line-height:normal;font-family:Menlo,'DejaVu Sans Mono',consolas,'Courier New',monospace\">     num_in_section  value\n",
       "<span style=\"color: #008080; text-decoration-color: #008080; font-weight: bold\">0</span>                 <span style=\"color: #008080; text-decoration-color: #008080; font-weight: bold\">1</span>  no_na\n",
       "<span style=\"color: #008080; text-decoration-color: #008080; font-weight: bold\">1</span>                 <span style=\"color: #008080; text-decoration-color: #008080; font-weight: bold\">1</span>     na\n",
       "<span style=\"color: #008080; text-decoration-color: #008080; font-weight: bold\">2</span>                 <span style=\"color: #008080; text-decoration-color: #008080; font-weight: bold\">1</span>  no_na\n",
       "<span style=\"color: #008080; text-decoration-color: #008080; font-weight: bold\">3</span>                 <span style=\"color: #008080; text-decoration-color: #008080; font-weight: bold\">1</span>     na\n",
       "<span style=\"color: #008080; text-decoration-color: #008080; font-weight: bold\">4</span>                 <span style=\"color: #008080; text-decoration-color: #008080; font-weight: bold\">1</span>  no_na\n",
       "..              <span style=\"color: #808000; text-decoration-color: #808000\">...</span>    <span style=\"color: #808000; text-decoration-color: #808000\">...</span>\n",
       "<span style=\"color: #008080; text-decoration-color: #008080; font-weight: bold\">793</span>               <span style=\"color: #008080; text-decoration-color: #008080; font-weight: bold\">1</span>     na\n",
       "<span style=\"color: #008080; text-decoration-color: #008080; font-weight: bold\">794</span>               <span style=\"color: #008080; text-decoration-color: #008080; font-weight: bold\">1</span>  no_na\n",
       "<span style=\"color: #008080; text-decoration-color: #008080; font-weight: bold\">795</span>               <span style=\"color: #008080; text-decoration-color: #008080; font-weight: bold\">2</span>     na\n",
       "<span style=\"color: #008080; text-decoration-color: #008080; font-weight: bold\">796</span>              <span style=\"color: #008080; text-decoration-color: #008080; font-weight: bold\">12</span>  no_na\n",
       "<span style=\"color: #008080; text-decoration-color: #008080; font-weight: bold\">797</span>               <span style=\"color: #008080; text-decoration-color: #008080; font-weight: bold\">1</span>     na\n",
       "\n",
       "<span style=\"font-weight: bold\">[</span><span style=\"color: #008080; text-decoration-color: #008080; font-weight: bold\">798</span> rows x <span style=\"color: #008080; text-decoration-color: #008080; font-weight: bold\">2</span> columns<span style=\"font-weight: bold\">]</span>\n",
       "</pre>\n"
      ],
      "text/plain": [
       "     num_in_section  value\n",
       "\u001b[1;36m0\u001b[0m                 \u001b[1;36m1\u001b[0m  no_na\n",
       "\u001b[1;36m1\u001b[0m                 \u001b[1;36m1\u001b[0m     na\n",
       "\u001b[1;36m2\u001b[0m                 \u001b[1;36m1\u001b[0m  no_na\n",
       "\u001b[1;36m3\u001b[0m                 \u001b[1;36m1\u001b[0m     na\n",
       "\u001b[1;36m4\u001b[0m                 \u001b[1;36m1\u001b[0m  no_na\n",
       "..              \u001b[33m...\u001b[0m    \u001b[33m...\u001b[0m\n",
       "\u001b[1;36m793\u001b[0m               \u001b[1;36m1\u001b[0m     na\n",
       "\u001b[1;36m794\u001b[0m               \u001b[1;36m1\u001b[0m  no_na\n",
       "\u001b[1;36m795\u001b[0m               \u001b[1;36m2\u001b[0m     na\n",
       "\u001b[1;36m796\u001b[0m              \u001b[1;36m12\u001b[0m  no_na\n",
       "\u001b[1;36m797\u001b[0m               \u001b[1;36m1\u001b[0m     na\n",
       "\n",
       "\u001b[1m[\u001b[0m\u001b[1;36m798\u001b[0m rows x \u001b[1;36m2\u001b[0m columns\u001b[1m]\u001b[0m\n"
      ]
     },
     "metadata": {},
     "output_type": "display_data"
    },
    {
     "data": {
      "text/html": [
       "<pre style=\"white-space:pre;overflow-x:auto;line-height:normal;font-family:Menlo,'DejaVu Sans Mono',consolas,'Courier New',monospace\"><span style=\"text-decoration: underline\">Missing variable sections for </span><span style=\"color: #af00ff; text-decoration-color: #af00ff; text-decoration: underline\">screenwriter</span>\n",
       "\n",
       "</pre>\n"
      ],
      "text/plain": [
       "\u001b[4mMissing variable sections for \u001b[0m\u001b[4;38;5;129mscreenwriter\u001b[0m\n",
       "\n"
      ]
     },
     "metadata": {},
     "output_type": "display_data"
    },
    {
     "data": {
      "text/html": [
       "<pre style=\"white-space:pre;overflow-x:auto;line-height:normal;font-family:Menlo,'DejaVu Sans Mono',consolas,'Courier New',monospace\">     num_in_section  value\n",
       "<span style=\"color: #008080; text-decoration-color: #008080; font-weight: bold\">0</span>                 <span style=\"color: #008080; text-decoration-color: #008080; font-weight: bold\">1</span>     na\n",
       "<span style=\"color: #008080; text-decoration-color: #008080; font-weight: bold\">1</span>                 <span style=\"color: #008080; text-decoration-color: #008080; font-weight: bold\">2</span>  no_na\n",
       "<span style=\"color: #008080; text-decoration-color: #008080; font-weight: bold\">2</span>                 <span style=\"color: #008080; text-decoration-color: #008080; font-weight: bold\">1</span>     na\n",
       "<span style=\"color: #008080; text-decoration-color: #008080; font-weight: bold\">3</span>                 <span style=\"color: #008080; text-decoration-color: #008080; font-weight: bold\">1</span>  no_na\n",
       "<span style=\"color: #008080; text-decoration-color: #008080; font-weight: bold\">4</span>                 <span style=\"color: #008080; text-decoration-color: #008080; font-weight: bold\">1</span>     na\n",
       "..              <span style=\"color: #808000; text-decoration-color: #808000\">...</span>    <span style=\"color: #808000; text-decoration-color: #808000\">...</span>\n",
       "<span style=\"color: #008080; text-decoration-color: #008080; font-weight: bold\">820</span>               <span style=\"color: #008080; text-decoration-color: #008080; font-weight: bold\">1</span>     na\n",
       "<span style=\"color: #008080; text-decoration-color: #008080; font-weight: bold\">821</span>               <span style=\"color: #008080; text-decoration-color: #008080; font-weight: bold\">1</span>  no_na\n",
       "<span style=\"color: #008080; text-decoration-color: #008080; font-weight: bold\">822</span>               <span style=\"color: #008080; text-decoration-color: #008080; font-weight: bold\">2</span>     na\n",
       "<span style=\"color: #008080; text-decoration-color: #008080; font-weight: bold\">823</span>              <span style=\"color: #008080; text-decoration-color: #008080; font-weight: bold\">12</span>  no_na\n",
       "<span style=\"color: #008080; text-decoration-color: #008080; font-weight: bold\">824</span>               <span style=\"color: #008080; text-decoration-color: #008080; font-weight: bold\">1</span>     na\n",
       "\n",
       "<span style=\"font-weight: bold\">[</span><span style=\"color: #008080; text-decoration-color: #008080; font-weight: bold\">825</span> rows x <span style=\"color: #008080; text-decoration-color: #008080; font-weight: bold\">2</span> columns<span style=\"font-weight: bold\">]</span>\n",
       "</pre>\n"
      ],
      "text/plain": [
       "     num_in_section  value\n",
       "\u001b[1;36m0\u001b[0m                 \u001b[1;36m1\u001b[0m     na\n",
       "\u001b[1;36m1\u001b[0m                 \u001b[1;36m2\u001b[0m  no_na\n",
       "\u001b[1;36m2\u001b[0m                 \u001b[1;36m1\u001b[0m     na\n",
       "\u001b[1;36m3\u001b[0m                 \u001b[1;36m1\u001b[0m  no_na\n",
       "\u001b[1;36m4\u001b[0m                 \u001b[1;36m1\u001b[0m     na\n",
       "..              \u001b[33m...\u001b[0m    \u001b[33m...\u001b[0m\n",
       "\u001b[1;36m820\u001b[0m               \u001b[1;36m1\u001b[0m     na\n",
       "\u001b[1;36m821\u001b[0m               \u001b[1;36m1\u001b[0m  no_na\n",
       "\u001b[1;36m822\u001b[0m               \u001b[1;36m2\u001b[0m     na\n",
       "\u001b[1;36m823\u001b[0m              \u001b[1;36m12\u001b[0m  no_na\n",
       "\u001b[1;36m824\u001b[0m               \u001b[1;36m1\u001b[0m     na\n",
       "\n",
       "\u001b[1m[\u001b[0m\u001b[1;36m825\u001b[0m rows x \u001b[1;36m2\u001b[0m columns\u001b[1m]\u001b[0m\n"
      ]
     },
     "metadata": {},
     "output_type": "display_data"
    },
    {
     "data": {
      "text/html": [
       "<pre style=\"white-space:pre;overflow-x:auto;line-height:normal;font-family:Menlo,'DejaVu Sans Mono',consolas,'Courier New',monospace\"><span style=\"text-decoration: underline\">Missing variable sections for </span><span style=\"color: #af00ff; text-decoration-color: #af00ff; text-decoration: underline\">country</span>\n",
       "\n",
       "</pre>\n"
      ],
      "text/plain": [
       "\u001b[4mMissing variable sections for \u001b[0m\u001b[4;38;5;129mcountry\u001b[0m\n",
       "\n"
      ]
     },
     "metadata": {},
     "output_type": "display_data"
    },
    {
     "data": {
      "text/html": [
       "<pre style=\"white-space:pre;overflow-x:auto;line-height:normal;font-family:Menlo,'DejaVu Sans Mono',consolas,'Courier New',monospace\">   num_in_section  value\n",
       "<span style=\"color: #008080; text-decoration-color: #008080; font-weight: bold\">0</span>            <span style=\"color: #008080; text-decoration-color: #008080; font-weight: bold\">1752</span>  no_na\n",
       "</pre>\n"
      ],
      "text/plain": [
       "   num_in_section  value\n",
       "\u001b[1;36m0\u001b[0m            \u001b[1;36m1752\u001b[0m  no_na\n"
      ]
     },
     "metadata": {},
     "output_type": "display_data"
    },
    {
     "data": {
      "text/html": [
       "<pre style=\"white-space:pre;overflow-x:auto;line-height:normal;font-family:Menlo,'DejaVu Sans Mono',consolas,'Courier New',monospace\"><span style=\"text-decoration: underline\">Missing variable sections for </span><span style=\"color: #af00ff; text-decoration-color: #af00ff; text-decoration: underline\">type</span>\n",
       "\n",
       "</pre>\n"
      ],
      "text/plain": [
       "\u001b[4mMissing variable sections for \u001b[0m\u001b[4;38;5;129mtype\u001b[0m\n",
       "\n"
      ]
     },
     "metadata": {},
     "output_type": "display_data"
    },
    {
     "data": {
      "text/html": [
       "<pre style=\"white-space:pre;overflow-x:auto;line-height:normal;font-family:Menlo,'DejaVu Sans Mono',consolas,'Courier New',monospace\">   num_in_section  value\n",
       "<span style=\"color: #008080; text-decoration-color: #008080; font-weight: bold\">0</span>            <span style=\"color: #008080; text-decoration-color: #008080; font-weight: bold\">1752</span>  no_na\n",
       "</pre>\n"
      ],
      "text/plain": [
       "   num_in_section  value\n",
       "\u001b[1;36m0\u001b[0m            \u001b[1;36m1752\u001b[0m  no_na\n"
      ]
     },
     "metadata": {},
     "output_type": "display_data"
    },
    {
     "data": {
      "text/html": [
       "<pre style=\"white-space:pre;overflow-x:auto;line-height:normal;font-family:Menlo,'DejaVu Sans Mono',consolas,'Courier New',monospace\"><span style=\"text-decoration: underline\">Missing variable sections for </span><span style=\"color: #af00ff; text-decoration-color: #af00ff; text-decoration: underline\">tot_eps</span>\n",
       "\n",
       "</pre>\n"
      ],
      "text/plain": [
       "\u001b[4mMissing variable sections for \u001b[0m\u001b[4;38;5;129mtot_eps\u001b[0m\n",
       "\n"
      ]
     },
     "metadata": {},
     "output_type": "display_data"
    },
    {
     "data": {
      "text/html": [
       "<pre style=\"white-space:pre;overflow-x:auto;line-height:normal;font-family:Menlo,'DejaVu Sans Mono',consolas,'Courier New',monospace\">   num_in_section  value\n",
       "<span style=\"color: #008080; text-decoration-color: #008080; font-weight: bold\">0</span>            <span style=\"color: #008080; text-decoration-color: #008080; font-weight: bold\">1752</span>  no_na\n",
       "</pre>\n"
      ],
      "text/plain": [
       "   num_in_section  value\n",
       "\u001b[1;36m0\u001b[0m            \u001b[1;36m1752\u001b[0m  no_na\n"
      ]
     },
     "metadata": {},
     "output_type": "display_data"
    },
    {
     "data": {
      "text/html": [
       "<pre style=\"white-space:pre;overflow-x:auto;line-height:normal;font-family:Menlo,'DejaVu Sans Mono',consolas,'Courier New',monospace\"><span style=\"text-decoration: underline\">Missing variable sections for </span><span style=\"color: #af00ff; text-decoration-color: #af00ff; text-decoration: underline\">duration</span>\n",
       "\n",
       "</pre>\n"
      ],
      "text/plain": [
       "\u001b[4mMissing variable sections for \u001b[0m\u001b[4;38;5;129mduration\u001b[0m\n",
       "\n"
      ]
     },
     "metadata": {},
     "output_type": "display_data"
    },
    {
     "data": {
      "text/html": [
       "<pre style=\"white-space:pre;overflow-x:auto;line-height:normal;font-family:Menlo,'DejaVu Sans Mono',consolas,'Courier New',monospace\">    num_in_section  value\n",
       "<span style=\"color: #008080; text-decoration-color: #008080; font-weight: bold\">0</span>               <span style=\"color: #008080; text-decoration-color: #008080; font-weight: bold\">97</span>  no_na\n",
       "<span style=\"color: #008080; text-decoration-color: #008080; font-weight: bold\">1</span>                <span style=\"color: #008080; text-decoration-color: #008080; font-weight: bold\">1</span>     na\n",
       "<span style=\"color: #008080; text-decoration-color: #008080; font-weight: bold\">2</span>                <span style=\"color: #008080; text-decoration-color: #008080; font-weight: bold\">4</span>  no_na\n",
       "<span style=\"color: #008080; text-decoration-color: #008080; font-weight: bold\">3</span>                <span style=\"color: #008080; text-decoration-color: #008080; font-weight: bold\">1</span>     na\n",
       "<span style=\"color: #008080; text-decoration-color: #008080; font-weight: bold\">4</span>                <span style=\"color: #008080; text-decoration-color: #008080; font-weight: bold\">5</span>  no_na\n",
       "<span style=\"color: #008080; text-decoration-color: #008080; font-weight: bold\">5</span>                <span style=\"color: #008080; text-decoration-color: #008080; font-weight: bold\">1</span>     na\n",
       "<span style=\"color: #008080; text-decoration-color: #008080; font-weight: bold\">6</span>              <span style=\"color: #008080; text-decoration-color: #008080; font-weight: bold\">157</span>  no_na\n",
       "<span style=\"color: #008080; text-decoration-color: #008080; font-weight: bold\">7</span>                <span style=\"color: #008080; text-decoration-color: #008080; font-weight: bold\">1</span>     na\n",
       "<span style=\"color: #008080; text-decoration-color: #008080; font-weight: bold\">8</span>              <span style=\"color: #008080; text-decoration-color: #008080; font-weight: bold\">177</span>  no_na\n",
       "<span style=\"color: #008080; text-decoration-color: #008080; font-weight: bold\">9</span>                <span style=\"color: #008080; text-decoration-color: #008080; font-weight: bold\">1</span>     na\n",
       "<span style=\"color: #008080; text-decoration-color: #008080; font-weight: bold\">10</span>              <span style=\"color: #008080; text-decoration-color: #008080; font-weight: bold\">32</span>  no_na\n",
       "<span style=\"color: #008080; text-decoration-color: #008080; font-weight: bold\">11</span>               <span style=\"color: #008080; text-decoration-color: #008080; font-weight: bold\">1</span>     na\n",
       "<span style=\"color: #008080; text-decoration-color: #008080; font-weight: bold\">12</span>             <span style=\"color: #008080; text-decoration-color: #008080; font-weight: bold\">119</span>  no_na\n",
       "<span style=\"color: #008080; text-decoration-color: #008080; font-weight: bold\">13</span>               <span style=\"color: #008080; text-decoration-color: #008080; font-weight: bold\">1</span>     na\n",
       "<span style=\"color: #008080; text-decoration-color: #008080; font-weight: bold\">14</span>             <span style=\"color: #008080; text-decoration-color: #008080; font-weight: bold\">112</span>  no_na\n",
       "<span style=\"color: #008080; text-decoration-color: #008080; font-weight: bold\">15</span>               <span style=\"color: #008080; text-decoration-color: #008080; font-weight: bold\">1</span>     na\n",
       "<span style=\"color: #008080; text-decoration-color: #008080; font-weight: bold\">16</span>              <span style=\"color: #008080; text-decoration-color: #008080; font-weight: bold\">52</span>  no_na\n",
       "<span style=\"color: #008080; text-decoration-color: #008080; font-weight: bold\">17</span>               <span style=\"color: #008080; text-decoration-color: #008080; font-weight: bold\">1</span>     na\n",
       "<span style=\"color: #008080; text-decoration-color: #008080; font-weight: bold\">18</span>             <span style=\"color: #008080; text-decoration-color: #008080; font-weight: bold\">498</span>  no_na\n",
       "<span style=\"color: #008080; text-decoration-color: #008080; font-weight: bold\">19</span>               <span style=\"color: #008080; text-decoration-color: #008080; font-weight: bold\">1</span>     na\n",
       "<span style=\"color: #008080; text-decoration-color: #008080; font-weight: bold\">20</span>              <span style=\"color: #008080; text-decoration-color: #008080; font-weight: bold\">11</span>  no_na\n",
       "<span style=\"color: #008080; text-decoration-color: #008080; font-weight: bold\">21</span>               <span style=\"color: #008080; text-decoration-color: #008080; font-weight: bold\">1</span>     na\n",
       "<span style=\"color: #008080; text-decoration-color: #008080; font-weight: bold\">22</span>               <span style=\"color: #008080; text-decoration-color: #008080; font-weight: bold\">1</span>  no_na\n",
       "<span style=\"color: #008080; text-decoration-color: #008080; font-weight: bold\">23</span>               <span style=\"color: #008080; text-decoration-color: #008080; font-weight: bold\">1</span>     na\n",
       "<span style=\"color: #008080; text-decoration-color: #008080; font-weight: bold\">24</span>              <span style=\"color: #008080; text-decoration-color: #008080; font-weight: bold\">39</span>  no_na\n",
       "<span style=\"color: #008080; text-decoration-color: #008080; font-weight: bold\">25</span>               <span style=\"color: #008080; text-decoration-color: #008080; font-weight: bold\">1</span>     na\n",
       "<span style=\"color: #008080; text-decoration-color: #008080; font-weight: bold\">26</span>              <span style=\"color: #008080; text-decoration-color: #008080; font-weight: bold\">49</span>  no_na\n",
       "<span style=\"color: #008080; text-decoration-color: #008080; font-weight: bold\">27</span>               <span style=\"color: #008080; text-decoration-color: #008080; font-weight: bold\">1</span>     na\n",
       "<span style=\"color: #008080; text-decoration-color: #008080; font-weight: bold\">28</span>              <span style=\"color: #008080; text-decoration-color: #008080; font-weight: bold\">62</span>  no_na\n",
       "<span style=\"color: #008080; text-decoration-color: #008080; font-weight: bold\">29</span>               <span style=\"color: #008080; text-decoration-color: #008080; font-weight: bold\">1</span>     na\n",
       "<span style=\"color: #008080; text-decoration-color: #008080; font-weight: bold\">30</span>              <span style=\"color: #008080; text-decoration-color: #008080; font-weight: bold\">66</span>  no_na\n",
       "<span style=\"color: #008080; text-decoration-color: #008080; font-weight: bold\">31</span>               <span style=\"color: #008080; text-decoration-color: #008080; font-weight: bold\">1</span>     na\n",
       "<span style=\"color: #008080; text-decoration-color: #008080; font-weight: bold\">32</span>               <span style=\"color: #008080; text-decoration-color: #008080; font-weight: bold\">6</span>  no_na\n",
       "<span style=\"color: #008080; text-decoration-color: #008080; font-weight: bold\">33</span>               <span style=\"color: #008080; text-decoration-color: #008080; font-weight: bold\">1</span>     na\n",
       "<span style=\"color: #008080; text-decoration-color: #008080; font-weight: bold\">34</span>              <span style=\"color: #008080; text-decoration-color: #008080; font-weight: bold\">45</span>  no_na\n",
       "<span style=\"color: #008080; text-decoration-color: #008080; font-weight: bold\">35</span>               <span style=\"color: #008080; text-decoration-color: #008080; font-weight: bold\">1</span>     na\n",
       "<span style=\"color: #008080; text-decoration-color: #008080; font-weight: bold\">36</span>              <span style=\"color: #008080; text-decoration-color: #008080; font-weight: bold\">33</span>  no_na\n",
       "<span style=\"color: #008080; text-decoration-color: #008080; font-weight: bold\">37</span>               <span style=\"color: #008080; text-decoration-color: #008080; font-weight: bold\">1</span>     na\n",
       "<span style=\"color: #008080; text-decoration-color: #008080; font-weight: bold\">38</span>               <span style=\"color: #008080; text-decoration-color: #008080; font-weight: bold\">9</span>  no_na\n",
       "<span style=\"color: #008080; text-decoration-color: #008080; font-weight: bold\">39</span>               <span style=\"color: #008080; text-decoration-color: #008080; font-weight: bold\">1</span>     na\n",
       "<span style=\"color: #008080; text-decoration-color: #008080; font-weight: bold\">40</span>              <span style=\"color: #008080; text-decoration-color: #008080; font-weight: bold\">41</span>  no_na\n",
       "<span style=\"color: #008080; text-decoration-color: #008080; font-weight: bold\">41</span>               <span style=\"color: #008080; text-decoration-color: #008080; font-weight: bold\">1</span>     na\n",
       "<span style=\"color: #008080; text-decoration-color: #008080; font-weight: bold\">42</span>             <span style=\"color: #008080; text-decoration-color: #008080; font-weight: bold\">101</span>  no_na\n",
       "<span style=\"color: #008080; text-decoration-color: #008080; font-weight: bold\">43</span>               <span style=\"color: #008080; text-decoration-color: #008080; font-weight: bold\">2</span>     na\n",
       "<span style=\"color: #008080; text-decoration-color: #008080; font-weight: bold\">44</span>              <span style=\"color: #008080; text-decoration-color: #008080; font-weight: bold\">12</span>  no_na\n",
       "<span style=\"color: #008080; text-decoration-color: #008080; font-weight: bold\">45</span>               <span style=\"color: #008080; text-decoration-color: #008080; font-weight: bold\">1</span>     na\n",
       "</pre>\n"
      ],
      "text/plain": [
       "    num_in_section  value\n",
       "\u001b[1;36m0\u001b[0m               \u001b[1;36m97\u001b[0m  no_na\n",
       "\u001b[1;36m1\u001b[0m                \u001b[1;36m1\u001b[0m     na\n",
       "\u001b[1;36m2\u001b[0m                \u001b[1;36m4\u001b[0m  no_na\n",
       "\u001b[1;36m3\u001b[0m                \u001b[1;36m1\u001b[0m     na\n",
       "\u001b[1;36m4\u001b[0m                \u001b[1;36m5\u001b[0m  no_na\n",
       "\u001b[1;36m5\u001b[0m                \u001b[1;36m1\u001b[0m     na\n",
       "\u001b[1;36m6\u001b[0m              \u001b[1;36m157\u001b[0m  no_na\n",
       "\u001b[1;36m7\u001b[0m                \u001b[1;36m1\u001b[0m     na\n",
       "\u001b[1;36m8\u001b[0m              \u001b[1;36m177\u001b[0m  no_na\n",
       "\u001b[1;36m9\u001b[0m                \u001b[1;36m1\u001b[0m     na\n",
       "\u001b[1;36m10\u001b[0m              \u001b[1;36m32\u001b[0m  no_na\n",
       "\u001b[1;36m11\u001b[0m               \u001b[1;36m1\u001b[0m     na\n",
       "\u001b[1;36m12\u001b[0m             \u001b[1;36m119\u001b[0m  no_na\n",
       "\u001b[1;36m13\u001b[0m               \u001b[1;36m1\u001b[0m     na\n",
       "\u001b[1;36m14\u001b[0m             \u001b[1;36m112\u001b[0m  no_na\n",
       "\u001b[1;36m15\u001b[0m               \u001b[1;36m1\u001b[0m     na\n",
       "\u001b[1;36m16\u001b[0m              \u001b[1;36m52\u001b[0m  no_na\n",
       "\u001b[1;36m17\u001b[0m               \u001b[1;36m1\u001b[0m     na\n",
       "\u001b[1;36m18\u001b[0m             \u001b[1;36m498\u001b[0m  no_na\n",
       "\u001b[1;36m19\u001b[0m               \u001b[1;36m1\u001b[0m     na\n",
       "\u001b[1;36m20\u001b[0m              \u001b[1;36m11\u001b[0m  no_na\n",
       "\u001b[1;36m21\u001b[0m               \u001b[1;36m1\u001b[0m     na\n",
       "\u001b[1;36m22\u001b[0m               \u001b[1;36m1\u001b[0m  no_na\n",
       "\u001b[1;36m23\u001b[0m               \u001b[1;36m1\u001b[0m     na\n",
       "\u001b[1;36m24\u001b[0m              \u001b[1;36m39\u001b[0m  no_na\n",
       "\u001b[1;36m25\u001b[0m               \u001b[1;36m1\u001b[0m     na\n",
       "\u001b[1;36m26\u001b[0m              \u001b[1;36m49\u001b[0m  no_na\n",
       "\u001b[1;36m27\u001b[0m               \u001b[1;36m1\u001b[0m     na\n",
       "\u001b[1;36m28\u001b[0m              \u001b[1;36m62\u001b[0m  no_na\n",
       "\u001b[1;36m29\u001b[0m               \u001b[1;36m1\u001b[0m     na\n",
       "\u001b[1;36m30\u001b[0m              \u001b[1;36m66\u001b[0m  no_na\n",
       "\u001b[1;36m31\u001b[0m               \u001b[1;36m1\u001b[0m     na\n",
       "\u001b[1;36m32\u001b[0m               \u001b[1;36m6\u001b[0m  no_na\n",
       "\u001b[1;36m33\u001b[0m               \u001b[1;36m1\u001b[0m     na\n",
       "\u001b[1;36m34\u001b[0m              \u001b[1;36m45\u001b[0m  no_na\n",
       "\u001b[1;36m35\u001b[0m               \u001b[1;36m1\u001b[0m     na\n",
       "\u001b[1;36m36\u001b[0m              \u001b[1;36m33\u001b[0m  no_na\n",
       "\u001b[1;36m37\u001b[0m               \u001b[1;36m1\u001b[0m     na\n",
       "\u001b[1;36m38\u001b[0m               \u001b[1;36m9\u001b[0m  no_na\n",
       "\u001b[1;36m39\u001b[0m               \u001b[1;36m1\u001b[0m     na\n",
       "\u001b[1;36m40\u001b[0m              \u001b[1;36m41\u001b[0m  no_na\n",
       "\u001b[1;36m41\u001b[0m               \u001b[1;36m1\u001b[0m     na\n",
       "\u001b[1;36m42\u001b[0m             \u001b[1;36m101\u001b[0m  no_na\n",
       "\u001b[1;36m43\u001b[0m               \u001b[1;36m2\u001b[0m     na\n",
       "\u001b[1;36m44\u001b[0m              \u001b[1;36m12\u001b[0m  no_na\n",
       "\u001b[1;36m45\u001b[0m               \u001b[1;36m1\u001b[0m     na\n"
      ]
     },
     "metadata": {},
     "output_type": "display_data"
    },
    {
     "data": {
      "text/html": [
       "<pre style=\"white-space:pre;overflow-x:auto;line-height:normal;font-family:Menlo,'DejaVu Sans Mono',consolas,'Courier New',monospace\"><span style=\"text-decoration: underline\">Missing variable sections for </span><span style=\"color: #af00ff; text-decoration-color: #af00ff; text-decoration: underline\">start_dt</span>\n",
       "\n",
       "</pre>\n"
      ],
      "text/plain": [
       "\u001b[4mMissing variable sections for \u001b[0m\u001b[4;38;5;129mstart_dt\u001b[0m\n",
       "\n"
      ]
     },
     "metadata": {},
     "output_type": "display_data"
    },
    {
     "data": {
      "text/html": [
       "<pre style=\"white-space:pre;overflow-x:auto;line-height:normal;font-family:Menlo,'DejaVu Sans Mono',consolas,'Courier New',monospace\">   num_in_section  value\n",
       "<span style=\"color: #008080; text-decoration-color: #008080; font-weight: bold\">0</span>            <span style=\"color: #008080; text-decoration-color: #008080; font-weight: bold\">1752</span>  no_na\n",
       "</pre>\n"
      ],
      "text/plain": [
       "   num_in_section  value\n",
       "\u001b[1;36m0\u001b[0m            \u001b[1;36m1752\u001b[0m  no_na\n"
      ]
     },
     "metadata": {},
     "output_type": "display_data"
    },
    {
     "data": {
      "text/html": [
       "<pre style=\"white-space:pre;overflow-x:auto;line-height:normal;font-family:Menlo,'DejaVu Sans Mono',consolas,'Courier New',monospace\"><span style=\"text-decoration: underline\">Missing variable sections for </span><span style=\"color: #af00ff; text-decoration-color: #af00ff; text-decoration: underline\">end_dt</span>\n",
       "\n",
       "</pre>\n"
      ],
      "text/plain": [
       "\u001b[4mMissing variable sections for \u001b[0m\u001b[4;38;5;129mend_dt\u001b[0m\n",
       "\n"
      ]
     },
     "metadata": {},
     "output_type": "display_data"
    },
    {
     "data": {
      "text/html": [
       "<pre style=\"white-space:pre;overflow-x:auto;line-height:normal;font-family:Menlo,'DejaVu Sans Mono',consolas,'Courier New',monospace\">   num_in_section  value\n",
       "<span style=\"color: #008080; text-decoration-color: #008080; font-weight: bold\">0</span>            <span style=\"color: #008080; text-decoration-color: #008080; font-weight: bold\">1752</span>  no_na\n",
       "</pre>\n"
      ],
      "text/plain": [
       "   num_in_section  value\n",
       "\u001b[1;36m0\u001b[0m            \u001b[1;36m1752\u001b[0m  no_na\n"
      ]
     },
     "metadata": {},
     "output_type": "display_data"
    },
    {
     "data": {
      "text/html": [
       "<pre style=\"white-space:pre;overflow-x:auto;line-height:normal;font-family:Menlo,'DejaVu Sans Mono',consolas,'Courier New',monospace\"><span style=\"text-decoration: underline\">Missing variable sections for </span><span style=\"color: #af00ff; text-decoration-color: #af00ff; text-decoration: underline\">aired_on</span>\n",
       "\n",
       "</pre>\n"
      ],
      "text/plain": [
       "\u001b[4mMissing variable sections for \u001b[0m\u001b[4;38;5;129maired_on\u001b[0m\n",
       "\n"
      ]
     },
     "metadata": {},
     "output_type": "display_data"
    },
    {
     "data": {
      "text/html": [
       "<pre style=\"white-space:pre;overflow-x:auto;line-height:normal;font-family:Menlo,'DejaVu Sans Mono',consolas,'Courier New',monospace\">     num_in_section  value\n",
       "<span style=\"color: #008080; text-decoration-color: #008080; font-weight: bold\">0</span>                <span style=\"color: #008080; text-decoration-color: #008080; font-weight: bold\">37</span>  no_na\n",
       "<span style=\"color: #008080; text-decoration-color: #008080; font-weight: bold\">1</span>                 <span style=\"color: #008080; text-decoration-color: #008080; font-weight: bold\">1</span>     na\n",
       "<span style=\"color: #008080; text-decoration-color: #008080; font-weight: bold\">2</span>                <span style=\"color: #008080; text-decoration-color: #008080; font-weight: bold\">14</span>  no_na\n",
       "<span style=\"color: #008080; text-decoration-color: #008080; font-weight: bold\">3</span>                 <span style=\"color: #008080; text-decoration-color: #008080; font-weight: bold\">1</span>     na\n",
       "<span style=\"color: #008080; text-decoration-color: #008080; font-weight: bold\">4</span>                <span style=\"color: #008080; text-decoration-color: #008080; font-weight: bold\">14</span>  no_na\n",
       "..              <span style=\"color: #808000; text-decoration-color: #808000\">...</span>    <span style=\"color: #808000; text-decoration-color: #808000\">...</span>\n",
       "<span style=\"color: #008080; text-decoration-color: #008080; font-weight: bold\">381</span>               <span style=\"color: #008080; text-decoration-color: #008080; font-weight: bold\">1</span>     na\n",
       "<span style=\"color: #008080; text-decoration-color: #008080; font-weight: bold\">382</span>              <span style=\"color: #008080; text-decoration-color: #008080; font-weight: bold\">17</span>  no_na\n",
       "<span style=\"color: #008080; text-decoration-color: #008080; font-weight: bold\">383</span>               <span style=\"color: #008080; text-decoration-color: #008080; font-weight: bold\">3</span>     na\n",
       "<span style=\"color: #008080; text-decoration-color: #008080; font-weight: bold\">384</span>              <span style=\"color: #008080; text-decoration-color: #008080; font-weight: bold\">43</span>  no_na\n",
       "<span style=\"color: #008080; text-decoration-color: #008080; font-weight: bold\">385</span>               <span style=\"color: #008080; text-decoration-color: #008080; font-weight: bold\">1</span>     na\n",
       "\n",
       "<span style=\"font-weight: bold\">[</span><span style=\"color: #008080; text-decoration-color: #008080; font-weight: bold\">386</span> rows x <span style=\"color: #008080; text-decoration-color: #008080; font-weight: bold\">2</span> columns<span style=\"font-weight: bold\">]</span>\n",
       "</pre>\n"
      ],
      "text/plain": [
       "     num_in_section  value\n",
       "\u001b[1;36m0\u001b[0m                \u001b[1;36m37\u001b[0m  no_na\n",
       "\u001b[1;36m1\u001b[0m                 \u001b[1;36m1\u001b[0m     na\n",
       "\u001b[1;36m2\u001b[0m                \u001b[1;36m14\u001b[0m  no_na\n",
       "\u001b[1;36m3\u001b[0m                 \u001b[1;36m1\u001b[0m     na\n",
       "\u001b[1;36m4\u001b[0m                \u001b[1;36m14\u001b[0m  no_na\n",
       "..              \u001b[33m...\u001b[0m    \u001b[33m...\u001b[0m\n",
       "\u001b[1;36m381\u001b[0m               \u001b[1;36m1\u001b[0m     na\n",
       "\u001b[1;36m382\u001b[0m              \u001b[1;36m17\u001b[0m  no_na\n",
       "\u001b[1;36m383\u001b[0m               \u001b[1;36m3\u001b[0m     na\n",
       "\u001b[1;36m384\u001b[0m              \u001b[1;36m43\u001b[0m  no_na\n",
       "\u001b[1;36m385\u001b[0m               \u001b[1;36m1\u001b[0m     na\n",
       "\n",
       "\u001b[1m[\u001b[0m\u001b[1;36m386\u001b[0m rows x \u001b[1;36m2\u001b[0m columns\u001b[1m]\u001b[0m\n"
      ]
     },
     "metadata": {},
     "output_type": "display_data"
    },
    {
     "data": {
      "text/html": [
       "<pre style=\"white-space:pre;overflow-x:auto;line-height:normal;font-family:Menlo,'DejaVu Sans Mono',consolas,'Courier New',monospace\"><span style=\"text-decoration: underline\">Missing variable sections for </span><span style=\"color: #af00ff; text-decoration-color: #af00ff; text-decoration: underline\">org_net</span>\n",
       "\n",
       "</pre>\n"
      ],
      "text/plain": [
       "\u001b[4mMissing variable sections for \u001b[0m\u001b[4;38;5;129morg_net\u001b[0m\n",
       "\n"
      ]
     },
     "metadata": {},
     "output_type": "display_data"
    },
    {
     "data": {
      "text/html": [
       "<pre style=\"white-space:pre;overflow-x:auto;line-height:normal;font-family:Menlo,'DejaVu Sans Mono',consolas,'Courier New',monospace\">     num_in_section  value\n",
       "<span style=\"color: #008080; text-decoration-color: #008080; font-weight: bold\">0</span>                 <span style=\"color: #008080; text-decoration-color: #008080; font-weight: bold\">1</span>     na\n",
       "<span style=\"color: #008080; text-decoration-color: #008080; font-weight: bold\">1</span>                 <span style=\"color: #008080; text-decoration-color: #008080; font-weight: bold\">2</span>  no_na\n",
       "<span style=\"color: #008080; text-decoration-color: #008080; font-weight: bold\">2</span>                 <span style=\"color: #008080; text-decoration-color: #008080; font-weight: bold\">1</span>     na\n",
       "<span style=\"color: #008080; text-decoration-color: #008080; font-weight: bold\">3</span>                 <span style=\"color: #008080; text-decoration-color: #008080; font-weight: bold\">4</span>  no_na\n",
       "<span style=\"color: #008080; text-decoration-color: #008080; font-weight: bold\">4</span>                 <span style=\"color: #008080; text-decoration-color: #008080; font-weight: bold\">1</span>     na\n",
       "..              <span style=\"color: #808000; text-decoration-color: #808000\">...</span>    <span style=\"color: #808000; text-decoration-color: #808000\">...</span>\n",
       "<span style=\"color: #008080; text-decoration-color: #008080; font-weight: bold\">576</span>               <span style=\"color: #008080; text-decoration-color: #008080; font-weight: bold\">1</span>     na\n",
       "<span style=\"color: #008080; text-decoration-color: #008080; font-weight: bold\">577</span>               <span style=\"color: #008080; text-decoration-color: #008080; font-weight: bold\">4</span>  no_na\n",
       "<span style=\"color: #008080; text-decoration-color: #008080; font-weight: bold\">578</span>               <span style=\"color: #008080; text-decoration-color: #008080; font-weight: bold\">1</span>     na\n",
       "<span style=\"color: #008080; text-decoration-color: #008080; font-weight: bold\">579</span>              <span style=\"color: #008080; text-decoration-color: #008080; font-weight: bold\">44</span>  no_na\n",
       "<span style=\"color: #008080; text-decoration-color: #008080; font-weight: bold\">580</span>               <span style=\"color: #008080; text-decoration-color: #008080; font-weight: bold\">1</span>     na\n",
       "\n",
       "<span style=\"font-weight: bold\">[</span><span style=\"color: #008080; text-decoration-color: #008080; font-weight: bold\">581</span> rows x <span style=\"color: #008080; text-decoration-color: #008080; font-weight: bold\">2</span> columns<span style=\"font-weight: bold\">]</span>\n",
       "</pre>\n"
      ],
      "text/plain": [
       "     num_in_section  value\n",
       "\u001b[1;36m0\u001b[0m                 \u001b[1;36m1\u001b[0m     na\n",
       "\u001b[1;36m1\u001b[0m                 \u001b[1;36m2\u001b[0m  no_na\n",
       "\u001b[1;36m2\u001b[0m                 \u001b[1;36m1\u001b[0m     na\n",
       "\u001b[1;36m3\u001b[0m                 \u001b[1;36m4\u001b[0m  no_na\n",
       "\u001b[1;36m4\u001b[0m                 \u001b[1;36m1\u001b[0m     na\n",
       "..              \u001b[33m...\u001b[0m    \u001b[33m...\u001b[0m\n",
       "\u001b[1;36m576\u001b[0m               \u001b[1;36m1\u001b[0m     na\n",
       "\u001b[1;36m577\u001b[0m               \u001b[1;36m4\u001b[0m  no_na\n",
       "\u001b[1;36m578\u001b[0m               \u001b[1;36m1\u001b[0m     na\n",
       "\u001b[1;36m579\u001b[0m              \u001b[1;36m44\u001b[0m  no_na\n",
       "\u001b[1;36m580\u001b[0m               \u001b[1;36m1\u001b[0m     na\n",
       "\n",
       "\u001b[1m[\u001b[0m\u001b[1;36m581\u001b[0m rows x \u001b[1;36m2\u001b[0m columns\u001b[1m]\u001b[0m\n"
      ]
     },
     "metadata": {},
     "output_type": "display_data"
    },
    {
     "data": {
      "text/html": [
       "<pre style=\"white-space:pre;overflow-x:auto;line-height:normal;font-family:Menlo,'DejaVu Sans Mono',consolas,'Courier New',monospace\"><span style=\"text-decoration: underline\">Missing variable sections for </span><span style=\"color: #af00ff; text-decoration-color: #af00ff; text-decoration: underline\">content_rt</span>\n",
       "\n",
       "</pre>\n"
      ],
      "text/plain": [
       "\u001b[4mMissing variable sections for \u001b[0m\u001b[4;38;5;129mcontent_rt\u001b[0m\n",
       "\n"
      ]
     },
     "metadata": {},
     "output_type": "display_data"
    },
    {
     "data": {
      "text/html": [
       "<pre style=\"white-space:pre;overflow-x:auto;line-height:normal;font-family:Menlo,'DejaVu Sans Mono',consolas,'Courier New',monospace\">   num_in_section  value\n",
       "<span style=\"color: #008080; text-decoration-color: #008080; font-weight: bold\">0</span>            <span style=\"color: #008080; text-decoration-color: #008080; font-weight: bold\">1752</span>  no_na\n",
       "</pre>\n"
      ],
      "text/plain": [
       "   num_in_section  value\n",
       "\u001b[1;36m0\u001b[0m            \u001b[1;36m1752\u001b[0m  no_na\n"
      ]
     },
     "metadata": {},
     "output_type": "display_data"
    },
    {
     "data": {
      "text/html": [
       "<pre style=\"white-space:pre;overflow-x:auto;line-height:normal;font-family:Menlo,'DejaVu Sans Mono',consolas,'Courier New',monospace\"><span style=\"text-decoration: underline\">Missing variable sections for </span><span style=\"color: #af00ff; text-decoration-color: #af00ff; text-decoration: underline\">synopsis</span>\n",
       "\n",
       "</pre>\n"
      ],
      "text/plain": [
       "\u001b[4mMissing variable sections for \u001b[0m\u001b[4;38;5;129msynopsis\u001b[0m\n",
       "\n"
      ]
     },
     "metadata": {},
     "output_type": "display_data"
    },
    {
     "data": {
      "text/html": [
       "<pre style=\"white-space:pre;overflow-x:auto;line-height:normal;font-family:Menlo,'DejaVu Sans Mono',consolas,'Courier New',monospace\">     num_in_section  value\n",
       "<span style=\"color: #008080; text-decoration-color: #008080; font-weight: bold\">0</span>                <span style=\"color: #008080; text-decoration-color: #008080; font-weight: bold\">49</span>  no_na\n",
       "<span style=\"color: #008080; text-decoration-color: #008080; font-weight: bold\">1</span>                 <span style=\"color: #008080; text-decoration-color: #008080; font-weight: bold\">1</span>     na\n",
       "<span style=\"color: #008080; text-decoration-color: #008080; font-weight: bold\">2</span>                 <span style=\"color: #008080; text-decoration-color: #008080; font-weight: bold\">2</span>  no_na\n",
       "<span style=\"color: #008080; text-decoration-color: #008080; font-weight: bold\">3</span>                 <span style=\"color: #008080; text-decoration-color: #008080; font-weight: bold\">1</span>     na\n",
       "<span style=\"color: #008080; text-decoration-color: #008080; font-weight: bold\">4</span>                <span style=\"color: #008080; text-decoration-color: #008080; font-weight: bold\">14</span>  no_na\n",
       "..              <span style=\"color: #808000; text-decoration-color: #808000\">...</span>    <span style=\"color: #808000; text-decoration-color: #808000\">...</span>\n",
       "<span style=\"color: #008080; text-decoration-color: #008080; font-weight: bold\">294</span>              <span style=\"color: #008080; text-decoration-color: #008080; font-weight: bold\">57</span>  no_na\n",
       "<span style=\"color: #008080; text-decoration-color: #008080; font-weight: bold\">295</span>               <span style=\"color: #008080; text-decoration-color: #008080; font-weight: bold\">1</span>     na\n",
       "<span style=\"color: #008080; text-decoration-color: #008080; font-weight: bold\">296</span>              <span style=\"color: #008080; text-decoration-color: #008080; font-weight: bold\">53</span>  no_na\n",
       "<span style=\"color: #008080; text-decoration-color: #008080; font-weight: bold\">297</span>               <span style=\"color: #008080; text-decoration-color: #008080; font-weight: bold\">1</span>     na\n",
       "<span style=\"color: #008080; text-decoration-color: #008080; font-weight: bold\">298</span>              <span style=\"color: #008080; text-decoration-color: #008080; font-weight: bold\">77</span>  no_na\n",
       "\n",
       "<span style=\"font-weight: bold\">[</span><span style=\"color: #008080; text-decoration-color: #008080; font-weight: bold\">299</span> rows x <span style=\"color: #008080; text-decoration-color: #008080; font-weight: bold\">2</span> columns<span style=\"font-weight: bold\">]</span>\n",
       "</pre>\n"
      ],
      "text/plain": [
       "     num_in_section  value\n",
       "\u001b[1;36m0\u001b[0m                \u001b[1;36m49\u001b[0m  no_na\n",
       "\u001b[1;36m1\u001b[0m                 \u001b[1;36m1\u001b[0m     na\n",
       "\u001b[1;36m2\u001b[0m                 \u001b[1;36m2\u001b[0m  no_na\n",
       "\u001b[1;36m3\u001b[0m                 \u001b[1;36m1\u001b[0m     na\n",
       "\u001b[1;36m4\u001b[0m                \u001b[1;36m14\u001b[0m  no_na\n",
       "..              \u001b[33m...\u001b[0m    \u001b[33m...\u001b[0m\n",
       "\u001b[1;36m294\u001b[0m              \u001b[1;36m57\u001b[0m  no_na\n",
       "\u001b[1;36m295\u001b[0m               \u001b[1;36m1\u001b[0m     na\n",
       "\u001b[1;36m296\u001b[0m              \u001b[1;36m53\u001b[0m  no_na\n",
       "\u001b[1;36m297\u001b[0m               \u001b[1;36m1\u001b[0m     na\n",
       "\u001b[1;36m298\u001b[0m              \u001b[1;36m77\u001b[0m  no_na\n",
       "\n",
       "\u001b[1m[\u001b[0m\u001b[1;36m299\u001b[0m rows x \u001b[1;36m2\u001b[0m columns\u001b[1m]\u001b[0m\n"
      ]
     },
     "metadata": {},
     "output_type": "display_data"
    },
    {
     "data": {
      "text/html": [
       "<pre style=\"white-space:pre;overflow-x:auto;line-height:normal;font-family:Menlo,'DejaVu Sans Mono',consolas,'Courier New',monospace\"><span style=\"text-decoration: underline\">Missing variable sections for </span><span style=\"color: #af00ff; text-decoration-color: #af00ff; text-decoration: underline\">rank</span>\n",
       "\n",
       "</pre>\n"
      ],
      "text/plain": [
       "\u001b[4mMissing variable sections for \u001b[0m\u001b[4;38;5;129mrank\u001b[0m\n",
       "\n"
      ]
     },
     "metadata": {},
     "output_type": "display_data"
    },
    {
     "data": {
      "text/html": [
       "<pre style=\"white-space:pre;overflow-x:auto;line-height:normal;font-family:Menlo,'DejaVu Sans Mono',consolas,'Courier New',monospace\">   num_in_section  value\n",
       "<span style=\"color: #008080; text-decoration-color: #008080; font-weight: bold\">0</span>            <span style=\"color: #008080; text-decoration-color: #008080; font-weight: bold\">1752</span>  no_na\n",
       "</pre>\n"
      ],
      "text/plain": [
       "   num_in_section  value\n",
       "\u001b[1;36m0\u001b[0m            \u001b[1;36m1752\u001b[0m  no_na\n"
      ]
     },
     "metadata": {},
     "output_type": "display_data"
    },
    {
     "data": {
      "text/html": [
       "<pre style=\"white-space:pre;overflow-x:auto;line-height:normal;font-family:Menlo,'DejaVu Sans Mono',consolas,'Courier New',monospace\"><span style=\"text-decoration: underline\">Missing variable sections for </span><span style=\"color: #af00ff; text-decoration-color: #af00ff; text-decoration: underline\">pop</span>\n",
       "\n",
       "</pre>\n"
      ],
      "text/plain": [
       "\u001b[4mMissing variable sections for \u001b[0m\u001b[4;38;5;129mpop\u001b[0m\n",
       "\n"
      ]
     },
     "metadata": {},
     "output_type": "display_data"
    },
    {
     "data": {
      "text/html": [
       "<pre style=\"white-space:pre;overflow-x:auto;line-height:normal;font-family:Menlo,'DejaVu Sans Mono',consolas,'Courier New',monospace\">   num_in_section  value\n",
       "<span style=\"color: #008080; text-decoration-color: #008080; font-weight: bold\">0</span>            <span style=\"color: #008080; text-decoration-color: #008080; font-weight: bold\">1752</span>  no_na\n",
       "</pre>\n"
      ],
      "text/plain": [
       "   num_in_section  value\n",
       "\u001b[1;36m0\u001b[0m            \u001b[1;36m1752\u001b[0m  no_na\n"
      ]
     },
     "metadata": {},
     "output_type": "display_data"
    }
   ],
   "source": [
    "import itertools\n",
    "\n",
    "\n",
    "def missing_variable_sections(data: pd.DataFrame, variable: str) -> pd.DataFrame:\n",
    "    rle_list = data[variable].pipe(\n",
    "        lambda x: (\n",
    "            [(len(list(group)), key) for key, group in itertools.groupby(x.isna())]\n",
    "        )\n",
    "    )\n",
    "\n",
    "    return(\n",
    "        pd.DataFrame(\n",
    "            rle_list,\n",
    "            columns=['num_in_section', 'value']\n",
    "        )\n",
    "        .replace({\n",
    "            False: 'no_na',\n",
    "            True: 'na'\n",
    "        })\n",
    "    )\n",
    "\n",
    "for column in k_dramas.columns:\n",
    "    df = missing_variable_sections(k_dramas, column)\n",
    "    print(f'[underline]Missing variable sections for [purple]{column}[/purple][/underline]\\n')\n",
    "    print(df)"
   ]
  },
  {
   "cell_type": "markdown",
   "metadata": {},
   "source": [
    "---"
   ]
  },
  {
   "cell_type": "markdown",
   "metadata": {},
   "source": [
    "## Análisis Exploratorio de Datos"
   ]
  },
  {
   "cell_type": "code",
   "execution_count": 15,
   "metadata": {},
   "outputs": [],
   "source": [
    "# k_dramas.info()"
   ]
  },
  {
   "cell_type": "code",
   "execution_count": 16,
   "metadata": {},
   "outputs": [],
   "source": [
    "# k_dramas.describe()"
   ]
  },
  {
   "cell_type": "markdown",
   "metadata": {},
   "source": [
    "Se descubrió que la duración puede que no sea por el dorama completo, sino por episodio. Por lo que se procede a hacer una nueva columna con la duración total del dorama."
   ]
  },
  {
   "cell_type": "code",
   "execution_count": 17,
   "metadata": {},
   "outputs": [],
   "source": [
    "# k_dramas['tot_duration'] = k_dramas['tot_eps'] * k_dramas['duration']"
   ]
  },
  {
   "cell_type": "code",
   "execution_count": 18,
   "metadata": {},
   "outputs": [],
   "source": [
    "# k_dramas.plot(kind='scatter', x='tot_eps', y='tot_duration', figsize=(14, 6), grid=True)"
   ]
  }
 ],
 "metadata": {
  "kernelspec": {
   "display_name": "Python 3",
   "language": "python",
   "name": "python3"
  },
  "language_info": {
   "codemirror_mode": {
    "name": "ipython",
    "version": 3
   },
   "file_extension": ".py",
   "mimetype": "text/x-python",
   "name": "python",
   "nbconvert_exporter": "python",
   "pygments_lexer": "ipython3",
   "version": "3.11.4"
  },
  "orig_nbformat": 4
 },
 "nbformat": 4,
 "nbformat_minor": 2
}
