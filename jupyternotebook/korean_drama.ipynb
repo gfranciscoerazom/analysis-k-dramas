{
 "cells": [
  {
   "cell_type": "code",
   "execution_count": 72,
   "metadata": {},
   "outputs": [],
   "source": [
    "import pandas as pd\n",
    "from rich import print"
   ]
  },
  {
   "cell_type": "code",
   "execution_count": 73,
   "metadata": {},
   "outputs": [
    {
     "data": {
      "text/html": [
       "<div>\n",
       "<style scoped>\n",
       "    .dataframe tbody tr th:only-of-type {\n",
       "        vertical-align: middle;\n",
       "    }\n",
       "\n",
       "    .dataframe tbody tr th {\n",
       "        vertical-align: top;\n",
       "    }\n",
       "\n",
       "    .dataframe thead th {\n",
       "        text-align: right;\n",
       "    }\n",
       "</style>\n",
       "<table border=\"1\" class=\"dataframe\">\n",
       "  <thead>\n",
       "    <tr style=\"text-align: right;\">\n",
       "      <th></th>\n",
       "      <th>drama_name</th>\n",
       "      <th>year</th>\n",
       "      <th>director</th>\n",
       "      <th>screenwriter</th>\n",
       "      <th>country</th>\n",
       "      <th>type</th>\n",
       "      <th>tot_eps</th>\n",
       "      <th>duration</th>\n",
       "      <th>start_dt</th>\n",
       "      <th>end_dt</th>\n",
       "      <th>aired_on</th>\n",
       "      <th>org_net</th>\n",
       "      <th>content_rt</th>\n",
       "      <th>synopsis</th>\n",
       "      <th>rank</th>\n",
       "      <th>pop</th>\n",
       "    </tr>\n",
       "    <tr>\n",
       "      <th>kdrama_id</th>\n",
       "      <th></th>\n",
       "      <th></th>\n",
       "      <th></th>\n",
       "      <th></th>\n",
       "      <th></th>\n",
       "      <th></th>\n",
       "      <th></th>\n",
       "      <th></th>\n",
       "      <th></th>\n",
       "      <th></th>\n",
       "      <th></th>\n",
       "      <th></th>\n",
       "      <th></th>\n",
       "      <th></th>\n",
       "      <th></th>\n",
       "      <th></th>\n",
       "    </tr>\n",
       "  </thead>\n",
       "  <tbody>\n",
       "    <tr>\n",
       "      <th>661d4193916c4e71a2c70473ab11e9e8</th>\n",
       "      <td>Sing My Crush</td>\n",
       "      <td>2023</td>\n",
       "      <td>['So Joon Moon']</td>\n",
       "      <td>NaN</td>\n",
       "      <td>South Korea</td>\n",
       "      <td>Drama</td>\n",
       "      <td>8</td>\n",
       "      <td>1500.0</td>\n",
       "      <td>Aug  2, 2023</td>\n",
       "      <td>Aug  2, 2023</td>\n",
       "      <td>Wednesday</td>\n",
       "      <td>NaN</td>\n",
       "      <td>Not Yet Rated</td>\n",
       "      <td>Follow the story of acquaintances Ba Ram and H...</td>\n",
       "      <td>1484</td>\n",
       "      <td>2238</td>\n",
       "    </tr>\n",
       "    <tr>\n",
       "      <th>5ffcbeaa17114714af1959129984274c</th>\n",
       "      <td>D.P. Season 2</td>\n",
       "      <td>2023</td>\n",
       "      <td>NaN</td>\n",
       "      <td>['Kim Bo Tong']</td>\n",
       "      <td>South Korea</td>\n",
       "      <td>Drama</td>\n",
       "      <td>6</td>\n",
       "      <td>3000.0</td>\n",
       "      <td>Jul 28, 2023</td>\n",
       "      <td>Jul 28, 2023</td>\n",
       "      <td>Friday</td>\n",
       "      <td>Netflix</td>\n",
       "      <td>15+ - Teens 15 or older</td>\n",
       "      <td>This unfolding story ensues when military dese...</td>\n",
       "      <td>164</td>\n",
       "      <td>1084</td>\n",
       "    </tr>\n",
       "    <tr>\n",
       "      <th>65075cb9c1a54be4a441cee6f16c9fdf</th>\n",
       "      <td>Shadow Detective Season 2</td>\n",
       "      <td>2023</td>\n",
       "      <td>['Han Dong Hwa']</td>\n",
       "      <td>['Song Jung Woo', 'Hwang Seol Hun']</td>\n",
       "      <td>South Korea</td>\n",
       "      <td>Drama</td>\n",
       "      <td>8</td>\n",
       "      <td>3300.0</td>\n",
       "      <td>2023-07-05</td>\n",
       "      <td>2023-07-26</td>\n",
       "      <td>Wednesday</td>\n",
       "      <td>Disney+ Hulu</td>\n",
       "      <td>15+ - Teens 15 or older</td>\n",
       "      <td>Unfolds the ultimate counterattack of veteran ...</td>\n",
       "      <td>2443</td>\n",
       "      <td>6915</td>\n",
       "    </tr>\n",
       "    <tr>\n",
       "      <th>df0f0ac4b3ff4b15afa26f5a7a53a328</th>\n",
       "      <td>To Be Honest</td>\n",
       "      <td>2023</td>\n",
       "      <td>NaN</td>\n",
       "      <td>NaN</td>\n",
       "      <td>South Korea</td>\n",
       "      <td>Drama</td>\n",
       "      <td>3</td>\n",
       "      <td>600.0</td>\n",
       "      <td>2023-06-30</td>\n",
       "      <td>2023-07-14</td>\n",
       "      <td>Friday</td>\n",
       "      <td>NaN</td>\n",
       "      <td>Not Yet Rated</td>\n",
       "      <td>Don't you have those days where the whole univ...</td>\n",
       "      <td>49895</td>\n",
       "      <td>99999</td>\n",
       "    </tr>\n",
       "    <tr>\n",
       "      <th>04c1fe41948e464fb440001831d74d41</th>\n",
       "      <td>Celebrity</td>\n",
       "      <td>2023</td>\n",
       "      <td>['Kim Chul Gyu']</td>\n",
       "      <td>['Kim Yi Young']</td>\n",
       "      <td>South Korea</td>\n",
       "      <td>Drama</td>\n",
       "      <td>12</td>\n",
       "      <td>2700.0</td>\n",
       "      <td>Jun 30, 2023</td>\n",
       "      <td>Jun 30, 2023</td>\n",
       "      <td>Friday</td>\n",
       "      <td>Netflix</td>\n",
       "      <td>18+ Restricted (violence &amp; profanity)</td>\n",
       "      <td>Fame. Money. Power. One young woman fights to ...</td>\n",
       "      <td>826</td>\n",
       "      <td>547</td>\n",
       "    </tr>\n",
       "    <tr>\n",
       "      <th>...</th>\n",
       "      <td>...</td>\n",
       "      <td>...</td>\n",
       "      <td>...</td>\n",
       "      <td>...</td>\n",
       "      <td>...</td>\n",
       "      <td>...</td>\n",
       "      <td>...</td>\n",
       "      <td>...</td>\n",
       "      <td>...</td>\n",
       "      <td>...</td>\n",
       "      <td>...</td>\n",
       "      <td>...</td>\n",
       "      <td>...</td>\n",
       "      <td>...</td>\n",
       "      <td>...</td>\n",
       "      <td>...</td>\n",
       "    </tr>\n",
       "    <tr>\n",
       "      <th>e8c09f0f7d0d4b75a4642eb06d76d811</th>\n",
       "      <td>Kill Me, Heal Me</td>\n",
       "      <td>2015</td>\n",
       "      <td>['Kim Jin Man', 'Kim Dae Jin']</td>\n",
       "      <td>['Jin Soo Wan']</td>\n",
       "      <td>South Korea</td>\n",
       "      <td>Drama</td>\n",
       "      <td>20</td>\n",
       "      <td>3720.0</td>\n",
       "      <td>2015-01-07</td>\n",
       "      <td>2015-03-12</td>\n",
       "      <td>Wednesday, Thursday</td>\n",
       "      <td>MBC</td>\n",
       "      <td>15+ - Teens 15 or older</td>\n",
       "      <td>A traumatic childhood experience leaves Cha Do...</td>\n",
       "      <td>232</td>\n",
       "      <td>29</td>\n",
       "    </tr>\n",
       "    <tr>\n",
       "      <th>1e7f7f2fa45d4240b8bb585ca13040f0</th>\n",
       "      <td>Enchanting Neighbor</td>\n",
       "      <td>2015</td>\n",
       "      <td>['Park Kyung Ryul']</td>\n",
       "      <td>['Park Hye Ryun']</td>\n",
       "      <td>South Korea</td>\n",
       "      <td>Drama</td>\n",
       "      <td>120</td>\n",
       "      <td>2100.0</td>\n",
       "      <td>2015-01-05</td>\n",
       "      <td>2015-06-22</td>\n",
       "      <td>Monday, Tuesday, Wednesday, Thursday, Friday</td>\n",
       "      <td>SBS</td>\n",
       "      <td>15+ - Teens 15 or older</td>\n",
       "      <td>Gong Soo Rae only love her husband, Seo Bong G...</td>\n",
       "      <td>47882</td>\n",
       "      <td>10759</td>\n",
       "    </tr>\n",
       "    <tr>\n",
       "      <th>142a09741fdd4daa878d6ae007201e43</th>\n",
       "      <td>Iron Lady Cha</td>\n",
       "      <td>2015</td>\n",
       "      <td>['Jang Joon Ho', 'Oh Hyun Chang']</td>\n",
       "      <td>['Seol Kyung Eun']</td>\n",
       "      <td>South Korea</td>\n",
       "      <td>Drama</td>\n",
       "      <td>111</td>\n",
       "      <td>2400.0</td>\n",
       "      <td>2015-01-05</td>\n",
       "      <td>2015-06-12</td>\n",
       "      <td>Monday, Tuesday, Wednesday, Thursday, Friday</td>\n",
       "      <td>MBC</td>\n",
       "      <td>15+ - Teens 15 or older</td>\n",
       "      <td>People born as a member of the baby boomer gen...</td>\n",
       "      <td>58155</td>\n",
       "      <td>14841</td>\n",
       "    </tr>\n",
       "    <tr>\n",
       "      <th>9170c31a02014b56bb4cec2105086f00</th>\n",
       "      <td>The Family Is Coming</td>\n",
       "      <td>2015</td>\n",
       "      <td>['Joo Dong Min']</td>\n",
       "      <td>['Kim Shin Hye']</td>\n",
       "      <td>South Korea</td>\n",
       "      <td>Drama</td>\n",
       "      <td>20</td>\n",
       "      <td>3600.0</td>\n",
       "      <td>2015-01-03</td>\n",
       "      <td>2015-03-15</td>\n",
       "      <td>Saturday, Sunday</td>\n",
       "      <td>SBS</td>\n",
       "      <td>15+ - Teens 15 or older</td>\n",
       "      <td>A grandma has abandoned her family 50 years ag...</td>\n",
       "      <td>7995</td>\n",
       "      <td>4289</td>\n",
       "    </tr>\n",
       "    <tr>\n",
       "      <th>c19353bdbc7a43ae98b27db202e7c908</th>\n",
       "      <td>Crow Building</td>\n",
       "      <td>2015</td>\n",
       "      <td>NaN</td>\n",
       "      <td>NaN</td>\n",
       "      <td>South Korea</td>\n",
       "      <td>Drama</td>\n",
       "      <td>11</td>\n",
       "      <td>NaN</td>\n",
       "      <td>2015</td>\n",
       "      <td>2015</td>\n",
       "      <td>NaN</td>\n",
       "      <td>NaN</td>\n",
       "      <td>15+ - Teens 15 or older</td>\n",
       "      <td>In this wacky, meta workplace sitcom, a food d...</td>\n",
       "      <td>99999</td>\n",
       "      <td>99999</td>\n",
       "    </tr>\n",
       "  </tbody>\n",
       "</table>\n",
       "<p>1752 rows × 16 columns</p>\n",
       "</div>"
      ],
      "text/plain": [
       "                                                 drama_name  year  \\\n",
       "kdrama_id                                                           \n",
       "661d4193916c4e71a2c70473ab11e9e8              Sing My Crush  2023   \n",
       "5ffcbeaa17114714af1959129984274c              D.P. Season 2  2023   \n",
       "65075cb9c1a54be4a441cee6f16c9fdf  Shadow Detective Season 2  2023   \n",
       "df0f0ac4b3ff4b15afa26f5a7a53a328               To Be Honest  2023   \n",
       "04c1fe41948e464fb440001831d74d41                  Celebrity  2023   \n",
       "...                                                     ...   ...   \n",
       "e8c09f0f7d0d4b75a4642eb06d76d811           Kill Me, Heal Me  2015   \n",
       "1e7f7f2fa45d4240b8bb585ca13040f0        Enchanting Neighbor  2015   \n",
       "142a09741fdd4daa878d6ae007201e43              Iron Lady Cha  2015   \n",
       "9170c31a02014b56bb4cec2105086f00       The Family Is Coming  2015   \n",
       "c19353bdbc7a43ae98b27db202e7c908              Crow Building  2015   \n",
       "\n",
       "                                                           director  \\\n",
       "kdrama_id                                                             \n",
       "661d4193916c4e71a2c70473ab11e9e8                   ['So Joon Moon']   \n",
       "5ffcbeaa17114714af1959129984274c                                NaN   \n",
       "65075cb9c1a54be4a441cee6f16c9fdf                   ['Han Dong Hwa']   \n",
       "df0f0ac4b3ff4b15afa26f5a7a53a328                                NaN   \n",
       "04c1fe41948e464fb440001831d74d41                   ['Kim Chul Gyu']   \n",
       "...                                                             ...   \n",
       "e8c09f0f7d0d4b75a4642eb06d76d811     ['Kim Jin Man', 'Kim Dae Jin']   \n",
       "1e7f7f2fa45d4240b8bb585ca13040f0                ['Park Kyung Ryul']   \n",
       "142a09741fdd4daa878d6ae007201e43  ['Jang Joon Ho', 'Oh Hyun Chang']   \n",
       "9170c31a02014b56bb4cec2105086f00                   ['Joo Dong Min']   \n",
       "c19353bdbc7a43ae98b27db202e7c908                                NaN   \n",
       "\n",
       "                                                         screenwriter  \\\n",
       "kdrama_id                                                               \n",
       "661d4193916c4e71a2c70473ab11e9e8                                  NaN   \n",
       "5ffcbeaa17114714af1959129984274c                      ['Kim Bo Tong']   \n",
       "65075cb9c1a54be4a441cee6f16c9fdf  ['Song Jung Woo', 'Hwang Seol Hun']   \n",
       "df0f0ac4b3ff4b15afa26f5a7a53a328                                  NaN   \n",
       "04c1fe41948e464fb440001831d74d41                     ['Kim Yi Young']   \n",
       "...                                                               ...   \n",
       "e8c09f0f7d0d4b75a4642eb06d76d811                      ['Jin Soo Wan']   \n",
       "1e7f7f2fa45d4240b8bb585ca13040f0                    ['Park Hye Ryun']   \n",
       "142a09741fdd4daa878d6ae007201e43                   ['Seol Kyung Eun']   \n",
       "9170c31a02014b56bb4cec2105086f00                     ['Kim Shin Hye']   \n",
       "c19353bdbc7a43ae98b27db202e7c908                                  NaN   \n",
       "\n",
       "                                      country   type  tot_eps  duration  \\\n",
       "kdrama_id                                                                 \n",
       "661d4193916c4e71a2c70473ab11e9e8  South Korea  Drama        8    1500.0   \n",
       "5ffcbeaa17114714af1959129984274c  South Korea  Drama        6    3000.0   \n",
       "65075cb9c1a54be4a441cee6f16c9fdf  South Korea  Drama        8    3300.0   \n",
       "df0f0ac4b3ff4b15afa26f5a7a53a328  South Korea  Drama        3     600.0   \n",
       "04c1fe41948e464fb440001831d74d41  South Korea  Drama       12    2700.0   \n",
       "...                                       ...    ...      ...       ...   \n",
       "e8c09f0f7d0d4b75a4642eb06d76d811  South Korea  Drama       20    3720.0   \n",
       "1e7f7f2fa45d4240b8bb585ca13040f0  South Korea  Drama      120    2100.0   \n",
       "142a09741fdd4daa878d6ae007201e43  South Korea  Drama      111    2400.0   \n",
       "9170c31a02014b56bb4cec2105086f00  South Korea  Drama       20    3600.0   \n",
       "c19353bdbc7a43ae98b27db202e7c908  South Korea  Drama       11       NaN   \n",
       "\n",
       "                                      start_dt        end_dt  \\\n",
       "kdrama_id                                                      \n",
       "661d4193916c4e71a2c70473ab11e9e8  Aug  2, 2023  Aug  2, 2023   \n",
       "5ffcbeaa17114714af1959129984274c  Jul 28, 2023  Jul 28, 2023   \n",
       "65075cb9c1a54be4a441cee6f16c9fdf    2023-07-05    2023-07-26   \n",
       "df0f0ac4b3ff4b15afa26f5a7a53a328    2023-06-30    2023-07-14   \n",
       "04c1fe41948e464fb440001831d74d41  Jun 30, 2023  Jun 30, 2023   \n",
       "...                                        ...           ...   \n",
       "e8c09f0f7d0d4b75a4642eb06d76d811    2015-01-07    2015-03-12   \n",
       "1e7f7f2fa45d4240b8bb585ca13040f0    2015-01-05    2015-06-22   \n",
       "142a09741fdd4daa878d6ae007201e43    2015-01-05    2015-06-12   \n",
       "9170c31a02014b56bb4cec2105086f00    2015-01-03    2015-03-15   \n",
       "c19353bdbc7a43ae98b27db202e7c908          2015          2015   \n",
       "\n",
       "                                                                      aired_on  \\\n",
       "kdrama_id                                                                        \n",
       "661d4193916c4e71a2c70473ab11e9e8                                     Wednesday   \n",
       "5ffcbeaa17114714af1959129984274c                                        Friday   \n",
       "65075cb9c1a54be4a441cee6f16c9fdf                                     Wednesday   \n",
       "df0f0ac4b3ff4b15afa26f5a7a53a328                                        Friday   \n",
       "04c1fe41948e464fb440001831d74d41                                        Friday   \n",
       "...                                                                        ...   \n",
       "e8c09f0f7d0d4b75a4642eb06d76d811                           Wednesday, Thursday   \n",
       "1e7f7f2fa45d4240b8bb585ca13040f0  Monday, Tuesday, Wednesday, Thursday, Friday   \n",
       "142a09741fdd4daa878d6ae007201e43  Monday, Tuesday, Wednesday, Thursday, Friday   \n",
       "9170c31a02014b56bb4cec2105086f00                              Saturday, Sunday   \n",
       "c19353bdbc7a43ae98b27db202e7c908                                           NaN   \n",
       "\n",
       "                                       org_net  \\\n",
       "kdrama_id                                        \n",
       "661d4193916c4e71a2c70473ab11e9e8           NaN   \n",
       "5ffcbeaa17114714af1959129984274c       Netflix   \n",
       "65075cb9c1a54be4a441cee6f16c9fdf  Disney+ Hulu   \n",
       "df0f0ac4b3ff4b15afa26f5a7a53a328           NaN   \n",
       "04c1fe41948e464fb440001831d74d41       Netflix   \n",
       "...                                        ...   \n",
       "e8c09f0f7d0d4b75a4642eb06d76d811           MBC   \n",
       "1e7f7f2fa45d4240b8bb585ca13040f0           SBS   \n",
       "142a09741fdd4daa878d6ae007201e43           MBC   \n",
       "9170c31a02014b56bb4cec2105086f00           SBS   \n",
       "c19353bdbc7a43ae98b27db202e7c908           NaN   \n",
       "\n",
       "                                                             content_rt  \\\n",
       "kdrama_id                                                                 \n",
       "661d4193916c4e71a2c70473ab11e9e8                          Not Yet Rated   \n",
       "5ffcbeaa17114714af1959129984274c                15+ - Teens 15 or older   \n",
       "65075cb9c1a54be4a441cee6f16c9fdf                15+ - Teens 15 or older   \n",
       "df0f0ac4b3ff4b15afa26f5a7a53a328                          Not Yet Rated   \n",
       "04c1fe41948e464fb440001831d74d41  18+ Restricted (violence & profanity)   \n",
       "...                                                                 ...   \n",
       "e8c09f0f7d0d4b75a4642eb06d76d811                15+ - Teens 15 or older   \n",
       "1e7f7f2fa45d4240b8bb585ca13040f0                15+ - Teens 15 or older   \n",
       "142a09741fdd4daa878d6ae007201e43                15+ - Teens 15 or older   \n",
       "9170c31a02014b56bb4cec2105086f00                15+ - Teens 15 or older   \n",
       "c19353bdbc7a43ae98b27db202e7c908                15+ - Teens 15 or older   \n",
       "\n",
       "                                                                           synopsis  \\\n",
       "kdrama_id                                                                             \n",
       "661d4193916c4e71a2c70473ab11e9e8  Follow the story of acquaintances Ba Ram and H...   \n",
       "5ffcbeaa17114714af1959129984274c  This unfolding story ensues when military dese...   \n",
       "65075cb9c1a54be4a441cee6f16c9fdf  Unfolds the ultimate counterattack of veteran ...   \n",
       "df0f0ac4b3ff4b15afa26f5a7a53a328  Don't you have those days where the whole univ...   \n",
       "04c1fe41948e464fb440001831d74d41  Fame. Money. Power. One young woman fights to ...   \n",
       "...                                                                             ...   \n",
       "e8c09f0f7d0d4b75a4642eb06d76d811  A traumatic childhood experience leaves Cha Do...   \n",
       "1e7f7f2fa45d4240b8bb585ca13040f0  Gong Soo Rae only love her husband, Seo Bong G...   \n",
       "142a09741fdd4daa878d6ae007201e43  People born as a member of the baby boomer gen...   \n",
       "9170c31a02014b56bb4cec2105086f00  A grandma has abandoned her family 50 years ag...   \n",
       "c19353bdbc7a43ae98b27db202e7c908  In this wacky, meta workplace sitcom, a food d...   \n",
       "\n",
       "                                   rank    pop  \n",
       "kdrama_id                                       \n",
       "661d4193916c4e71a2c70473ab11e9e8   1484   2238  \n",
       "5ffcbeaa17114714af1959129984274c    164   1084  \n",
       "65075cb9c1a54be4a441cee6f16c9fdf   2443   6915  \n",
       "df0f0ac4b3ff4b15afa26f5a7a53a328  49895  99999  \n",
       "04c1fe41948e464fb440001831d74d41    826    547  \n",
       "...                                 ...    ...  \n",
       "e8c09f0f7d0d4b75a4642eb06d76d811    232     29  \n",
       "1e7f7f2fa45d4240b8bb585ca13040f0  47882  10759  \n",
       "142a09741fdd4daa878d6ae007201e43  58155  14841  \n",
       "9170c31a02014b56bb4cec2105086f00   7995   4289  \n",
       "c19353bdbc7a43ae98b27db202e7c908  99999  99999  \n",
       "\n",
       "[1752 rows x 16 columns]"
      ]
     },
     "execution_count": 73,
     "metadata": {},
     "output_type": "execute_result"
    }
   ],
   "source": [
    "k_dramas = pd.read_csv('./../data/csv/korean_drama.csv')\n",
    "k_dramas.set_index('kdrama_id', inplace=True)\n",
    "k_dramas"
   ]
  },
  {
   "cell_type": "code",
   "execution_count": 74,
   "metadata": {},
   "outputs": [
    {
     "data": {
      "text/html": [
       "<pre style=\"white-space:pre;overflow-x:auto;line-height:normal;font-family:Menlo,'DejaVu Sans Mono',consolas,'Courier New',monospace\">k_dramas has <span style=\"color: #008080; text-decoration-color: #008080; font-weight: bold\">1752</span> rows and <span style=\"color: #008080; text-decoration-color: #008080; font-weight: bold\">16</span> columns\n",
       "</pre>\n"
      ],
      "text/plain": [
       "k_dramas has \u001b[1;36m1752\u001b[0m rows and \u001b[1;36m16\u001b[0m columns\n"
      ]
     },
     "metadata": {},
     "output_type": "display_data"
    }
   ],
   "source": [
    "print(f'k_dramas has {k_dramas.shape[0]} rows and {k_dramas.shape[1]} columns')"
   ]
  },
  {
   "cell_type": "markdown",
   "metadata": {},
   "source": [
    "## Análisis Exploratorio de Datos Faltantes"
   ]
  },
  {
   "cell_type": "code",
   "execution_count": 75,
   "metadata": {},
   "outputs": [],
   "source": [
    "isna_table = k_dramas.isna()"
   ]
  },
  {
   "cell_type": "code",
   "execution_count": 76,
   "metadata": {},
   "outputs": [
    {
     "data": {
      "text/html": [
       "<pre style=\"white-space:pre;overflow-x:auto;line-height:normal;font-family:Menlo,'DejaVu Sans Mono',consolas,'Courier New',monospace\"><span style=\"text-decoration: underline\">NA count per column</span>: \n",
       "\n",
       "drama_name        <span style=\"color: #008080; text-decoration-color: #008080; font-weight: bold\">0</span>\n",
       "year              <span style=\"color: #008080; text-decoration-color: #008080; font-weight: bold\">0</span>\n",
       "director        <span style=\"color: #008080; text-decoration-color: #008080; font-weight: bold\">716</span>\n",
       "screenwriter    <span style=\"color: #008080; text-decoration-color: #008080; font-weight: bold\">793</span>\n",
       "country           <span style=\"color: #008080; text-decoration-color: #008080; font-weight: bold\">0</span>\n",
       "type              <span style=\"color: #008080; text-decoration-color: #008080; font-weight: bold\">0</span>\n",
       "tot_eps           <span style=\"color: #008080; text-decoration-color: #008080; font-weight: bold\">0</span>\n",
       "duration         <span style=\"color: #008080; text-decoration-color: #008080; font-weight: bold\">24</span>\n",
       "start_dt          <span style=\"color: #008080; text-decoration-color: #008080; font-weight: bold\">0</span>\n",
       "end_dt            <span style=\"color: #008080; text-decoration-color: #008080; font-weight: bold\">0</span>\n",
       "aired_on        <span style=\"color: #008080; text-decoration-color: #008080; font-weight: bold\">232</span>\n",
       "org_net         <span style=\"color: #008080; text-decoration-color: #008080; font-weight: bold\">408</span>\n",
       "content_rt        <span style=\"color: #008080; text-decoration-color: #008080; font-weight: bold\">0</span>\n",
       "synopsis        <span style=\"color: #008080; text-decoration-color: #008080; font-weight: bold\">168</span>\n",
       "rank              <span style=\"color: #008080; text-decoration-color: #008080; font-weight: bold\">0</span>\n",
       "pop               <span style=\"color: #008080; text-decoration-color: #008080; font-weight: bold\">0</span>\n",
       "dtype: int64\n",
       "</pre>\n"
      ],
      "text/plain": [
       "\u001b[4mNA count per column\u001b[0m: \n",
       "\n",
       "drama_name        \u001b[1;36m0\u001b[0m\n",
       "year              \u001b[1;36m0\u001b[0m\n",
       "director        \u001b[1;36m716\u001b[0m\n",
       "screenwriter    \u001b[1;36m793\u001b[0m\n",
       "country           \u001b[1;36m0\u001b[0m\n",
       "type              \u001b[1;36m0\u001b[0m\n",
       "tot_eps           \u001b[1;36m0\u001b[0m\n",
       "duration         \u001b[1;36m24\u001b[0m\n",
       "start_dt          \u001b[1;36m0\u001b[0m\n",
       "end_dt            \u001b[1;36m0\u001b[0m\n",
       "aired_on        \u001b[1;36m232\u001b[0m\n",
       "org_net         \u001b[1;36m408\u001b[0m\n",
       "content_rt        \u001b[1;36m0\u001b[0m\n",
       "synopsis        \u001b[1;36m168\u001b[0m\n",
       "rank              \u001b[1;36m0\u001b[0m\n",
       "pop               \u001b[1;36m0\u001b[0m\n",
       "dtype: int64\n"
      ]
     },
     "metadata": {},
     "output_type": "display_data"
    }
   ],
   "source": [
    "na_count_per_column = isna_table.sum()\n",
    "print(f'[underline]NA count per column[/underline]: \\n\\n{na_count_per_column}')"
   ]
  },
  {
   "cell_type": "code",
   "execution_count": 77,
   "metadata": {},
   "outputs": [
    {
     "data": {
      "text/html": [
       "<pre style=\"white-space:pre;overflow-x:auto;line-height:normal;font-family:Menlo,'DejaVu Sans Mono',consolas,'Courier New',monospace\">Total NA count: <span style=\"color: #008080; text-decoration-color: #008080; font-weight: bold\">2341</span>\n",
       "</pre>\n"
      ],
      "text/plain": [
       "Total NA count: \u001b[1;36m2341\u001b[0m\n"
      ]
     },
     "metadata": {},
     "output_type": "display_data"
    }
   ],
   "source": [
    "na_tot_count = na_count_per_column.sum()\n",
    "print(f'Total NA count: {na_tot_count}')"
   ]
  },
  {
   "cell_type": "code",
   "execution_count": 78,
   "metadata": {},
   "outputs": [
    {
     "data": {
      "text/html": [
       "<pre style=\"white-space:pre;overflow-x:auto;line-height:normal;font-family:Menlo,'DejaVu Sans Mono',consolas,'Courier New',monospace\">Porcentage NA: <span style=\"color: #008080; text-decoration-color: #008080; font-weight: bold\">8.35</span>%\n",
       "</pre>\n"
      ],
      "text/plain": [
       "Porcentage NA: \u001b[1;36m8.35\u001b[0m%\n"
      ]
     },
     "metadata": {},
     "output_type": "display_data"
    }
   ],
   "source": [
    "porcentage_na = (na_tot_count / k_dramas.size) * 100\n",
    "print(f'Porcentage NA: {porcentage_na:.2f}%')"
   ]
  },
  {
   "cell_type": "markdown",
   "metadata": {},
   "source": [
    "## Análisis Exploratorio de Datos"
   ]
  },
  {
   "cell_type": "code",
   "execution_count": 79,
   "metadata": {},
   "outputs": [
    {
     "name": "stdout",
     "output_type": "stream",
     "text": [
      "<class 'pandas.core.frame.DataFrame'>\n",
      "Index: 1752 entries, 661d4193916c4e71a2c70473ab11e9e8 to c19353bdbc7a43ae98b27db202e7c908\n",
      "Data columns (total 16 columns):\n",
      " #   Column        Non-Null Count  Dtype  \n",
      "---  ------        --------------  -----  \n",
      " 0   drama_name    1752 non-null   object \n",
      " 1   year          1752 non-null   int64  \n",
      " 2   director      1036 non-null   object \n",
      " 3   screenwriter  959 non-null    object \n",
      " 4   country       1752 non-null   object \n",
      " 5   type          1752 non-null   object \n",
      " 6   tot_eps       1752 non-null   int64  \n",
      " 7   duration      1728 non-null   float64\n",
      " 8   start_dt      1752 non-null   object \n",
      " 9   end_dt        1752 non-null   object \n",
      " 10  aired_on      1520 non-null   object \n",
      " 11  org_net       1344 non-null   object \n",
      " 12  content_rt    1752 non-null   object \n",
      " 13  synopsis      1584 non-null   object \n",
      " 14  rank          1752 non-null   int64  \n",
      " 15  pop           1752 non-null   int64  \n",
      "dtypes: float64(1), int64(4), object(11)\n",
      "memory usage: 232.7+ KB\n"
     ]
    }
   ],
   "source": [
    "k_dramas.info()"
   ]
  },
  {
   "cell_type": "code",
   "execution_count": 80,
   "metadata": {},
   "outputs": [
    {
     "data": {
      "text/html": [
       "<div>\n",
       "<style scoped>\n",
       "    .dataframe tbody tr th:only-of-type {\n",
       "        vertical-align: middle;\n",
       "    }\n",
       "\n",
       "    .dataframe tbody tr th {\n",
       "        vertical-align: top;\n",
       "    }\n",
       "\n",
       "    .dataframe thead th {\n",
       "        text-align: right;\n",
       "    }\n",
       "</style>\n",
       "<table border=\"1\" class=\"dataframe\">\n",
       "  <thead>\n",
       "    <tr style=\"text-align: right;\">\n",
       "      <th></th>\n",
       "      <th>year</th>\n",
       "      <th>tot_eps</th>\n",
       "      <th>duration</th>\n",
       "      <th>rank</th>\n",
       "      <th>pop</th>\n",
       "    </tr>\n",
       "  </thead>\n",
       "  <tbody>\n",
       "    <tr>\n",
       "      <th>count</th>\n",
       "      <td>1752.000000</td>\n",
       "      <td>1752.000000</td>\n",
       "      <td>1728.000000</td>\n",
       "      <td>1752.000000</td>\n",
       "      <td>1752.000000</td>\n",
       "    </tr>\n",
       "    <tr>\n",
       "      <th>mean</th>\n",
       "      <td>2019.006849</td>\n",
       "      <td>18.996005</td>\n",
       "      <td>2149.791667</td>\n",
       "      <td>22247.869292</td>\n",
       "      <td>22153.746575</td>\n",
       "    </tr>\n",
       "    <tr>\n",
       "      <th>std</th>\n",
       "      <td>2.317455</td>\n",
       "      <td>25.618394</td>\n",
       "      <td>1532.133619</td>\n",
       "      <td>27688.839480</td>\n",
       "      <td>37776.993814</td>\n",
       "    </tr>\n",
       "    <tr>\n",
       "      <th>min</th>\n",
       "      <td>2015.000000</td>\n",
       "      <td>1.000000</td>\n",
       "      <td>60.000000</td>\n",
       "      <td>9.000000</td>\n",
       "      <td>1.000000</td>\n",
       "    </tr>\n",
       "    <tr>\n",
       "      <th>25%</th>\n",
       "      <td>2017.000000</td>\n",
       "      <td>8.000000</td>\n",
       "      <td>720.000000</td>\n",
       "      <td>2441.500000</td>\n",
       "      <td>915.750000</td>\n",
       "    </tr>\n",
       "    <tr>\n",
       "      <th>50%</th>\n",
       "      <td>2019.000000</td>\n",
       "      <td>12.000000</td>\n",
       "      <td>1800.000000</td>\n",
       "      <td>6265.500000</td>\n",
       "      <td>3698.500000</td>\n",
       "    </tr>\n",
       "    <tr>\n",
       "      <th>75%</th>\n",
       "      <td>2021.000000</td>\n",
       "      <td>16.000000</td>\n",
       "      <td>3600.000000</td>\n",
       "      <td>49204.500000</td>\n",
       "      <td>12086.250000</td>\n",
       "    </tr>\n",
       "    <tr>\n",
       "      <th>max</th>\n",
       "      <td>2023.000000</td>\n",
       "      <td>150.000000</td>\n",
       "      <td>9180.000000</td>\n",
       "      <td>99999.000000</td>\n",
       "      <td>99999.000000</td>\n",
       "    </tr>\n",
       "  </tbody>\n",
       "</table>\n",
       "</div>"
      ],
      "text/plain": [
       "              year      tot_eps     duration          rank           pop\n",
       "count  1752.000000  1752.000000  1728.000000   1752.000000   1752.000000\n",
       "mean   2019.006849    18.996005  2149.791667  22247.869292  22153.746575\n",
       "std       2.317455    25.618394  1532.133619  27688.839480  37776.993814\n",
       "min    2015.000000     1.000000    60.000000      9.000000      1.000000\n",
       "25%    2017.000000     8.000000   720.000000   2441.500000    915.750000\n",
       "50%    2019.000000    12.000000  1800.000000   6265.500000   3698.500000\n",
       "75%    2021.000000    16.000000  3600.000000  49204.500000  12086.250000\n",
       "max    2023.000000   150.000000  9180.000000  99999.000000  99999.000000"
      ]
     },
     "execution_count": 80,
     "metadata": {},
     "output_type": "execute_result"
    }
   ],
   "source": [
    "k_dramas.describe()"
   ]
  },
  {
   "cell_type": "code",
   "execution_count": 81,
   "metadata": {},
   "outputs": [
    {
     "data": {
      "text/plain": [
       "<Axes: >"
      ]
     },
     "execution_count": 81,
     "metadata": {},
     "output_type": "execute_result"
    },
    {
     "data": {
      "image/png": "[encoded data removed]",
      "text/plain": [
       "<Figure size 1400x600 with 1 Axes>"
      ]
     },
     "metadata": {},
     "output_type": "display_data"
    }
   ],
   "source": [
    "k_dramas['tot_eps'].plot(kind='box', vert=False, figsize=(14, 6), grid=True)"
   ]
  },
  {
   "cell_type": "code",
   "execution_count": 82,
   "metadata": {},
   "outputs": [
    {
     "data": {
      "text/plain": [
       "<Axes: >"
      ]
     },
     "execution_count": 82,
     "metadata": {},
     "output_type": "execute_result"
    },
    {
     "data": {
      "image/png": "[encoded data removed]",
      "text/plain": [
       "<Figure size 1400x600 with 1 Axes>"
      ]
     },
     "metadata": {},
     "output_type": "display_data"
    }
   ],
   "source": [
    "k_dramas['duration'].plot(kind='box', vert=False, figsize=(14, 6), grid=True)"
   ]
  },
  {
   "cell_type": "code",
   "execution_count": 83,
   "metadata": {},
   "outputs": [
    {
     "data": {
      "text/plain": [
       "<Axes: xlabel='tot_eps', ylabel='duration'>"
      ]
     },
     "execution_count": 83,
     "metadata": {},
     "output_type": "execute_result"
    },
    {
     "data": {
      "image/png": "[encoded data removed]",
      "text/plain": [
       "<Figure size 1400x600 with 1 Axes>"
      ]
     },
     "metadata": {},
     "output_type": "display_data"
    }
   ],
   "source": [
    "k_dramas.plot(kind='scatter', x='tot_eps', y='duration', figsize=(14, 6), grid=True)"
   ]
  },
  {
   "cell_type": "code",
   "execution_count": 84,
   "metadata": {},
   "outputs": [
    {
     "data": {
      "text/html": [
       "<div>\n",
       "<style scoped>\n",
       "    .dataframe tbody tr th:only-of-type {\n",
       "        vertical-align: middle;\n",
       "    }\n",
       "\n",
       "    .dataframe tbody tr th {\n",
       "        vertical-align: top;\n",
       "    }\n",
       "\n",
       "    .dataframe thead th {\n",
       "        text-align: right;\n",
       "    }\n",
       "</style>\n",
       "<table border=\"1\" class=\"dataframe\">\n",
       "  <thead>\n",
       "    <tr style=\"text-align: right;\">\n",
       "      <th></th>\n",
       "      <th>drama_name</th>\n",
       "      <th>year</th>\n",
       "      <th>director</th>\n",
       "      <th>screenwriter</th>\n",
       "      <th>country</th>\n",
       "      <th>type</th>\n",
       "      <th>tot_eps</th>\n",
       "      <th>duration</th>\n",
       "      <th>start_dt</th>\n",
       "      <th>end_dt</th>\n",
       "      <th>aired_on</th>\n",
       "      <th>org_net</th>\n",
       "      <th>content_rt</th>\n",
       "      <th>synopsis</th>\n",
       "      <th>rank</th>\n",
       "      <th>pop</th>\n",
       "    </tr>\n",
       "    <tr>\n",
       "      <th>kdrama_id</th>\n",
       "      <th></th>\n",
       "      <th></th>\n",
       "      <th></th>\n",
       "      <th></th>\n",
       "      <th></th>\n",
       "      <th></th>\n",
       "      <th></th>\n",
       "      <th></th>\n",
       "      <th></th>\n",
       "      <th></th>\n",
       "      <th></th>\n",
       "      <th></th>\n",
       "      <th></th>\n",
       "      <th></th>\n",
       "      <th></th>\n",
       "      <th></th>\n",
       "    </tr>\n",
       "  </thead>\n",
       "  <tbody>\n",
       "    <tr>\n",
       "      <th>b6e803ce495e4b3abcd8a673bc839f49</th>\n",
       "      <td>Time of Miracle: Loss Time</td>\n",
       "      <td>2016</td>\n",
       "      <td>NaN</td>\n",
       "      <td>NaN</td>\n",
       "      <td>South Korea</td>\n",
       "      <td>Drama</td>\n",
       "      <td>2</td>\n",
       "      <td>9180.0</td>\n",
       "      <td>2016-02-10</td>\n",
       "      <td>2016-02-17</td>\n",
       "      <td>Wednesday</td>\n",
       "      <td>KBS1</td>\n",
       "      <td>Not Yet Rated</td>\n",
       "      <td>A comedy about people who are facing sudden de...</td>\n",
       "      <td>44251</td>\n",
       "      <td>99999</td>\n",
       "    </tr>\n",
       "  </tbody>\n",
       "</table>\n",
       "</div>"
      ],
      "text/plain": [
       "                                                  drama_name  year director  \\\n",
       "kdrama_id                                                                     \n",
       "b6e803ce495e4b3abcd8a673bc839f49  Time of Miracle: Loss Time  2016      NaN   \n",
       "\n",
       "                                 screenwriter      country   type  tot_eps  \\\n",
       "kdrama_id                                                                    \n",
       "b6e803ce495e4b3abcd8a673bc839f49          NaN  South Korea  Drama        2   \n",
       "\n",
       "                                  duration    start_dt      end_dt   aired_on  \\\n",
       "kdrama_id                                                                       \n",
       "b6e803ce495e4b3abcd8a673bc839f49    9180.0  2016-02-10  2016-02-17  Wednesday   \n",
       "\n",
       "                                 org_net     content_rt  \\\n",
       "kdrama_id                                                 \n",
       "b6e803ce495e4b3abcd8a673bc839f49    KBS1  Not Yet Rated   \n",
       "\n",
       "                                                                           synopsis  \\\n",
       "kdrama_id                                                                             \n",
       "b6e803ce495e4b3abcd8a673bc839f49  A comedy about people who are facing sudden de...   \n",
       "\n",
       "                                   rank    pop  \n",
       "kdrama_id                                       \n",
       "b6e803ce495e4b3abcd8a673bc839f49  44251  99999  "
      ]
     },
     "execution_count": 84,
     "metadata": {},
     "output_type": "execute_result"
    }
   ],
   "source": [
    "k_dramas[k_dramas['duration'] > 8000]"
   ]
  },
  {
   "cell_type": "markdown",
   "metadata": {},
   "source": [
    "Se descubrió que la duración puede que no sea por el dorama completo, sino por episodio. Por lo que se procede a hacer una nueva columna con la duración total del dorama."
   ]
  },
  {
   "cell_type": "code",
   "execution_count": 85,
   "metadata": {},
   "outputs": [],
   "source": [
    "k_dramas['tot_duration'] = k_dramas['tot_eps'] * k_dramas['duration']"
   ]
  },
  {
   "cell_type": "code",
   "execution_count": 86,
   "metadata": {},
   "outputs": [
    {
     "data": {
      "text/plain": [
       "<Axes: xlabel='tot_eps', ylabel='tot_duration'>"
      ]
     },
     "execution_count": 86,
     "metadata": {},
     "output_type": "execute_result"
    },
    {
     "data": {
      "image/png": "[encoded data removed]",
      "text/plain": [
       "<Figure size 1400x600 with 1 Axes>"
      ]
     },
     "metadata": {},
     "output_type": "display_data"
    }
   ],
   "source": [
    "k_dramas.plot(kind='scatter', x='tot_eps', y='tot_duration', figsize=(14, 6), grid=True)"
   ]
  }
 ],
 "metadata": {
  "kernelspec": {
   "display_name": "Python 3",
   "language": "python",
   "name": "python3"
  },
  "language_info": {
   "codemirror_mode": {
    "name": "ipython",
    "version": 3
   },
   "file_extension": ".py",
   "mimetype": "text/x-python",
   "name": "python",
   "nbconvert_exporter": "python",
   "pygments_lexer": "ipython3",
   "version": "3.11.4"
  },
  "orig_nbformat": 4
 },
 "nbformat": 4,
 "nbformat_minor": 2
}
